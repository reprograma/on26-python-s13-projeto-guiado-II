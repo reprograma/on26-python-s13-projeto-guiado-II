{
 "cells": [
  {
   "cell_type": "markdown",
   "id": "3fb51551",
   "metadata": {},
   "source": [
    "## Banco de dados"
   ]
  },
  {
   "cell_type": "code",
   "execution_count": 17,
   "id": "6f065d6e",
   "metadata": {},
   "outputs": [],
   "source": [
    "import csv\n",
    "import sqlite3"
   ]
  },
  {
   "cell_type": "code",
   "execution_count": 18,
   "id": "a7aa9973",
   "metadata": {},
   "outputs": [],
   "source": [
    "file = open(\"estilo_vida.csv\", encoding= 'latin-1'\n",
    " ) "
   ]
  },
  {
   "cell_type": "code",
   "execution_count": 19,
   "id": "eaaee9c6",
   "metadata": {},
   "outputs": [],
   "source": [
    "conteudo = csv.reader(file)\n",
    "\n",
    "connection = sqlite3.connect(\"Banco_estilo_vida.db\")\n",
    "\n",
    "cursor = connection.cursor()"
   ]
  },
  {
   "cell_type": "code",
   "execution_count": 20,
   "id": "25d07ce5",
   "metadata": {},
   "outputs": [
    {
     "data": {
      "text/plain": [
       "<sqlite3.Cursor at 0x196b399f940>"
      ]
     },
     "execution_count": 20,
     "metadata": {},
     "output_type": "execute_result"
    }
   ],
   "source": [
    "\n",
    "cursor.execute('''CREATE TABLE IF NOT EXISTS estilo_vida(\n",
    "    Person ID INT,\n",
    "    Gender VARCHAR,\n",
    "    Age FLOAR, \n",
    "    Occupation VARCHAR,\n",
    "    Sleep Duration FLOAR,\n",
    "    Quality of Sleep FLOAR,\n",
    "    Physical Activity Level FLOAT,\n",
    "    Stress Level FLOAT,\n",
    "    BMI Category VARCHAR,\n",
    "    Blood Pressure FLOAR,\n",
    "    Heart Rate FLOAR, \n",
    "    Daily Steps FLOAR,\n",
    "    Sleep Disorder VARCHAR\n",
    "    \n",
    ")''')"
   ]
  },
  {
   "cell_type": "code",
   "execution_count": 43,
   "id": "8a047292",
   "metadata": {},
   "outputs": [],
   "source": [
    "\n",
    "inserir_conteudo = \"INSERT INTO estilo_vida  (Person ID,Gender,Age,Occupation,Sleep Duration,Quality of Sleep,Physical Activity Level,Stress Level,BMI Category,Blood Pressure,Heart Rate,Daily Steps,Sleep Disorder)VALUES(?, ?, ?, ?, ?, ?, ?, ?, ?, ?, ?, ?)\"\n",
    "\n",
    "#valores = (Person ID,Gender,Age,Occupation,Sleep Duration,Quality of Sleep,Physical Activity Level,Stress Level,BMI Category,Blood Pressure,Heart Rate,Daily Steps,Sleep Disorder)\n",
    "\n",
    "#execute(inserir_conteudo, conteudo)\n",
    "\n"
   ]
  },
  {
   "cell_type": "code",
   "execution_count": 22,
   "id": "51ed46b3",
   "metadata": {},
   "outputs": [],
   "source": [
    "selecionar_tudo = \"SELECT * FROM estilo_vida\"\n",
    "entradas = cursor.execute(selecionar_tudo).fetchall()"
   ]
  },
  {
   "cell_type": "code",
   "execution_count": 23,
   "id": "f30ba732",
   "metadata": {},
   "outputs": [],
   "source": [
    "for entrada in entradas:\n",
    "  print(entrada)"
   ]
  },
  {
   "cell_type": "code",
   "execution_count": 24,
   "id": "a7dcca72",
   "metadata": {},
   "outputs": [],
   "source": [
    "connection.commit()\n",
    "connection.close()"
   ]
  },
  {
   "cell_type": "code",
   "execution_count": null,
   "metadata": {},
   "outputs": [],
   "source": []
  },
  {
   "cell_type": "code",
   "execution_count": 47,
   "id": "676a9111",
   "metadata": {},
   "outputs": [
    {
     "ename": "NameError",
     "evalue": "name 'df' is not defined",
     "output_type": "error",
     "traceback": [
      "\u001b[1;31m---------------------------------------------------------------------------\u001b[0m",
      "\u001b[1;31mNameError\u001b[0m                                 Traceback (most recent call last)",
      "\u001b[1;32mc:\\Users\\marci\\estudos\\semana13\\on26-python-s13-projeto-guiado-II\\exercicios\\para-casa\\Banco de dados casa.ipynb Cell 10\u001b[0m line \u001b[0;36m1\n\u001b[1;32m----> <a href='vscode-notebook-cell:/c%3A/Users/marci/estudos/semana13/on26-python-s13-projeto-guiado-II/exercicios/para-casa/Banco%20de%20dados%20casa.ipynb#X12sZmlsZQ%3D%3D?line=0'>1</a>\u001b[0m horas_durmidas \u001b[39m=\u001b[39m df [\u001b[39m'\u001b[39m\u001b[39mage\u001b[39m\u001b[39m'\u001b[39m]\n\u001b[0;32m      <a href='vscode-notebook-cell:/c%3A/Users/marci/estudos/semana13/on26-python-s13-projeto-guiado-II/exercicios/para-casa/Banco%20de%20dados%20casa.ipynb#X12sZmlsZQ%3D%3D?line=1'>2</a>\u001b[0m \u001b[39m#horas_durmidas.value_counts()\u001b[39;00m\n",
      "\u001b[1;31mNameError\u001b[0m: name 'df' is not defined"
     ]
    }
   ],
   "source": [
    "horas_durmidas = df ['age']\n",
    "#horas_durmidas.value_counts()"
   ]
  }
 ],
 "metadata": {
  "kernelspec": {
   "display_name": "Python 3 (ipykernel)",
   "language": "python",
   "name": "python3"
  },
  "language_info": {
   "codemirror_mode": {
    "name": "ipython",
    "version": 3
   },
   "file_extension": ".py",
   "mimetype": "text/x-python",
   "name": "python",
   "nbconvert_exporter": "python",
   "pygments_lexer": "ipython3",
   "version": "3.11.4"
  }
 },
 "nbformat": 4,
 "nbformat_minor": 5
}
