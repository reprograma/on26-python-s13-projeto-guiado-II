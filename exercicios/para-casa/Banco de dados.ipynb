{
 "cells": [
  {
   "cell_type": "markdown",
   "id": "3fb51551",
   "metadata": {},
   "source": [
    "## Banco de dados"
   ]
  },
  {
   "cell_type": "code",
   "execution_count": 1,
   "id": "6f065d6e",
   "metadata": {},
   "outputs": [],
   "source": [
    "import csv\n",
    "import sqlite3"
   ]
  },
  {
   "cell_type": "code",
   "execution_count": 2,
   "id": "a7aa9973",
   "metadata": {},
   "outputs": [],
   "source": [
    "file = open(\"songspotify2000-2023.csv\", encoding= 'UTF-8') "
   ]
  },
  {
   "cell_type": "code",
   "execution_count": 3,
   "id": "eaaee9c6",
   "metadata": {},
   "outputs": [],
   "source": [
    "conteudo = csv.reader(file)\n",
    "\n",
    "connection = sqlite3.connect(\"spotify2000-2023.db\")\n",
    "\n",
    "cursor = connection.cursor()"
   ]
  },
  {
   "cell_type": "code",
   "execution_count": 4,
   "id": "25d07ce5",
   "metadata": {},
   "outputs": [
    {
     "data": {
      "text/plain": [
       "<sqlite3.Cursor at 0x1320c5ac740>"
      ]
     },
     "execution_count": 4,
     "metadata": {},
     "output_type": "execute_result"
    }
   ],
   "source": [
    "cursor.execute('''CREATE TABLE IF NOT EXISTS songs (\n",
    "    title TEXT,\n",
    "    artist TEXT,\n",
    "    top_genre TEXT,\n",
    "    year INT,\n",
    "    bpm INT,\n",
    "    energy FLOAT,\n",
    "    danceability FLOAT,\n",
    "    dB FLOAT,\n",
    "    liveness FLOAT,\n",
    "    valence FLOAT,\n",
    "    duration INT,\n",
    "    acousticness FLOAT,\n",
    "    speechiness FLOAT,\n",
    "    popularity FLOAT\n",
    ")''')\n"
   ]
  },
  {
   "cell_type": "code",
   "execution_count": 5,
   "id": "8a047292",
   "metadata": {},
   "outputs": [
    {
     "data": {
      "text/plain": [
       "<sqlite3.Cursor at 0x1320c5ac740>"
      ]
     },
     "execution_count": 5,
     "metadata": {},
     "output_type": "execute_result"
    }
   ],
   "source": [
    "\n",
    "inserir_conteudo = \"INSERT INTO songs (title, artist, top_genre, year, bpm, energy, danceability, dB, liveness, valence, duration, acousticness, speechiness, popularity) VALUES (?, ?, ?, ?, ?, ?, ?, ?, ?, ?, ?, ?, ?, ?)\"\n",
    "\n",
    "titulo = \"titulo\"\n",
    "artista = \"artista\"\n",
    "genero = \"genero\"\n",
    "ano = 2021\n",
    "beat = 108\n",
    "sentimento = 76\n",
    "dançante = 82\n",
    "volume = -4\n",
    "vivacidade = 12\n",
    "afetividade = 88\n",
    "duraçao = 173\n",
    "acustica = 9\n",
    "expressividade_vocal = 9\n",
    "popularidade = 87\n",
    "\n",
    "conteudo = [\n",
    "    (titulo, artista, genero, ano, beat, sentimento, dançante, volume, vivacidade, afetividade, duraçao, acustica, expressividade_vocal, popularidade)\n",
    "]\n",
    "\n",
    "cursor.executemany(inserir_conteudo, conteudo)"
   ]
  },
  {
   "cell_type": "code",
   "execution_count": 6,
   "id": "51ed46b3",
   "metadata": {},
   "outputs": [],
   "source": [
    "selecionar_tudo = \"SELECT * FROM songs\"\n",
    "entradas = cursor.execute(selecionar_tudo).fetchall()"
   ]
  },
  {
   "cell_type": "code",
   "execution_count": 7,
   "id": "f30ba732",
   "metadata": {},
   "outputs": [
    {
     "name": "stdout",
     "output_type": "stream",
     "text": [
      "('titulo', 'artista', 'genero', 2021, 108, 76.0, 82.0, -4.0, 12.0, 88.0, 173, 9.0, 9.0, 87.0)\n"
     ]
    }
   ],
   "source": [
    "for entrada in entradas:\n",
    "  print(entrada)"
   ]
  },
  {
   "cell_type": "code",
   "execution_count": null,
   "id": "a7dcca72",
   "metadata": {},
   "outputs": [],
   "source": [
    "connection.commit()\n",
    "connection.close()"
   ]
  },
  {
   "cell_type": "code",
   "execution_count": null,
   "id": "676a9111",
   "metadata": {},
   "outputs": [],
   "source": []
  }
 ],
 "metadata": {
  "kernelspec": {
   "display_name": "Python 3 (ipykernel)",
   "language": "python",
   "name": "python3"
  },
  "language_info": {
   "codemirror_mode": {
    "name": "ipython",
    "version": 3
   },
   "file_extension": ".py",
   "mimetype": "text/x-python",
   "name": "python",
   "nbconvert_exporter": "python",
   "pygments_lexer": "ipython3",
   "version": "3.11.4"
  }
 },
 "nbformat": 4,
 "nbformat_minor": 5
}
