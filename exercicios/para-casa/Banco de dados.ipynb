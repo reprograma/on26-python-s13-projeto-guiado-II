{
 "cells": [
  {
   "cell_type": "markdown",
   "id": "3fb51551",
   "metadata": {},
   "source": [
    "## Banco de dados"
   ]
  },
  {
   "cell_type": "code",
   "execution_count": 1,
   "id": "6f065d6e",
   "metadata": {},
   "outputs": [],
   "source": [
    "import csv\n",
    "import sqlite3"
   ]
  },
  {
   "cell_type": "code",
   "execution_count": 27,
   "id": "a7aa9973",
   "metadata": {},
   "outputs": [],
   "source": [
    "file = open(\"detalhamentocicloviario_recife.csv\", encoding= 'UTF-8') "
   ]
  },
  {
   "cell_type": "code",
   "execution_count": 28,
   "id": "eaaee9c6",
   "metadata": {},
   "outputs": [],
   "source": [
    "conteudo = csv.reader(file)\n",
    "\n",
    "connection = sqlite3.connect(\"detalhamentobikerecife.db\")\n",
    "\n",
    "cursor = connection.cursor()"
   ]
  },
  {
   "cell_type": "code",
   "execution_count": 29,
   "id": "25d07ce5",
   "metadata": {},
   "outputs": [
    {
     "data": {
      "text/plain": [
       "<sqlite3.Cursor at 0x153cf99adc0>"
      ]
     },
     "execution_count": 29,
     "metadata": {},
     "output_type": "execute_result"
    }
   ],
   "source": [
    "\n",
    "cursor.execute ('''CREATE TABLE IF NOT EXISTS detalhamentobike (\n",
    "    id INTEGER PRIMARY KEY AUTOINCREMENT,\n",
    "    rota TEXT,\n",
    "    tipologia TEXT,\n",
    "    sentido TEXT, \n",
    "    percurso TEXT,\n",
    "    bairros TEXT,\n",
    "    extensao FLOAT,\n",
    "    inauguracao INT\n",
    "    \n",
    ")''')"
   ]
  },
  {
   "cell_type": "code",
   "execution_count": 30,
   "id": "8a047292",
   "metadata": {},
   "outputs": [
    {
     "data": {
      "text/plain": [
       "<sqlite3.Cursor at 0x153cf99adc0>"
      ]
     },
     "execution_count": 30,
     "metadata": {},
     "output_type": "execute_result"
    }
   ],
   "source": [
    "inserir_conteudo = \"INSERT INTO detalhamentobike (rota, tipologia, sentido, percurso, bairros, extensao, inauguracao) VALUES (?, ?, ?, ?, ?, ?, ?)\"\n",
    "\n",
    "valores = ('Ciclofaixa do Px', 'Ciclofaixa', 'Unidirecional', 'Início na Av. Caxangá com a Av. Mário Álvares Pereira de Lyra, Av. Mário Álvares Pereira de Lyra, Rua Manoel Estevão da Costa e Av. Mário Álvares de Lyra.', 'Cordeiro e Iputinga', 2.3, 2007)\n",
    "\n",
    "cursor.execute(inserir_conteudo, valores)\n"
   ]
  },
  {
   "cell_type": "code",
   "execution_count": 31,
   "id": "51ed46b3",
   "metadata": {},
   "outputs": [],
   "source": [
    "selecionar_tudo = \"SELECT * FROM detalhamentobike\"\n",
    "entradas = cursor.execute(selecionar_tudo).fetchall()"
   ]
  },
  {
   "cell_type": "code",
   "execution_count": 32,
   "id": "f30ba732",
   "metadata": {},
   "outputs": [
    {
     "name": "stdout",
     "output_type": "stream",
     "text": [
      "(1, 'Ciclofaixa do Px', 'Ciclofaixa', 'Unidirecional', 'Início na Av. Caxangá com a Av. Mário Álvares Pereira de Lyra, Av. Mário Álvares Pereira de Lyra, Rua Manoel Estevão da Costa e Av. Mário Álvares de Lyra.', 'Cordeiro e Iputinga', 2.3, 2007)\n",
      "(2, 'Ciclofaixa do Px', 'Ciclofaixa', 'Unidirecional', 'Início na Av. Caxangá com a Av. Mário Álvares Pereira de Lyra, Av. Mário Álvares Pereira de Lyra, Rua Manoel Estevão da Costa e Av. Mário Álvares de Lyra.', 'Cordeiro e Iputinga', 2.3, 2007)\n"
     ]
    }
   ],
   "source": [
    "for entrada in entradas:\n",
    "  print(entrada)"
   ]
  },
  {
   "cell_type": "code",
   "execution_count": 23,
   "id": "a7dcca72",
   "metadata": {},
   "outputs": [],
   "source": [
    "connection.commit()\n",
    "connection.close()"
   ]
  },
  {
   "cell_type": "code",
   "execution_count": null,
   "id": "676a9111",
   "metadata": {},
   "outputs": [],
   "source": []
  }
 ],
 "metadata": {
  "kernelspec": {
   "display_name": "Python 3 (ipykernel)",
   "language": "python",
   "name": "python3"
  },
  "language_info": {
   "codemirror_mode": {
    "name": "ipython",
    "version": 3
   },
   "file_extension": ".py",
   "mimetype": "text/x-python",
   "name": "python",
   "nbconvert_exporter": "python",
   "pygments_lexer": "ipython3",
   "version": "3.12.0"
  }
 },
 "nbformat": 4,
 "nbformat_minor": 5
}
