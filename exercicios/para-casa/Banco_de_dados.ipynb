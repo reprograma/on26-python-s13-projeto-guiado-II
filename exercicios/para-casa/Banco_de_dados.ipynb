{
 "cells": [
  {
   "cell_type": "code",
   "execution_count": 1,
   "metadata": {},
   "outputs": [],
   "source": [
    "import sqlite3\n",
    "import csv"
   ]
  },
  {
   "cell_type": "code",
   "execution_count": 2,
   "metadata": {},
   "outputs": [],
   "source": [
    "file = open(\"C:\\\\Users\\\\nargy\\\\Documents\\\\Estudos\\\\Semana-13\\\\on26-python-s13-projeto-guiado-II\\\\material\\\\Student Mental health.csv\")\n",
    "conteudo = csv.reader(file)"
   ]
  },
  {
   "cell_type": "code",
   "execution_count": 3,
   "metadata": {},
   "outputs": [
    {
     "data": {
      "text/plain": [
       "<sqlite3.Cursor at 0x1b131dad340>"
      ]
     },
     "execution_count": 3,
     "metadata": {},
     "output_type": "execute_result"
    }
   ],
   "source": [
    "connection = sqlite3.connect(\"Students.db\")\n",
    "cursor = connection.cursor()\n",
    "cursor.execute('''CREATE TABLE IF NOT EXISTS Students (\n",
    "                Id INTEGER PRIMARY KEY,\n",
    "                Timestamp TEXT,\n",
    "                \"Choose your gender\" TEXT,\n",
    "                Age INTEGER NOT NULL,\n",
    "                \"What is your course?\" TEXT,\n",
    "                \"Your current year of Study\" TEXT,\n",
    "                \"What is your CGPA?\" FLOAT,\n",
    "                \"Do you have Depression?\" TEXT,\n",
    "                \"Do you have Anxiety?\" TEXT,\n",
    "                \"Do you have Panic attack?\" TEXT,\n",
    "                \"Did you seek any specialist for a treatment?\")\n",
    "               ''')"
   ]
  },
  {
   "cell_type": "code",
   "execution_count": 4,
   "metadata": {},
   "outputs": [],
   "source": [
    "inserir_conteudo = \"INSERT INTO Students (Timestamp, \\\"Choose your gender\\\", Age, \\\"What is your course?\\\", \\\"Your current year of Study\\\", \\\"What is your CGPA?\\\", \\\"Do you have Depression?\\\", \\\"Do you have Anxiety?\\\", \\\"Do you have Panic attack?\\\", \\\"Did you seek any specialist for a treatment?\\\") VALUES (?, ?, ?, ?, ?, ?, ?, ?, ?, ?)\"\n",
    "for row in conteudo:\n",
    "    cursor.execute(inserir_conteudo, (row[0], row[1], row[2], row[3], row[4], row[5], row[6], row[7], row[8], row[9]))\n",
    "\n",
    "selecionar_tudo = \"SELECT * FROM Students\"\n",
    "entradas = cursor.fetchall()"
   ]
  },
  {
   "cell_type": "code",
   "execution_count": 5,
   "metadata": {},
   "outputs": [],
   "source": [
    "def excluir_registro(id):\n",
    "    cursor.execute(\"DELETE FROM Students WHERE Id = ?\", (id,))\n",
    "\n",
    "excluir_registro(1)"
   ]
  },
  {
   "cell_type": "code",
   "execution_count": 6,
   "metadata": {},
   "outputs": [],
   "source": [
    "connection.commit()\n",
    "connection.close()"
   ]
  }
 ],
 "metadata": {
  "kernelspec": {
   "display_name": "Python 3",
   "language": "python",
   "name": "python3"
  },
  "language_info": {
   "codemirror_mode": {
    "name": "ipython",
    "version": 3
   },
   "file_extension": ".py",
   "mimetype": "text/x-python",
   "name": "python",
   "nbconvert_exporter": "python",
   "pygments_lexer": "ipython3",
   "version": "3.11.6"
  }
 },
 "nbformat": 4,
 "nbformat_minor": 2
}
