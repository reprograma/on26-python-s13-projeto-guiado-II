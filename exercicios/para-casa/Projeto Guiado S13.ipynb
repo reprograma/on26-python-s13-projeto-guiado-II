{
 "cells": [
  {
   "cell_type": "markdown",
   "metadata": {},
   "source": [
    "## Análise dos dados: café e código\n",
    "\n",
    "A presente análise investiga o conjunto de dados públicos disponiblizado através da plataforma Kaggle (www.kaggle.com). Os  dados escolhido trazem como contexto o consumo de café no cotidiano de pessoas que trabalham na área de TI. \n",
    "\n",
    "### O conjunto de dados apresenta 9 colunas:\n",
    "\n",
    "1. CodingHours: horas codificando;\n",
    "2. CoffeeCupsPerDay: xícaras de cafés por dia;\n",
    "3. CoffeeTime: se o consumo de café se dá antes, durante ou depois de codar;\n",
    "4. CodingWithoutCoffee: se coda sem café;\n",
    "5. CoffeeType: o tipo de café que é consumido;\n",
    "6. CoffeeSolveBugs: se o consumo de café ajuda na solução de bugs;\n",
    "7. Gender: gênero; \n",
    "8. Country: país;\n",
    "9. AgeRange: faixa etária.\n",
    "\n",
    "Referência: https://www.kaggle.com/datasets/shrutikunapuli/coffee-and-code-dataset\n"
   ]
  },
  {
   "cell_type": "markdown",
   "metadata": {},
   "source": [
    "### De perto e de dentro: observando os dados"
   ]
  },
  {
   "cell_type": "code",
   "execution_count": 1,
   "metadata": {},
   "outputs": [],
   "source": [
    "#Importando as bibliotecas: Pandas e Matplotlib\n",
    "import pandas as pd\n",
    "import matplotlib.pyplot as plt"
   ]
  },
  {
   "cell_type": "code",
   "execution_count": 2,
   "metadata": {},
   "outputs": [
    {
     "data": {
      "text/html": [
       "<div>\n",
       "<style scoped>\n",
       "    .dataframe tbody tr th:only-of-type {\n",
       "        vertical-align: middle;\n",
       "    }\n",
       "\n",
       "    .dataframe tbody tr th {\n",
       "        vertical-align: top;\n",
       "    }\n",
       "\n",
       "    .dataframe thead th {\n",
       "        text-align: right;\n",
       "    }\n",
       "</style>\n",
       "<table border=\"1\" class=\"dataframe\">\n",
       "  <thead>\n",
       "    <tr style=\"text-align: right;\">\n",
       "      <th></th>\n",
       "      <th>CodingHours</th>\n",
       "      <th>CoffeeCupsPerDay</th>\n",
       "      <th>CoffeeTime</th>\n",
       "      <th>CodingWithoutCoffee</th>\n",
       "      <th>CoffeeType</th>\n",
       "      <th>CoffeeSolveBugs</th>\n",
       "      <th>Gender</th>\n",
       "      <th>Country</th>\n",
       "      <th>AgeRange</th>\n",
       "    </tr>\n",
       "  </thead>\n",
       "  <tbody>\n",
       "    <tr>\n",
       "      <th>0</th>\n",
       "      <td>8</td>\n",
       "      <td>2</td>\n",
       "      <td>Before coding</td>\n",
       "      <td>Yes</td>\n",
       "      <td>Caffè latte</td>\n",
       "      <td>Sometimes</td>\n",
       "      <td>Female</td>\n",
       "      <td>Lebanon</td>\n",
       "      <td>18 to 29</td>\n",
       "    </tr>\n",
       "    <tr>\n",
       "      <th>1</th>\n",
       "      <td>3</td>\n",
       "      <td>2</td>\n",
       "      <td>Before coding</td>\n",
       "      <td>Yes</td>\n",
       "      <td>Americano</td>\n",
       "      <td>Yes</td>\n",
       "      <td>Female</td>\n",
       "      <td>Lebanon</td>\n",
       "      <td>30 to 39</td>\n",
       "    </tr>\n",
       "    <tr>\n",
       "      <th>2</th>\n",
       "      <td>5</td>\n",
       "      <td>3</td>\n",
       "      <td>While coding</td>\n",
       "      <td>No</td>\n",
       "      <td>Nescafe</td>\n",
       "      <td>Yes</td>\n",
       "      <td>Female</td>\n",
       "      <td>Lebanon</td>\n",
       "      <td>18 to 29</td>\n",
       "    </tr>\n",
       "    <tr>\n",
       "      <th>3</th>\n",
       "      <td>8</td>\n",
       "      <td>2</td>\n",
       "      <td>Before coding</td>\n",
       "      <td>No</td>\n",
       "      <td>Nescafe</td>\n",
       "      <td>Yes</td>\n",
       "      <td>Male</td>\n",
       "      <td>Lebanon</td>\n",
       "      <td>NaN</td>\n",
       "    </tr>\n",
       "    <tr>\n",
       "      <th>4</th>\n",
       "      <td>10</td>\n",
       "      <td>3</td>\n",
       "      <td>While coding</td>\n",
       "      <td>Sometimes</td>\n",
       "      <td>Turkish</td>\n",
       "      <td>No</td>\n",
       "      <td>Male</td>\n",
       "      <td>Lebanon</td>\n",
       "      <td>18 to 29</td>\n",
       "    </tr>\n",
       "    <tr>\n",
       "      <th>...</th>\n",
       "      <td>...</td>\n",
       "      <td>...</td>\n",
       "      <td>...</td>\n",
       "      <td>...</td>\n",
       "      <td>...</td>\n",
       "      <td>...</td>\n",
       "      <td>...</td>\n",
       "      <td>...</td>\n",
       "      <td>...</td>\n",
       "    </tr>\n",
       "    <tr>\n",
       "      <th>95</th>\n",
       "      <td>6</td>\n",
       "      <td>2</td>\n",
       "      <td>Before coding</td>\n",
       "      <td>Yes</td>\n",
       "      <td>Nescafe</td>\n",
       "      <td>Yes</td>\n",
       "      <td>Male</td>\n",
       "      <td>Lebanon</td>\n",
       "      <td>18 to 29</td>\n",
       "    </tr>\n",
       "    <tr>\n",
       "      <th>96</th>\n",
       "      <td>4</td>\n",
       "      <td>1</td>\n",
       "      <td>Before coding</td>\n",
       "      <td>Sometimes</td>\n",
       "      <td>Nescafe</td>\n",
       "      <td>Sometimes</td>\n",
       "      <td>Female</td>\n",
       "      <td>Lebanon</td>\n",
       "      <td>18 to 29</td>\n",
       "    </tr>\n",
       "    <tr>\n",
       "      <th>97</th>\n",
       "      <td>10</td>\n",
       "      <td>3</td>\n",
       "      <td>Before coding</td>\n",
       "      <td>Yes</td>\n",
       "      <td>Cappuccino</td>\n",
       "      <td>Yes</td>\n",
       "      <td>Male</td>\n",
       "      <td>Lebanon</td>\n",
       "      <td>Under 18</td>\n",
       "    </tr>\n",
       "    <tr>\n",
       "      <th>98</th>\n",
       "      <td>2</td>\n",
       "      <td>2</td>\n",
       "      <td>While coding</td>\n",
       "      <td>Sometimes</td>\n",
       "      <td>Espresso (Short Black)</td>\n",
       "      <td>Sometimes</td>\n",
       "      <td>Female</td>\n",
       "      <td>Lebanon</td>\n",
       "      <td>18 to 29</td>\n",
       "    </tr>\n",
       "    <tr>\n",
       "      <th>99</th>\n",
       "      <td>10</td>\n",
       "      <td>4</td>\n",
       "      <td>Before coding</td>\n",
       "      <td>Sometimes</td>\n",
       "      <td>Double Espresso (Doppio)</td>\n",
       "      <td>Sometimes</td>\n",
       "      <td>Male</td>\n",
       "      <td>Lebanon</td>\n",
       "      <td>18 to 29</td>\n",
       "    </tr>\n",
       "  </tbody>\n",
       "</table>\n",
       "<p>100 rows × 9 columns</p>\n",
       "</div>"
      ],
      "text/plain": [
       "    CodingHours  CoffeeCupsPerDay     CoffeeTime CodingWithoutCoffee  \\\n",
       "0             8                 2  Before coding                 Yes   \n",
       "1             3                 2  Before coding                 Yes   \n",
       "2             5                 3   While coding                  No   \n",
       "3             8                 2  Before coding                  No   \n",
       "4            10                 3   While coding           Sometimes   \n",
       "..          ...               ...            ...                 ...   \n",
       "95            6                 2  Before coding                 Yes   \n",
       "96            4                 1  Before coding           Sometimes   \n",
       "97           10                 3  Before coding                 Yes   \n",
       "98            2                 2   While coding           Sometimes   \n",
       "99           10                 4  Before coding           Sometimes   \n",
       "\n",
       "                  CoffeeType CoffeeSolveBugs  Gender  Country  AgeRange  \n",
       "0                Caffè latte       Sometimes  Female  Lebanon  18 to 29  \n",
       "1                  Americano             Yes  Female  Lebanon  30 to 39  \n",
       "2                    Nescafe             Yes  Female  Lebanon  18 to 29  \n",
       "3                    Nescafe             Yes    Male  Lebanon       NaN  \n",
       "4                    Turkish              No    Male  Lebanon  18 to 29  \n",
       "..                       ...             ...     ...      ...       ...  \n",
       "95                   Nescafe             Yes    Male  Lebanon  18 to 29  \n",
       "96                   Nescafe       Sometimes  Female  Lebanon  18 to 29  \n",
       "97                Cappuccino             Yes    Male  Lebanon  Under 18  \n",
       "98    Espresso (Short Black)       Sometimes  Female  Lebanon  18 to 29  \n",
       "99  Double Espresso (Doppio)       Sometimes    Male  Lebanon  18 to 29  \n",
       "\n",
       "[100 rows x 9 columns]"
      ]
     },
     "execution_count": 2,
     "metadata": {},
     "output_type": "execute_result"
    }
   ],
   "source": [
    "#Usando a função \"read_csv\" para ler o arquivo, as 5 primeiras e 5 últimas linhas. \n",
    "df = pd.read_csv(\"CoffeeAndCode.csv\")\n",
    "df"
   ]
  },
  {
   "cell_type": "code",
   "execution_count": 3,
   "metadata": {},
   "outputs": [
    {
     "data": {
      "text/plain": [
       "CodingHours             int64\n",
       "CoffeeCupsPerDay        int64\n",
       "CoffeeTime             object\n",
       "CodingWithoutCoffee    object\n",
       "CoffeeType             object\n",
       "CoffeeSolveBugs        object\n",
       "Gender                 object\n",
       "Country                object\n",
       "AgeRange               object\n",
       "dtype: object"
      ]
     },
     "execution_count": 3,
     "metadata": {},
     "output_type": "execute_result"
    }
   ],
   "source": [
    "#Verificando os tipos de dados:\n",
    "df.dtypes"
   ]
  },
  {
   "cell_type": "code",
   "execution_count": 4,
   "metadata": {},
   "outputs": [
    {
     "data": {
      "text/html": [
       "<div>\n",
       "<style scoped>\n",
       "    .dataframe tbody tr th:only-of-type {\n",
       "        vertical-align: middle;\n",
       "    }\n",
       "\n",
       "    .dataframe tbody tr th {\n",
       "        vertical-align: top;\n",
       "    }\n",
       "\n",
       "    .dataframe thead th {\n",
       "        text-align: right;\n",
       "    }\n",
       "</style>\n",
       "<table border=\"1\" class=\"dataframe\">\n",
       "  <thead>\n",
       "    <tr style=\"text-align: right;\">\n",
       "      <th></th>\n",
       "      <th>CodingHours</th>\n",
       "      <th>CoffeeCupsPerDay</th>\n",
       "    </tr>\n",
       "  </thead>\n",
       "  <tbody>\n",
       "    <tr>\n",
       "      <th>count</th>\n",
       "      <td>100.000000</td>\n",
       "      <td>100.000000</td>\n",
       "    </tr>\n",
       "    <tr>\n",
       "      <th>mean</th>\n",
       "      <td>6.410000</td>\n",
       "      <td>2.890000</td>\n",
       "    </tr>\n",
       "    <tr>\n",
       "      <th>std</th>\n",
       "      <td>2.644205</td>\n",
       "      <td>1.613673</td>\n",
       "    </tr>\n",
       "    <tr>\n",
       "      <th>min</th>\n",
       "      <td>1.000000</td>\n",
       "      <td>1.000000</td>\n",
       "    </tr>\n",
       "    <tr>\n",
       "      <th>25%</th>\n",
       "      <td>4.000000</td>\n",
       "      <td>2.000000</td>\n",
       "    </tr>\n",
       "    <tr>\n",
       "      <th>50%</th>\n",
       "      <td>7.000000</td>\n",
       "      <td>2.500000</td>\n",
       "    </tr>\n",
       "    <tr>\n",
       "      <th>75%</th>\n",
       "      <td>8.000000</td>\n",
       "      <td>4.000000</td>\n",
       "    </tr>\n",
       "    <tr>\n",
       "      <th>max</th>\n",
       "      <td>10.000000</td>\n",
       "      <td>8.000000</td>\n",
       "    </tr>\n",
       "  </tbody>\n",
       "</table>\n",
       "</div>"
      ],
      "text/plain": [
       "       CodingHours  CoffeeCupsPerDay\n",
       "count   100.000000        100.000000\n",
       "mean      6.410000          2.890000\n",
       "std       2.644205          1.613673\n",
       "min       1.000000          1.000000\n",
       "25%       4.000000          2.000000\n",
       "50%       7.000000          2.500000\n",
       "75%       8.000000          4.000000\n",
       "max      10.000000          8.000000"
      ]
     },
     "execution_count": 4,
     "metadata": {},
     "output_type": "execute_result"
    }
   ],
   "source": [
    "#Verificando o resumo estatístico dos dados:\n",
    "df.describe()"
   ]
  },
  {
   "cell_type": "code",
   "execution_count": 5,
   "metadata": {},
   "outputs": [
    {
     "name": "stdout",
     "output_type": "stream",
     "text": [
      "Valores nulos por coluna do dataframe:\n",
      "CodingHours            0\n",
      "CoffeeCupsPerDay       0\n",
      "CoffeeTime             0\n",
      "CodingWithoutCoffee    0\n",
      "CoffeeType             1\n",
      "CoffeeSolveBugs        0\n",
      "Gender                 0\n",
      "Country                0\n",
      "AgeRange               2\n",
      "dtype: int64\n"
     ]
    }
   ],
   "source": [
    "#Verificando valores nulos no dataset:\n",
    "print(\"Valores nulos por coluna do dataframe:\")\n",
    "print(df.isnull().sum())"
   ]
  },
  {
   "cell_type": "code",
   "execution_count": 6,
   "metadata": {},
   "outputs": [
    {
     "data": {
      "text/plain": [
       "(97, 9)"
      ]
     },
     "execution_count": 6,
     "metadata": {},
     "output_type": "execute_result"
    }
   ],
   "source": [
    "#Removendo entradas (linhas) contendo valores nulos em colunas específicas:\n",
    "df = df.dropna(subset=['CoffeeType', 'AgeRange'])\n",
    "df.shape"
   ]
  },
  {
   "cell_type": "code",
   "execution_count": 7,
   "metadata": {},
   "outputs": [
    {
     "data": {
      "text/plain": [
       "(59, 9)"
      ]
     },
     "execution_count": 7,
     "metadata": {},
     "output_type": "execute_result"
    }
   ],
   "source": [
    "#Filtrando informações, nesse caso verifico a faixa etária contendo apenas os valore de 18 to 29 da coluna AgeRange:\n",
    "df_filtrado = df[df['AgeRange'].str.contains('18 to 29')]\n",
    "df_filtrado.shape"
   ]
  },
  {
   "cell_type": "code",
   "execution_count": 8,
   "metadata": {},
   "outputs": [
    {
     "data": {
      "image/png": "[encoded data removed]",
      "text/plain": [
       "<Figure size 640x480 with 1 Axes>"
      ]
     },
     "metadata": {},
     "output_type": "display_data"
    }
   ],
   "source": [
    "#Utilizando gráfico para verificar a distribuição de horas \n",
    "df['CodingHours'].plot.hist(bins=10,edgecolor='black')\n",
    "\n",
    "plt.xlabel('Horas codando')\n",
    "plt.ylabel('Quantidade')\n",
    "plt.title('Distribuição de Horas')\n",
    "\n",
    "plt.show()"
   ]
  },
  {
   "cell_type": "code",
   "execution_count": 9,
   "metadata": {},
   "outputs": [
    {
     "data": {
      "image/png": "[encoded data removed]",
      "text/plain": [
       "<Figure size 640x480 with 1 Axes>"
      ]
     },
     "metadata": {},
     "output_type": "display_data"
    }
   ],
   "source": [
    "#Qual é o gênero que mais consome café enquanto coda, segundo os dados: \n",
    "taxa_gender = df.groupby('Gender')['CoffeeCupsPerDay'].mean()\n",
    "taxa_gender.plot.bar()\n",
    "\n",
    "plt.xlabel('Gênero')\n",
    "plt.ylabel('Quantidade de horas')\n",
    "plt.title('Taxa de consumo por gênero')\n",
    "plt.show()"
   ]
  },
  {
   "cell_type": "code",
   "execution_count": 10,
   "metadata": {},
   "outputs": [
    {
     "data": {
      "text/plain": [
       "CoffeeType\n",
       "Nescafe                     30\n",
       "American Coffee             23\n",
       "Turkish                     19\n",
       "Espresso (Short Black)       8\n",
       "Cappuccino                   7\n",
       "Caffè latte                  5\n",
       "Double Espresso (Doppio)     3\n",
       "Americano                    2\n",
       "Name: count, dtype: int64"
      ]
     },
     "execution_count": 10,
     "metadata": {},
     "output_type": "execute_result"
    }
   ],
   "source": [
    "#Criando uma função para verificar o tipo de café mais consumido:\n",
    "tipo_cafe = df['CoffeeType'].value_counts()\n",
    "tipo_cafe"
   ]
  },
  {
   "cell_type": "code",
   "execution_count": 11,
   "metadata": {},
   "outputs": [
    {
     "data": {
      "image/png": "[encoded data removed]",
      "text/plain": [
       "<Figure size 640x480 with 1 Axes>"
      ]
     },
     "metadata": {},
     "output_type": "display_data"
    }
   ],
   "source": [
    "#Criando o gráfico segundo os dados anteriores\n",
    "tipo_cafe.plot(kind='bar');"
   ]
  },
  {
   "cell_type": "code",
   "execution_count": 12,
   "metadata": {},
   "outputs": [
    {
     "data": {
      "text/plain": [
       "CoffeeCupsPerDay\n",
       "2    32\n",
       "3    23\n",
       "1    16\n",
       "4    15\n",
       "5     3\n",
       "6     3\n",
       "7     3\n",
       "8     2\n",
       "Name: count, dtype: int64"
      ]
     },
     "execution_count": 12,
     "metadata": {},
     "output_type": "execute_result"
    }
   ],
   "source": [
    "#Usando a mesma função anterior \"value_counts\" para verificar a quantidade de copos consumidos por dia:\n",
    "quant_copos = df['CoffeeCupsPerDay'].value_counts()\n",
    "quant_copos"
   ]
  },
  {
   "cell_type": "code",
   "execution_count": 13,
   "metadata": {},
   "outputs": [
    {
     "data": {
      "image/png": "[encoded data removed]",
      "text/plain": [
       "<Figure size 640x480 with 1 Axes>"
      ]
     },
     "metadata": {},
     "output_type": "display_data"
    }
   ],
   "source": [
    "quant_copos.plot(kind='bar');"
   ]
  },
  {
   "cell_type": "markdown",
   "metadata": {},
   "source": [
    "### Algumas conclusões:\n",
    "\n",
    "- As pessoas que fazem parte desse conjunto de dados geralmente codam em média 8 horas por dia; \n",
    "- Segundo o conjunto de dados, homens consomem mais café enquanto codam;\n",
    "- O tipo de café mais consumido é o Nescafé;\n",
    "- E em média são 2 copos por dia.\n",
    "\n"
   ]
  }
 ],
 "metadata": {
  "kernelspec": {
   "display_name": "Python 3",
   "language": "python",
   "name": "python3"
  },
  "language_info": {
   "codemirror_mode": {
    "name": "ipython",
    "version": 3
   },
   "file_extension": ".py",
   "mimetype": "text/x-python",
   "name": "python",
   "nbconvert_exporter": "python",
   "pygments_lexer": "ipython3",
   "version": "3.11.5"
  }
 },
 "nbformat": 4,
 "nbformat_minor": 2
}
