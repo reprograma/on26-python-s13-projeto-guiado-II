{
 "cells": [
  {
   "cell_type": "code",
   "execution_count": 1,
   "metadata": {},
   "outputs": [],
   "source": [
    "import csv\n",
    "import sqlite3"
   ]
  },
  {
   "cell_type": "code",
   "execution_count": 2,
   "metadata": {},
   "outputs": [],
   "source": [
    "file = open(\"./amazon_brazil_products_2023.csv\", encoding= 'UTF-8') "
   ]
  },
  {
   "cell_type": "code",
   "execution_count": 3,
   "metadata": {},
   "outputs": [],
   "source": [
    "conteudo = csv.reader(file)\n",
    "\n",
    "connection = sqlite3.connect(\"banco_amazon.db\")\n",
    "\n",
    "cursor = connection.cursor()"
   ]
  },
  {
   "cell_type": "code",
   "execution_count": 4,
   "metadata": {},
   "outputs": [
    {
     "data": {
      "text/plain": [
       "<sqlite3.Cursor at 0x279ca907e40>"
      ]
     },
     "execution_count": 4,
     "metadata": {},
     "output_type": "execute_result"
    }
   ],
   "source": [
    "cursor.execute('''CREATE TABLE IF NOT EXISTS produtosamazon (\n",
    "    IDProduto INT,\n",
    "    ImagemdoProduto VARCHAR,\n",
    "    LinkdoProduto VARCHAR, \n",
    "    NotadoProduto FLOAT,\n",
    "    Feedbacks VARCHAR,\n",
    "    Preco FLOAT,\n",
    "    PrecoSemDesconto FLOAT,\n",
    "    Categoria VARCHAR,\n",
    "    BestSeller BOOLEAN,\n",
    "    CompradosMes INT\n",
    ")''')"
   ]
  },
  {
   "cell_type": "code",
   "execution_count": 5,
   "metadata": {},
   "outputs": [
    {
     "ename": "ProgrammingError",
     "evalue": "Incorrect number of bindings supplied. The current statement uses 10, and there are 11 supplied.",
     "output_type": "error",
     "traceback": [
      "\u001b[1;31m---------------------------------------------------------------------------\u001b[0m",
      "\u001b[1;31mProgrammingError\u001b[0m                          Traceback (most recent call last)",
      "\u001b[1;32mc:\\Users\\anasa\\OneDrive\\Documentos\\ex_pasta\\on26-python-s13-projeto-guiado-II\\exercicios\\para-casa\\amazon_bd.ipynb Cell 5\u001b[0m line \u001b[0;36m3\n\u001b[0;32m      <a href='vscode-notebook-cell:/c%3A/Users/anasa/OneDrive/Documentos/ex_pasta/on26-python-s13-projeto-guiado-II/exercicios/para-casa/amazon_bd.ipynb#W4sZmlsZQ%3D%3D?line=0'>1</a>\u001b[0m inserir_conteudo \u001b[39m=\u001b[39m \u001b[39m\"\u001b[39m\u001b[39mINSERT INTO produtosamazon (IDProduto, ImagemdoProduto, LinkdoProduto, NotadoProduto, Feedbacks, Preco, PrecoSemDesconto, Categoria, BestSeller, CompradosMes)VALUES(?, ?, ?, ?, ?, ?, ?, ?, ?, ?)\u001b[39m\u001b[39m\"\u001b[39m\n\u001b[1;32m----> <a href='vscode-notebook-cell:/c%3A/Users/anasa/OneDrive/Documentos/ex_pasta/on26-python-s13-projeto-guiado-II/exercicios/para-casa/amazon_bd.ipynb#W4sZmlsZQ%3D%3D?line=2'>3</a>\u001b[0m cursor\u001b[39m.\u001b[39;49mexecutemany(inserir_conteudo, conteudo)\n",
      "\u001b[1;31mProgrammingError\u001b[0m: Incorrect number of bindings supplied. The current statement uses 10, and there are 11 supplied."
     ]
    }
   ],
   "source": [
    "inserir_conteudo = \"INSERT INTO produtosamazon (IDProduto, ImagemdoProduto, LinkdoProduto, NotadoProduto, Feedbacks, Preco, PrecoSemDesconto, Categoria, BestSeller, CompradosMes)VALUES(?, ?, ?, ?, ?, ?, ?, ?, ?, ?)\"\n",
    "\n",
    "cursor.executemany(inserir_conteudo, conteudo)"
   ]
  },
  {
   "cell_type": "code",
   "execution_count": null,
   "metadata": {},
   "outputs": [],
   "source": [
    "selecionar_tudo = \"SELECT * FROM produtosamazon\"\n",
    "entradas = cursor.execute(selecionar_tudo).fetchall()"
   ]
  },
  {
   "cell_type": "code",
   "execution_count": null,
   "metadata": {},
   "outputs": [],
   "source": [
    "for entrada in entradas:\n",
    "  print(entrada)"
   ]
  },
  {
   "cell_type": "code",
   "execution_count": null,
   "metadata": {},
   "outputs": [],
   "source": [
    "connection.commit()\n",
    "connection.close()"
   ]
  }
 ],
 "metadata": {
  "kernelspec": {
   "display_name": "Python 3",
   "language": "python",
   "name": "python3"
  },
  "language_info": {
   "codemirror_mode": {
    "name": "ipython",
    "version": 3
   },
   "file_extension": ".py",
   "mimetype": "text/x-python",
   "name": "python",
   "nbconvert_exporter": "python",
   "pygments_lexer": "ipython3",
   "version": "3.10.11"
  }
 },
 "nbformat": 4,
 "nbformat_minor": 2
}
