{
 "cells": [
  {
   "cell_type": "code",
   "execution_count": 1,
   "metadata": {},
   "outputs": [],
   "source": [
    "#importando as bibliotecas\n",
    "import pandas as pd\n",
    "import matplotlib.pyplot as plt"
   ]
  },
  {
   "attachments": {},
   "cell_type": "markdown",
   "metadata": {},
   "source": [
    "## Análise sobre a Sindrome Metabólica: \n",
    "Nesse dataset contém informações sobre indivíduos com a Síndrome Metabólica, designa-se por síndrome metabólica a coexistência, num mesmo paciente, de um perímetro de cintura aumentado (superior a 94 centímetros para os homens, e superior a 80 centímetros para as mulheres) e de duas situações patológicas seguintes: alteração da glicemia de jejum ou diabetes, hipertensão arterial e dislipidemia (triglicerídeos e ou HDL alterados).\n",
    "\n",
    "Os doentes com a síndrome metabólica têm um risco 3,5 vezes maior de morte por doenças cardiovasculares, como enfarte do miocárdio e AVC. "
   ]
  },
  {
   "attachments": {},
   "cell_type": "markdown",
   "metadata": {},
   "source": [
    "### Descrição das colunas: \n",
    " * seqn: Número de Identificação sequencial.\n",
    " * Idade: Idade do indivíduo.\n",
    " * Sexo: Gênero do indivíduo, aqui utilizado M para masculino e F para feminino. \n",
    " * Conjugal: Estado civil do indivíduo. \n",
    " * Renda: Nível de renda, ou informações relacionadas a rendas. \n",
    " * Raça: Origem étnica ou racial de cada indivíduo. \n",
    " * CinturaCirc: Medição da circufência da cintura, em cm. \n",
    " * IMC: Índice de Massa Corporal. \n",
    " * Albuminúria: Medição de albumina na urina. \n",
    " * UrAlbCr: Relação de albumina/creatina urinária. \n",
    " * UricAcid: Níveis de ácido úrico no sangue.\n",
    " * Glicose no sangue: Níveis de glicose no sangue, um indicador de risco de diabetes.\n",
    " * HDL: Níveis de colesterol de lipoproteína de alta densidade (o colesterol “bom”).\n",
    "* Triglicerídeos: Níveis de triglicerídeos no sangue.\n",
    "* Síndrome Metabólica: Variável binária que indica (1) presença ou (0) ausência de síndrome metabólica."
   ]
  },
  {
   "cell_type": "code",
   "execution_count": 2,
   "metadata": {},
   "outputs": [
    {
     "data": {
      "text/html": [
       "<div>\n",
       "<style scoped>\n",
       "    .dataframe tbody tr th:only-of-type {\n",
       "        vertical-align: middle;\n",
       "    }\n",
       "\n",
       "    .dataframe tbody tr th {\n",
       "        vertical-align: top;\n",
       "    }\n",
       "\n",
       "    .dataframe thead th {\n",
       "        text-align: right;\n",
       "    }\n",
       "</style>\n",
       "<table border=\"1\" class=\"dataframe\">\n",
       "  <thead>\n",
       "    <tr style=\"text-align: right;\">\n",
       "      <th></th>\n",
       "      <th>seqn</th>\n",
       "      <th>Age</th>\n",
       "      <th>Sex</th>\n",
       "      <th>Marital</th>\n",
       "      <th>Income</th>\n",
       "      <th>Race</th>\n",
       "      <th>WaistCirc</th>\n",
       "      <th>BMI</th>\n",
       "      <th>Albuminuria</th>\n",
       "      <th>UrAlbCr</th>\n",
       "      <th>UricAcid</th>\n",
       "      <th>BloodGlucose</th>\n",
       "      <th>HDL</th>\n",
       "      <th>Triglycerides</th>\n",
       "      <th>MetabolicSyndrome</th>\n",
       "    </tr>\n",
       "  </thead>\n",
       "  <tbody>\n",
       "    <tr>\n",
       "      <th>0</th>\n",
       "      <td>62161</td>\n",
       "      <td>22</td>\n",
       "      <td>Male</td>\n",
       "      <td>Single</td>\n",
       "      <td>8200.0</td>\n",
       "      <td>White</td>\n",
       "      <td>81.0</td>\n",
       "      <td>23.3</td>\n",
       "      <td>0</td>\n",
       "      <td>3.88</td>\n",
       "      <td>4.9</td>\n",
       "      <td>92</td>\n",
       "      <td>41</td>\n",
       "      <td>84</td>\n",
       "      <td>0</td>\n",
       "    </tr>\n",
       "    <tr>\n",
       "      <th>1</th>\n",
       "      <td>62164</td>\n",
       "      <td>44</td>\n",
       "      <td>Female</td>\n",
       "      <td>Married</td>\n",
       "      <td>4500.0</td>\n",
       "      <td>White</td>\n",
       "      <td>80.1</td>\n",
       "      <td>23.2</td>\n",
       "      <td>0</td>\n",
       "      <td>8.55</td>\n",
       "      <td>4.5</td>\n",
       "      <td>82</td>\n",
       "      <td>28</td>\n",
       "      <td>56</td>\n",
       "      <td>0</td>\n",
       "    </tr>\n",
       "    <tr>\n",
       "      <th>2</th>\n",
       "      <td>62169</td>\n",
       "      <td>21</td>\n",
       "      <td>Male</td>\n",
       "      <td>Single</td>\n",
       "      <td>800.0</td>\n",
       "      <td>Asian</td>\n",
       "      <td>69.6</td>\n",
       "      <td>20.1</td>\n",
       "      <td>0</td>\n",
       "      <td>5.07</td>\n",
       "      <td>5.4</td>\n",
       "      <td>107</td>\n",
       "      <td>43</td>\n",
       "      <td>78</td>\n",
       "      <td>0</td>\n",
       "    </tr>\n",
       "    <tr>\n",
       "      <th>3</th>\n",
       "      <td>62172</td>\n",
       "      <td>43</td>\n",
       "      <td>Female</td>\n",
       "      <td>Single</td>\n",
       "      <td>2000.0</td>\n",
       "      <td>Black</td>\n",
       "      <td>120.4</td>\n",
       "      <td>33.3</td>\n",
       "      <td>0</td>\n",
       "      <td>5.22</td>\n",
       "      <td>5.0</td>\n",
       "      <td>104</td>\n",
       "      <td>73</td>\n",
       "      <td>141</td>\n",
       "      <td>0</td>\n",
       "    </tr>\n",
       "    <tr>\n",
       "      <th>4</th>\n",
       "      <td>62177</td>\n",
       "      <td>51</td>\n",
       "      <td>Male</td>\n",
       "      <td>Married</td>\n",
       "      <td>NaN</td>\n",
       "      <td>Asian</td>\n",
       "      <td>81.1</td>\n",
       "      <td>20.1</td>\n",
       "      <td>0</td>\n",
       "      <td>8.13</td>\n",
       "      <td>5.0</td>\n",
       "      <td>95</td>\n",
       "      <td>43</td>\n",
       "      <td>126</td>\n",
       "      <td>0</td>\n",
       "    </tr>\n",
       "  </tbody>\n",
       "</table>\n",
       "</div>"
      ],
      "text/plain": [
       "    seqn  Age     Sex  Marital  Income   Race  WaistCirc   BMI  Albuminuria  \\\n",
       "0  62161   22    Male   Single  8200.0  White       81.0  23.3            0   \n",
       "1  62164   44  Female  Married  4500.0  White       80.1  23.2            0   \n",
       "2  62169   21    Male   Single   800.0  Asian       69.6  20.1            0   \n",
       "3  62172   43  Female   Single  2000.0  Black      120.4  33.3            0   \n",
       "4  62177   51    Male  Married     NaN  Asian       81.1  20.1            0   \n",
       "\n",
       "   UrAlbCr  UricAcid  BloodGlucose  HDL  Triglycerides  MetabolicSyndrome  \n",
       "0     3.88       4.9            92   41             84                  0  \n",
       "1     8.55       4.5            82   28             56                  0  \n",
       "2     5.07       5.4           107   43             78                  0  \n",
       "3     5.22       5.0           104   73            141                  0  \n",
       "4     8.13       5.0            95   43            126                  0  "
      ]
     },
     "execution_count": 2,
     "metadata": {},
     "output_type": "execute_result"
    }
   ],
   "source": [
    "#csv original, em inglês\n",
    "df_original = pd.read_csv('Metabolic_Syndrome.csv')\n",
    "df_original.head()"
   ]
  },
  {
   "cell_type": "code",
   "execution_count": 3,
   "metadata": {},
   "outputs": [
    {
     "name": "stdout",
     "output_type": "stream",
     "text": [
      "<class 'pandas.core.frame.DataFrame'>\n",
      "RangeIndex: 2401 entries, 0 to 2400\n",
      "Data columns (total 15 columns):\n",
      " #   Column             Non-Null Count  Dtype  \n",
      "---  ------             --------------  -----  \n",
      " 0   seqn               2401 non-null   int64  \n",
      " 1   Age                2401 non-null   int64  \n",
      " 2   Sex                2401 non-null   object \n",
      " 3   Marital            2193 non-null   object \n",
      " 4   Income             2284 non-null   float64\n",
      " 5   Race               2401 non-null   object \n",
      " 6   WaistCirc          2316 non-null   float64\n",
      " 7   BMI                2375 non-null   float64\n",
      " 8   Albuminuria        2401 non-null   int64  \n",
      " 9   UrAlbCr            2401 non-null   float64\n",
      " 10  UricAcid           2401 non-null   float64\n",
      " 11  BloodGlucose       2401 non-null   int64  \n",
      " 12  HDL                2401 non-null   int64  \n",
      " 13  Triglycerides      2401 non-null   int64  \n",
      " 14  MetabolicSyndrome  2401 non-null   int64  \n",
      "dtypes: float64(5), int64(7), object(3)\n",
      "memory usage: 281.5+ KB\n"
     ]
    }
   ],
   "source": [
    "#abri as infos para saber os tipos\n",
    "df_original.info()"
   ]
  },
  {
   "cell_type": "code",
   "execution_count": 4,
   "metadata": {},
   "outputs": [
    {
     "data": {
      "text/plain": [
       "['seqn',\n",
       " 'Idade',\n",
       " 'Sexo',\n",
       " 'Conjugual',\n",
       " 'Renda',\n",
       " 'Raça',\n",
       " 'CircCintura',\n",
       " 'IMC',\n",
       " 'Albuminúria',\n",
       " 'UrAlbCr',\n",
       " 'AcidUric',\n",
       " 'GlicoseSangue',\n",
       " 'HDL',\n",
       " 'Triglicerídeos',\n",
       " 'SindromeMetabólica']"
      ]
     },
     "execution_count": 4,
     "metadata": {},
     "output_type": "execute_result"
    }
   ],
   "source": [
    "#traduzir de inglês para português: \n",
    "dict_tradutor = {\n",
    "    'seqn': 'seqn',\n",
    "    'Age' : 'Idade', \n",
    "    'Sex' : 'Sexo', \n",
    "    'Marital' : 'Conjugual', \n",
    "    'Income' : 'Renda', \n",
    "    'Race' : 'Raça', \n",
    "    'WaistCirc' : 'CircCintura',\n",
    "    'BMI' : 'IMC',\n",
    "    'Albuminuria' : 'Albuminúria', \n",
    "    'UrAlbCr' : 'UrAlbCr',\n",
    "    'UricAcid' : 'AcidUric',\n",
    "    'BloodGlucose' : 'GlicoseSangue',\n",
    "    'HDL' : 'HDL',\n",
    "    'Triglycerides' : 'Triglicerídeos',\n",
    "    'MetabolicSyndrome' : 'SindromeMetabólica' # 1 tem a SM, 0 não tem a presença. \n",
    "    \n",
    "}\n",
    "\n",
    "colunas_portugues = []\n",
    "\n",
    "for chave, valor in dict_tradutor.items():\n",
    "    colunas_portugues.append(valor)\n",
    "\n",
    "colunas_portugues"
   ]
  },
  {
   "cell_type": "code",
   "execution_count": 5,
   "metadata": {},
   "outputs": [
    {
     "data": {
      "text/html": [
       "<div>\n",
       "<style scoped>\n",
       "    .dataframe tbody tr th:only-of-type {\n",
       "        vertical-align: middle;\n",
       "    }\n",
       "\n",
       "    .dataframe tbody tr th {\n",
       "        vertical-align: top;\n",
       "    }\n",
       "\n",
       "    .dataframe thead th {\n",
       "        text-align: right;\n",
       "    }\n",
       "</style>\n",
       "<table border=\"1\" class=\"dataframe\">\n",
       "  <thead>\n",
       "    <tr style=\"text-align: right;\">\n",
       "      <th></th>\n",
       "      <th>seqn</th>\n",
       "      <th>Idade</th>\n",
       "      <th>Sexo</th>\n",
       "      <th>Conjugual</th>\n",
       "      <th>Renda</th>\n",
       "      <th>Raça</th>\n",
       "      <th>CircCintura</th>\n",
       "      <th>IMC</th>\n",
       "      <th>Albuminúria</th>\n",
       "      <th>UrAlbCr</th>\n",
       "      <th>AcidUric</th>\n",
       "      <th>GlicoseSangue</th>\n",
       "      <th>HDL</th>\n",
       "      <th>Triglicerídeos</th>\n",
       "      <th>SindromeMetabólica</th>\n",
       "    </tr>\n",
       "  </thead>\n",
       "  <tbody>\n",
       "    <tr>\n",
       "      <th>0</th>\n",
       "      <td>62161</td>\n",
       "      <td>22</td>\n",
       "      <td>Male</td>\n",
       "      <td>Single</td>\n",
       "      <td>8200.0</td>\n",
       "      <td>White</td>\n",
       "      <td>81.0</td>\n",
       "      <td>23.3</td>\n",
       "      <td>0</td>\n",
       "      <td>3.88</td>\n",
       "      <td>4.9</td>\n",
       "      <td>92</td>\n",
       "      <td>41</td>\n",
       "      <td>84</td>\n",
       "      <td>0</td>\n",
       "    </tr>\n",
       "    <tr>\n",
       "      <th>1</th>\n",
       "      <td>62164</td>\n",
       "      <td>44</td>\n",
       "      <td>Female</td>\n",
       "      <td>Married</td>\n",
       "      <td>4500.0</td>\n",
       "      <td>White</td>\n",
       "      <td>80.1</td>\n",
       "      <td>23.2</td>\n",
       "      <td>0</td>\n",
       "      <td>8.55</td>\n",
       "      <td>4.5</td>\n",
       "      <td>82</td>\n",
       "      <td>28</td>\n",
       "      <td>56</td>\n",
       "      <td>0</td>\n",
       "    </tr>\n",
       "    <tr>\n",
       "      <th>2</th>\n",
       "      <td>62169</td>\n",
       "      <td>21</td>\n",
       "      <td>Male</td>\n",
       "      <td>Single</td>\n",
       "      <td>800.0</td>\n",
       "      <td>Asian</td>\n",
       "      <td>69.6</td>\n",
       "      <td>20.1</td>\n",
       "      <td>0</td>\n",
       "      <td>5.07</td>\n",
       "      <td>5.4</td>\n",
       "      <td>107</td>\n",
       "      <td>43</td>\n",
       "      <td>78</td>\n",
       "      <td>0</td>\n",
       "    </tr>\n",
       "    <tr>\n",
       "      <th>3</th>\n",
       "      <td>62172</td>\n",
       "      <td>43</td>\n",
       "      <td>Female</td>\n",
       "      <td>Single</td>\n",
       "      <td>2000.0</td>\n",
       "      <td>Black</td>\n",
       "      <td>120.4</td>\n",
       "      <td>33.3</td>\n",
       "      <td>0</td>\n",
       "      <td>5.22</td>\n",
       "      <td>5.0</td>\n",
       "      <td>104</td>\n",
       "      <td>73</td>\n",
       "      <td>141</td>\n",
       "      <td>0</td>\n",
       "    </tr>\n",
       "    <tr>\n",
       "      <th>4</th>\n",
       "      <td>62177</td>\n",
       "      <td>51</td>\n",
       "      <td>Male</td>\n",
       "      <td>Married</td>\n",
       "      <td>NaN</td>\n",
       "      <td>Asian</td>\n",
       "      <td>81.1</td>\n",
       "      <td>20.1</td>\n",
       "      <td>0</td>\n",
       "      <td>8.13</td>\n",
       "      <td>5.0</td>\n",
       "      <td>95</td>\n",
       "      <td>43</td>\n",
       "      <td>126</td>\n",
       "      <td>0</td>\n",
       "    </tr>\n",
       "  </tbody>\n",
       "</table>\n",
       "</div>"
      ],
      "text/plain": [
       "    seqn  Idade    Sexo Conjugual   Renda   Raça  CircCintura   IMC  \\\n",
       "0  62161     22    Male    Single  8200.0  White         81.0  23.3   \n",
       "1  62164     44  Female   Married  4500.0  White         80.1  23.2   \n",
       "2  62169     21    Male    Single   800.0  Asian         69.6  20.1   \n",
       "3  62172     43  Female    Single  2000.0  Black        120.4  33.3   \n",
       "4  62177     51    Male   Married     NaN  Asian         81.1  20.1   \n",
       "\n",
       "   Albuminúria  UrAlbCr  AcidUric  GlicoseSangue  HDL  Triglicerídeos  \\\n",
       "0            0     3.88       4.9             92   41              84   \n",
       "1            0     8.55       4.5             82   28              56   \n",
       "2            0     5.07       5.4            107   43              78   \n",
       "3            0     5.22       5.0            104   73             141   \n",
       "4            0     8.13       5.0             95   43             126   \n",
       "\n",
       "   SindromeMetabólica  \n",
       "0                   0  \n",
       "1                   0  \n",
       "2                   0  \n",
       "3                   0  \n",
       "4                   0  "
      ]
     },
     "execution_count": 5,
     "metadata": {},
     "output_type": "execute_result"
    }
   ],
   "source": [
    "#substituir o df inglês para o português\n",
    "df = df_original\n",
    "df.columns = colunas_portugues\n",
    "df.head()"
   ]
  },
  {
   "cell_type": "code",
   "execution_count": 6,
   "metadata": {},
   "outputs": [
    {
     "data": {
      "text/plain": [
       "seqn                    0\n",
       "Idade                   0\n",
       "Sexo                    0\n",
       "Conjugual             208\n",
       "Renda                 117\n",
       "Raça                    0\n",
       "CircCintura            85\n",
       "IMC                    26\n",
       "Albuminúria             0\n",
       "UrAlbCr                 0\n",
       "AcidUric                0\n",
       "GlicoseSangue           0\n",
       "HDL                     0\n",
       "Triglicerídeos          0\n",
       "SindromeMetabólica      0\n",
       "dtype: int64"
      ]
     },
     "execution_count": 6,
     "metadata": {},
     "output_type": "execute_result"
    }
   ],
   "source": [
    "#onde há nulos\n",
    "df.isnull().sum()"
   ]
  },
  {
   "cell_type": "code",
   "execution_count": 7,
   "metadata": {},
   "outputs": [
    {
     "data": {
      "image/png": "[encoded data removed]",
      "text/plain": [
       "<Figure size 640x480 with 1 Axes>"
      ]
     },
     "metadata": {},
     "output_type": "display_data"
    }
   ],
   "source": [
    "#gráfico de nulos\n",
    "ax1 = df.isnull().sum().plot(kind='bar', color='skyblue')\n",
    "\n",
    "\n",
    "plt.title('Contagem de Valores Nulos por Coluna')\n",
    "plt.xlabel('No total 2401 pessoas responderam')\n",
    "plt.ylabel('Contagem de Valores Nulos') \n",
    "\n",
    "for i, value in enumerate(df.isnull().sum()):\n",
    "    plt.annotate(str(value), xy=(i, value), ha='center', va='bottom')\n",
    "\n",
    "plt.show()"
   ]
  },
  {
   "cell_type": "code",
   "execution_count": 8,
   "metadata": {},
   "outputs": [
    {
     "name": "stderr",
     "output_type": "stream",
     "text": [
      "/var/folders/gf/lsq9hnm95pz3qsglh7wjfls80000gn/T/ipykernel_28218/220792913.py:9: FutureWarning: Series.__getitem__ treating keys as positions is deprecated. In a future version, integer keys will always be treated as labels (consistent with DataFrame behavior). To access a value by position, use `ser.iloc[pos]`\n",
      "  plt.text(i, contagem_sexo[i], contagem_sexo[i], ha='center', va='bottom')\n"
     ]
    },
    {
     "data": {
      "image/png": "[encoded data removed]",
      "text/plain": [
       "<Figure size 600x400 with 1 Axes>"
      ]
     },
     "metadata": {},
     "output_type": "display_data"
    }
   ],
   "source": [
    "#Contagem de homens e mulheres\n",
    "contagem_sexo = df['Sexo'].value_counts()\n",
    "\n",
    "plt.figure(figsize=(6, 4))\n",
    "plt.bar(contagem_sexo.index, contagem_sexo.values, color=['blue', 'pink'])\n",
    "plt.title(\"Diferença na Quantidade de Homens e Mulheres\")\n",
    "\n",
    "for i in range(len(contagem_sexo)):\n",
    "    plt.text(i, contagem_sexo[i], contagem_sexo[i], ha='center', va='bottom')\n",
    "\n",
    "plt.show()"
   ]
  },
  {
   "cell_type": "code",
   "execution_count": 9,
   "metadata": {},
   "outputs": [
    {
     "data": {
      "text/plain": [
       "SindromeMetabólica\n",
       "0    1579\n",
       "1     822\n",
       "Name: count, dtype: int64"
      ]
     },
     "execution_count": 9,
     "metadata": {},
     "output_type": "execute_result"
    }
   ],
   "source": [
    "#contagem para quem tem e não tem\n",
    "contagem_SM = df['SindromeMetabólica'].value_counts()\n",
    "contagem_SM"
   ]
  },
  {
   "cell_type": "code",
   "execution_count": 10,
   "metadata": {},
   "outputs": [
    {
     "data": {
      "image/png": "[encoded data removed]",
      "text/plain": [
       "<Figure size 640x480 with 1 Axes>"
      ]
     },
     "metadata": {},
     "output_type": "display_data"
    }
   ],
   "source": [
    "#contagem por gênero\n",
    "mulheres_com_SM = df[(df['Sexo'] == 'Female') & (df['SindromeMetabólica'] == 1)]\n",
    "homens_com_SM = df[(df['Sexo'] == 'Male') & (df['SindromeMetabólica'] == 1)]\n",
    "\n",
    "contagem_mulheres = mulheres_com_SM.shape[0]\n",
    "contagem_homens = homens_com_SM.shape[0]\n",
    "\n",
    "categorias = ['Mulheres', 'Homens']\n",
    "contagens = [contagem_mulheres, contagem_homens]\n",
    "\n",
    "plt.bar(categorias, contagens, color=['blue', 'pink'])\n",
    "plt.title(\"Número de Pessoas com Síndrome Metabólica por Gênero\")\n",
    "\n",
    "for i in range(len(categorias)):\n",
    "    plt.text(i, contagens[i], contagens[i], ha='center', va='bottom')\n",
    "\n",
    "plt.show()"
   ]
  },
  {
   "cell_type": "code",
   "execution_count": 11,
   "metadata": {},
   "outputs": [
    {
     "data": {
      "text/html": [
       "<div>\n",
       "<style scoped>\n",
       "    .dataframe tbody tr th:only-of-type {\n",
       "        vertical-align: middle;\n",
       "    }\n",
       "\n",
       "    .dataframe tbody tr th {\n",
       "        vertical-align: top;\n",
       "    }\n",
       "\n",
       "    .dataframe thead th {\n",
       "        text-align: right;\n",
       "    }\n",
       "</style>\n",
       "<table border=\"1\" class=\"dataframe\">\n",
       "  <thead>\n",
       "    <tr style=\"text-align: right;\">\n",
       "      <th></th>\n",
       "      <th>Idade</th>\n",
       "      <th>Contagem</th>\n",
       "    </tr>\n",
       "  </thead>\n",
       "  <tbody>\n",
       "    <tr>\n",
       "      <th>0</th>\n",
       "      <td>20</td>\n",
       "      <td>7</td>\n",
       "    </tr>\n",
       "    <tr>\n",
       "      <th>1</th>\n",
       "      <td>21</td>\n",
       "      <td>4</td>\n",
       "    </tr>\n",
       "    <tr>\n",
       "      <th>2</th>\n",
       "      <td>22</td>\n",
       "      <td>5</td>\n",
       "    </tr>\n",
       "    <tr>\n",
       "      <th>3</th>\n",
       "      <td>23</td>\n",
       "      <td>6</td>\n",
       "    </tr>\n",
       "    <tr>\n",
       "      <th>4</th>\n",
       "      <td>24</td>\n",
       "      <td>8</td>\n",
       "    </tr>\n",
       "    <tr>\n",
       "      <th>...</th>\n",
       "      <td>...</td>\n",
       "      <td>...</td>\n",
       "    </tr>\n",
       "    <tr>\n",
       "      <th>56</th>\n",
       "      <td>76</td>\n",
       "      <td>12</td>\n",
       "    </tr>\n",
       "    <tr>\n",
       "      <th>57</th>\n",
       "      <td>77</td>\n",
       "      <td>10</td>\n",
       "    </tr>\n",
       "    <tr>\n",
       "      <th>58</th>\n",
       "      <td>78</td>\n",
       "      <td>13</td>\n",
       "    </tr>\n",
       "    <tr>\n",
       "      <th>59</th>\n",
       "      <td>79</td>\n",
       "      <td>5</td>\n",
       "    </tr>\n",
       "    <tr>\n",
       "      <th>60</th>\n",
       "      <td>80</td>\n",
       "      <td>53</td>\n",
       "    </tr>\n",
       "  </tbody>\n",
       "</table>\n",
       "<p>61 rows × 2 columns</p>\n",
       "</div>"
      ],
      "text/plain": [
       "    Idade  Contagem\n",
       "0      20         7\n",
       "1      21         4\n",
       "2      22         5\n",
       "3      23         6\n",
       "4      24         8\n",
       "..    ...       ...\n",
       "56     76        12\n",
       "57     77        10\n",
       "58     78        13\n",
       "59     79         5\n",
       "60     80        53\n",
       "\n",
       "[61 rows x 2 columns]"
      ]
     },
     "execution_count": 11,
     "metadata": {},
     "output_type": "execute_result"
    }
   ],
   "source": [
    "#idades, desses homens e mulheres\n",
    "agrupado = df[df['SindromeMetabólica'] == 1].groupby('Idade').size().reset_index(name='Contagem')\n",
    "agrupado"
   ]
  },
  {
   "cell_type": "code",
   "execution_count": 12,
   "metadata": {},
   "outputs": [
    {
     "name": "stdout",
     "output_type": "stream",
     "text": [
      "    Idade  Contagem\n",
      "60     80        53\n",
      "43     63        31\n",
      "40     60        30\n",
      "50     70        27\n",
      "34     54        24\n"
     ]
    }
   ],
   "source": [
    "# 5 maiores idades\n",
    "agrupado_ordenado = agrupado.sort_values(by='Contagem', ascending=False)\n",
    "\n",
    "cinco_maiores_contagens = agrupado_ordenado.head(5)\n",
    "\n",
    "print(cinco_maiores_contagens)\n"
   ]
  },
  {
   "cell_type": "code",
   "execution_count": 13,
   "metadata": {},
   "outputs": [
    {
     "data": {
      "image/png": "[encoded data removed]",
      "text/plain": [
       "<Figure size 1000x600 with 1 Axes>"
      ]
     },
     "metadata": {},
     "output_type": "display_data"
    }
   ],
   "source": [
    "#gráfico da 5 maiores idade, e comparando com pessoas que não tem. \n",
    "cinco_maiores_contagens\n",
    "idades_sem_sindrome = df[df['SindromeMetabólica'] == 0]\n",
    "\n",
    "fig, ax = plt.subplots(figsize=(10, 6))\n",
    "bar_width = 0.35\n",
    "ax.bar(range(len(cinco_maiores_contagens)), cinco_maiores_contagens['Contagem'], width=bar_width, label='Com Síndrome Metabólica', color='#FFB299')\n",
    "\n",
    "#isso aqui é para mostrar exatamente a idades ali das cinco_maiores_contagens.\n",
    "ax.set_xticks(range(len(cinco_maiores_contagens)))\n",
    "ax.set_xticklabels(cinco_maiores_contagens['Idade'])\n",
    "\n",
    "contagens_sem_sindrome = idades_sem_sindrome[idades_sem_sindrome['Idade'].isin(cinco_maiores_contagens['Idade'])].groupby('Idade').size().reset_index(name='Contagem')\n",
    "\n",
    "ax.bar([x + bar_width for x in range(len(contagens_sem_sindrome))], contagens_sem_sindrome['Contagem'], width=bar_width, label='Sem Síndrome Metabólica', color='#525691')\n",
    "\n",
    "for i in range(len(cinco_maiores_contagens)):\n",
    "    plt.text(i, cinco_maiores_contagens.iloc[i, 1], str(cinco_maiores_contagens.iloc[i, 1]), ha='center', va='bottom')\n",
    "    plt.text(i + bar_width, contagens_sem_sindrome.iloc[i, 1], str(contagens_sem_sindrome.iloc[i, 1]), ha='center', va='bottom')\n",
    "\n",
    "ax.set_xlabel('Idade')\n",
    "ax.set_ylabel('Contagem')\n",
    "ax.set_title('Comparação de Síndrome Metabólica por Idade')\n",
    "ax.legend()\n",
    "\n",
    "plt.show()\n"
   ]
  },
  {
   "attachments": {},
   "cell_type": "markdown",
   "metadata": {},
   "source": [
    "# INSIGHTS: \n",
    "Após analisar o dataset sobre a Síndrome Metabólica (SM), pude notar algumas coisas: <br>\n",
    "1. No total 2401 pessoas foram entrevistadas. <br>\n",
    "2. A maior parte das respostas foram de mulheres, com o total de 1211. <br>\n",
    "3. Foram encontradas 822 pessoas com a SM. <br>\n",
    "4. A SM mostrou-se mais nos homens, com um total de 419. <br> \n",
    "5. Vê-se também que a SM se encontra em pessoas de idade mais avançada, +60, pois com essa idade vem:  <br>\n",
    "   - Redução da Atividade Física:\n",
    "   Com o envelhecimento, a tendência é que as pessoas se tornem menos ativas, levando ao ganho de peso e ao acúmulo de gordura abdominal, um critério da Síndrome Metabólica.\n",
    "   - Alterações Hormonais:\n",
    "   O envelhecimento está associado a alterações hormonais, como a diminuição da sensibilidade à insulina, o que contribui para níveis elevados de glicose no sangue e resistência à insulina.\n",
    "   - Mudanças no Metabolismo:\n",
    "   O metabolismo desacelera com a idade, tornando mais desafiada a manutenção de um peso saudável e o controle dos níveis de colesterol e triglicerídeos.\n"
   ]
  }
 ],
 "metadata": {
  "kernelspec": {
   "display_name": "Python 3",
   "language": "python",
   "name": "python3"
  },
  "language_info": {
   "codemirror_mode": {
    "name": "ipython",
    "version": 3
   },
   "file_extension": ".py",
   "mimetype": "text/x-python",
   "name": "python",
   "nbconvert_exporter": "python",
   "pygments_lexer": "ipython3",
   "version": "3.11.4"
  },
  "orig_nbformat": 4
 },
 "nbformat": 4,
 "nbformat_minor": 2
}
