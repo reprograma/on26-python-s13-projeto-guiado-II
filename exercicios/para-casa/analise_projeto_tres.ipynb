{
 "cells": [
  {
   "cell_type": "markdown",
   "metadata": {},
   "source": [
    "## Introdução\n",
    "\n",
    "### Sobre o dataset\n",
    "\n",
    "\n",
    "Este conjunto de dados contém informações sobre feitiços para Dungeons and Dragons 5e, provenientes do Livro do Jogador básico e de todos os livros suplementares que foram lançados na data de publicação. A maioria das classes em D&D ganha a habilidade de lançar feitiços em algum momento, então se você jogar o jogo, acabará olhando a lista de feitiços para seu personagem aprender. \n"
   ]
  },
  {
   "cell_type": "code",
   "execution_count": 1,
   "metadata": {},
   "outputs": [
    {
     "name": "stdout",
     "output_type": "stream",
     "text": [
      "Requirement already satisfied: seaborn in c:\\users\\louise\\appdata\\local\\programs\\python\\python311\\lib\\site-packages (0.13.0)\n",
      "Requirement already satisfied: numpy!=1.24.0,>=1.20 in c:\\users\\louise\\appdata\\local\\programs\\python\\python311\\lib\\site-packages (from seaborn) (1.26.0)\n",
      "Requirement already satisfied: pandas>=1.2 in c:\\users\\louise\\appdata\\local\\programs\\python\\python311\\lib\\site-packages (from seaborn) (2.1.1)\n",
      "Requirement already satisfied: matplotlib!=3.6.1,>=3.3 in c:\\users\\louise\\appdata\\local\\programs\\python\\python311\\lib\\site-packages (from seaborn) (3.8.0)\n",
      "Requirement already satisfied: contourpy>=1.0.1 in c:\\users\\louise\\appdata\\local\\programs\\python\\python311\\lib\\site-packages (from matplotlib!=3.6.1,>=3.3->seaborn) (1.1.1)\n",
      "Requirement already satisfied: cycler>=0.10 in c:\\users\\louise\\appdata\\local\\programs\\python\\python311\\lib\\site-packages (from matplotlib!=3.6.1,>=3.3->seaborn) (0.12.1)\n",
      "Requirement already satisfied: fonttools>=4.22.0 in c:\\users\\louise\\appdata\\local\\programs\\python\\python311\\lib\\site-packages (from matplotlib!=3.6.1,>=3.3->seaborn) (4.43.1)\n",
      "Requirement already satisfied: kiwisolver>=1.0.1 in c:\\users\\louise\\appdata\\local\\programs\\python\\python311\\lib\\site-packages (from matplotlib!=3.6.1,>=3.3->seaborn) (1.4.5)\n",
      "Requirement already satisfied: packaging>=20.0 in c:\\users\\louise\\appdata\\roaming\\python\\python311\\site-packages (from matplotlib!=3.6.1,>=3.3->seaborn) (23.2)\n",
      "Requirement already satisfied: pillow>=6.2.0 in c:\\users\\louise\\appdata\\local\\programs\\python\\python311\\lib\\site-packages (from matplotlib!=3.6.1,>=3.3->seaborn) (10.1.0)\n",
      "Requirement already satisfied: pyparsing>=2.3.1 in c:\\users\\louise\\appdata\\local\\programs\\python\\python311\\lib\\site-packages (from matplotlib!=3.6.1,>=3.3->seaborn) (3.1.1)\n",
      "Requirement already satisfied: python-dateutil>=2.7 in c:\\users\\louise\\appdata\\roaming\\python\\python311\\site-packages (from matplotlib!=3.6.1,>=3.3->seaborn) (2.8.2)\n",
      "Requirement already satisfied: pytz>=2020.1 in c:\\users\\louise\\appdata\\local\\programs\\python\\python311\\lib\\site-packages (from pandas>=1.2->seaborn) (2023.3.post1)\n",
      "Requirement already satisfied: tzdata>=2022.1 in c:\\users\\louise\\appdata\\local\\programs\\python\\python311\\lib\\site-packages (from pandas>=1.2->seaborn) (2023.3)\n",
      "Requirement already satisfied: six>=1.5 in c:\\users\\louise\\appdata\\roaming\\python\\python311\\site-packages (from python-dateutil>=2.7->matplotlib!=3.6.1,>=3.3->seaborn) (1.16.0)\n",
      "Note: you may need to restart the kernel to use updated packages.\n"
     ]
    },
    {
     "name": "stderr",
     "output_type": "stream",
     "text": [
      "\n",
      "[notice] A new release of pip is available: 23.2.1 -> 23.3.1\n",
      "[notice] To update, run: python.exe -m pip install --upgrade pip\n"
     ]
    }
   ],
   "source": [
    "%pip install seaborn"
   ]
  },
  {
   "cell_type": "code",
   "execution_count": 10,
   "metadata": {},
   "outputs": [],
   "source": [
    "import numpy as np\n",
    "import pandas as pd\n",
    "import matplotlib.pyplot as plt\n",
    "import seaborn as sns"
   ]
  },
  {
   "cell_type": "code",
   "execution_count": 3,
   "metadata": {},
   "outputs": [
    {
     "data": {
      "text/html": [
       "<div>\n",
       "<style scoped>\n",
       "    .dataframe tbody tr th:only-of-type {\n",
       "        vertical-align: middle;\n",
       "    }\n",
       "\n",
       "    .dataframe tbody tr th {\n",
       "        vertical-align: top;\n",
       "    }\n",
       "\n",
       "    .dataframe thead th {\n",
       "        text-align: right;\n",
       "    }\n",
       "</style>\n",
       "<table border=\"1\" class=\"dataframe\">\n",
       "  <thead>\n",
       "    <tr style=\"text-align: right;\">\n",
       "      <th></th>\n",
       "      <th>name</th>\n",
       "      <th>classes</th>\n",
       "      <th>level</th>\n",
       "      <th>school</th>\n",
       "      <th>cast_time</th>\n",
       "      <th>range</th>\n",
       "      <th>duration</th>\n",
       "      <th>verbal</th>\n",
       "      <th>somatic</th>\n",
       "      <th>material</th>\n",
       "      <th>material_cost</th>\n",
       "      <th>description</th>\n",
       "    </tr>\n",
       "  </thead>\n",
       "  <tbody>\n",
       "    <tr>\n",
       "      <th>0</th>\n",
       "      <td>Acid Splash</td>\n",
       "      <td>Artificer, Sorcerer, Wizard</td>\n",
       "      <td>0</td>\n",
       "      <td>Conjuration</td>\n",
       "      <td>1 Action</td>\n",
       "      <td>60 Feet</td>\n",
       "      <td>Instantaneous</td>\n",
       "      <td>1</td>\n",
       "      <td>1</td>\n",
       "      <td>0</td>\n",
       "      <td>NaN</td>\n",
       "      <td>You hurl a bubble of acid. Choose one creature...</td>\n",
       "    </tr>\n",
       "    <tr>\n",
       "      <th>1</th>\n",
       "      <td>Blade Ward</td>\n",
       "      <td>Bard, Sorcerer, Warlock, Wizard</td>\n",
       "      <td>0</td>\n",
       "      <td>Abjuration</td>\n",
       "      <td>1 Action</td>\n",
       "      <td>Self</td>\n",
       "      <td>1 round</td>\n",
       "      <td>1</td>\n",
       "      <td>1</td>\n",
       "      <td>0</td>\n",
       "      <td>NaN</td>\n",
       "      <td>You extend your hand and trace a sigil of ward...</td>\n",
       "    </tr>\n",
       "    <tr>\n",
       "      <th>2</th>\n",
       "      <td>Booming Blade</td>\n",
       "      <td>Artificer, Sorcerer, Warlock, Wizard</td>\n",
       "      <td>0</td>\n",
       "      <td>Evocation</td>\n",
       "      <td>1 Action</td>\n",
       "      <td>Self (5-foot radius)</td>\n",
       "      <td>1 round</td>\n",
       "      <td>0</td>\n",
       "      <td>1</td>\n",
       "      <td>1</td>\n",
       "      <td>a melee weapon worth at least 1 sp</td>\n",
       "      <td>You brandish the weapon used in the spell’s ca...</td>\n",
       "    </tr>\n",
       "    <tr>\n",
       "      <th>3</th>\n",
       "      <td>Chill Touch</td>\n",
       "      <td>Sorcerer, Warlock, Wizard</td>\n",
       "      <td>0</td>\n",
       "      <td>Necromancy</td>\n",
       "      <td>1 Action</td>\n",
       "      <td>120 Feet</td>\n",
       "      <td>1 round</td>\n",
       "      <td>1</td>\n",
       "      <td>1</td>\n",
       "      <td>0</td>\n",
       "      <td>NaN</td>\n",
       "      <td>You create a ghostly, skeletal hand in the spa...</td>\n",
       "    </tr>\n",
       "    <tr>\n",
       "      <th>4</th>\n",
       "      <td>Control Flames</td>\n",
       "      <td>Druid, Sorcerer, Wizard</td>\n",
       "      <td>0</td>\n",
       "      <td>Transmutation</td>\n",
       "      <td>1 Action</td>\n",
       "      <td>60 Feet</td>\n",
       "      <td>Instantaneous or 1 hour</td>\n",
       "      <td>0</td>\n",
       "      <td>1</td>\n",
       "      <td>0</td>\n",
       "      <td>NaN</td>\n",
       "      <td>You choose nonmagical flame that you can see w...</td>\n",
       "    </tr>\n",
       "  </tbody>\n",
       "</table>\n",
       "</div>"
      ],
      "text/plain": [
       "             name                               classes  level         school  \\\n",
       "0     Acid Splash           Artificer, Sorcerer, Wizard      0    Conjuration   \n",
       "1      Blade Ward       Bard, Sorcerer, Warlock, Wizard      0     Abjuration   \n",
       "2   Booming Blade  Artificer, Sorcerer, Warlock, Wizard      0      Evocation   \n",
       "3     Chill Touch             Sorcerer, Warlock, Wizard      0     Necromancy   \n",
       "4  Control Flames               Druid, Sorcerer, Wizard      0  Transmutation   \n",
       "\n",
       "  cast_time                 range                 duration  verbal  somatic  \\\n",
       "0  1 Action               60 Feet            Instantaneous       1        1   \n",
       "1  1 Action                  Self                  1 round       1        1   \n",
       "2  1 Action  Self (5-foot radius)                  1 round       0        1   \n",
       "3  1 Action              120 Feet                  1 round       1        1   \n",
       "4  1 Action               60 Feet  Instantaneous or 1 hour       0        1   \n",
       "\n",
       "   material                       material_cost  \\\n",
       "0         0                                 NaN   \n",
       "1         0                                 NaN   \n",
       "2         1  a melee weapon worth at least 1 sp   \n",
       "3         0                                 NaN   \n",
       "4         0                                 NaN   \n",
       "\n",
       "                                         description  \n",
       "0  You hurl a bubble of acid. Choose one creature...  \n",
       "1  You extend your hand and trace a sigil of ward...  \n",
       "2  You brandish the weapon used in the spell’s ca...  \n",
       "3  You create a ghostly, skeletal hand in the spa...  \n",
       "4  You choose nonmagical flame that you can see w...  "
      ]
     },
     "execution_count": 3,
     "metadata": {},
     "output_type": "execute_result"
    }
   ],
   "source": [
    "df = pd.read_csv('dnd-spells.csv')\n",
    "df.head()"
   ]
  },
  {
   "cell_type": "code",
   "execution_count": 4,
   "metadata": {},
   "outputs": [
    {
     "name": "stdout",
     "output_type": "stream",
     "text": [
      "['Nome', 'Classes', 'Nível', 'Escola', 'Tempo_para_preparar', 'Alcance', 'Duração', 'Verbal', 'Gestual', 'Material', 'Custo_de_material', 'Descrição']\n"
     ]
    }
   ],
   "source": [
    "traducoes = {\n",
    "    'Name': 'Nome',\n",
    "    'Classes': 'Classes',\n",
    "    'Level': 'Nível',\n",
    "    'School': 'Escola',\n",
    "    'Cast_time': 'Tempo_para_preparar',\n",
    "    'Range': 'Alcance',\n",
    "    'Duration': 'Duração',\n",
    "    'Verbal': 'Verbal',\n",
    "    'Somatic': 'Gestual',\n",
    "    'Material': 'Material',\n",
    "    'Material_cost': 'Custo_de_material',\n",
    "    'Description': 'Descrição'\n",
    "}\n",
    "novas_colunas = []\n",
    "for chave, valor in traducoes.items():\n",
    "    novas_colunas.append(valor)\n",
    "\n",
    "print(novas_colunas)"
   ]
  },
  {
   "cell_type": "code",
   "execution_count": 5,
   "metadata": {},
   "outputs": [
    {
     "data": {
      "text/html": [
       "<div>\n",
       "<style scoped>\n",
       "    .dataframe tbody tr th:only-of-type {\n",
       "        vertical-align: middle;\n",
       "    }\n",
       "\n",
       "    .dataframe tbody tr th {\n",
       "        vertical-align: top;\n",
       "    }\n",
       "\n",
       "    .dataframe thead th {\n",
       "        text-align: right;\n",
       "    }\n",
       "</style>\n",
       "<table border=\"1\" class=\"dataframe\">\n",
       "  <thead>\n",
       "    <tr style=\"text-align: right;\">\n",
       "      <th></th>\n",
       "      <th>Nome</th>\n",
       "      <th>Classes</th>\n",
       "      <th>Nível</th>\n",
       "      <th>Escola</th>\n",
       "      <th>Tempo_para_preparar</th>\n",
       "      <th>Alcance</th>\n",
       "      <th>Duração</th>\n",
       "      <th>Verbal</th>\n",
       "      <th>Gestual</th>\n",
       "      <th>Material</th>\n",
       "      <th>Custo_de_material</th>\n",
       "      <th>Descrição</th>\n",
       "    </tr>\n",
       "  </thead>\n",
       "  <tbody>\n",
       "    <tr>\n",
       "      <th>0</th>\n",
       "      <td>Acid Splash</td>\n",
       "      <td>Artificer, Sorcerer, Wizard</td>\n",
       "      <td>0</td>\n",
       "      <td>Conjuration</td>\n",
       "      <td>1 Action</td>\n",
       "      <td>60 Feet</td>\n",
       "      <td>Instantaneous</td>\n",
       "      <td>1</td>\n",
       "      <td>1</td>\n",
       "      <td>0</td>\n",
       "      <td>NaN</td>\n",
       "      <td>You hurl a bubble of acid. Choose one creature...</td>\n",
       "    </tr>\n",
       "    <tr>\n",
       "      <th>1</th>\n",
       "      <td>Blade Ward</td>\n",
       "      <td>Bard, Sorcerer, Warlock, Wizard</td>\n",
       "      <td>0</td>\n",
       "      <td>Abjuration</td>\n",
       "      <td>1 Action</td>\n",
       "      <td>Self</td>\n",
       "      <td>1 round</td>\n",
       "      <td>1</td>\n",
       "      <td>1</td>\n",
       "      <td>0</td>\n",
       "      <td>NaN</td>\n",
       "      <td>You extend your hand and trace a sigil of ward...</td>\n",
       "    </tr>\n",
       "    <tr>\n",
       "      <th>2</th>\n",
       "      <td>Booming Blade</td>\n",
       "      <td>Artificer, Sorcerer, Warlock, Wizard</td>\n",
       "      <td>0</td>\n",
       "      <td>Evocation</td>\n",
       "      <td>1 Action</td>\n",
       "      <td>Self (5-foot radius)</td>\n",
       "      <td>1 round</td>\n",
       "      <td>0</td>\n",
       "      <td>1</td>\n",
       "      <td>1</td>\n",
       "      <td>a melee weapon worth at least 1 sp</td>\n",
       "      <td>You brandish the weapon used in the spell’s ca...</td>\n",
       "    </tr>\n",
       "    <tr>\n",
       "      <th>3</th>\n",
       "      <td>Chill Touch</td>\n",
       "      <td>Sorcerer, Warlock, Wizard</td>\n",
       "      <td>0</td>\n",
       "      <td>Necromancy</td>\n",
       "      <td>1 Action</td>\n",
       "      <td>120 Feet</td>\n",
       "      <td>1 round</td>\n",
       "      <td>1</td>\n",
       "      <td>1</td>\n",
       "      <td>0</td>\n",
       "      <td>NaN</td>\n",
       "      <td>You create a ghostly, skeletal hand in the spa...</td>\n",
       "    </tr>\n",
       "    <tr>\n",
       "      <th>4</th>\n",
       "      <td>Control Flames</td>\n",
       "      <td>Druid, Sorcerer, Wizard</td>\n",
       "      <td>0</td>\n",
       "      <td>Transmutation</td>\n",
       "      <td>1 Action</td>\n",
       "      <td>60 Feet</td>\n",
       "      <td>Instantaneous or 1 hour</td>\n",
       "      <td>0</td>\n",
       "      <td>1</td>\n",
       "      <td>0</td>\n",
       "      <td>NaN</td>\n",
       "      <td>You choose nonmagical flame that you can see w...</td>\n",
       "    </tr>\n",
       "    <tr>\n",
       "      <th>...</th>\n",
       "      <td>...</td>\n",
       "      <td>...</td>\n",
       "      <td>...</td>\n",
       "      <td>...</td>\n",
       "      <td>...</td>\n",
       "      <td>...</td>\n",
       "      <td>...</td>\n",
       "      <td>...</td>\n",
       "      <td>...</td>\n",
       "      <td>...</td>\n",
       "      <td>...</td>\n",
       "      <td>...</td>\n",
       "    </tr>\n",
       "    <tr>\n",
       "      <th>549</th>\n",
       "      <td>Time Stop</td>\n",
       "      <td>Sorcerer, Wizard</td>\n",
       "      <td>9</td>\n",
       "      <td>Transmutation</td>\n",
       "      <td>1 Action</td>\n",
       "      <td>Self</td>\n",
       "      <td>Instantaneous</td>\n",
       "      <td>1</td>\n",
       "      <td>0</td>\n",
       "      <td>0</td>\n",
       "      <td>NaN</td>\n",
       "      <td>You briefly stop the flow of time for everyone...</td>\n",
       "    </tr>\n",
       "    <tr>\n",
       "      <th>550</th>\n",
       "      <td>True Polymorph</td>\n",
       "      <td>Bard, Warlock, Wizard</td>\n",
       "      <td>9</td>\n",
       "      <td>Transmutation</td>\n",
       "      <td>1 Action</td>\n",
       "      <td>30 Feet</td>\n",
       "      <td>Concentration, up to 1 hour</td>\n",
       "      <td>1</td>\n",
       "      <td>1</td>\n",
       "      <td>1</td>\n",
       "      <td>a drop of mercury, a dollop of gum arabic, and...</td>\n",
       "      <td>Choose one creature or nonmagical object that ...</td>\n",
       "    </tr>\n",
       "    <tr>\n",
       "      <th>551</th>\n",
       "      <td>True Resurrection</td>\n",
       "      <td>Cleric, Druid</td>\n",
       "      <td>9</td>\n",
       "      <td>Necromancy</td>\n",
       "      <td>1 Hour</td>\n",
       "      <td>Touch</td>\n",
       "      <td>Instantaneous</td>\n",
       "      <td>1</td>\n",
       "      <td>1</td>\n",
       "      <td>1</td>\n",
       "      <td>a sprinkle of holy water and diamonds worth at...</td>\n",
       "      <td>You touch a creature that has been dead for no...</td>\n",
       "    </tr>\n",
       "    <tr>\n",
       "      <th>552</th>\n",
       "      <td>Weird</td>\n",
       "      <td>Warlock, Wizard</td>\n",
       "      <td>9</td>\n",
       "      <td>Illusion</td>\n",
       "      <td>1 Action</td>\n",
       "      <td>120 Feet</td>\n",
       "      <td>Concentration, up to 1 minute</td>\n",
       "      <td>1</td>\n",
       "      <td>1</td>\n",
       "      <td>0</td>\n",
       "      <td>NaN</td>\n",
       "      <td>Drawing on the deepest fears of a group of cre...</td>\n",
       "    </tr>\n",
       "    <tr>\n",
       "      <th>553</th>\n",
       "      <td>Wish</td>\n",
       "      <td>Sorcerer, Wizard</td>\n",
       "      <td>9</td>\n",
       "      <td>Conjuration</td>\n",
       "      <td>1 Action</td>\n",
       "      <td>Self</td>\n",
       "      <td>Instantaneous</td>\n",
       "      <td>1</td>\n",
       "      <td>0</td>\n",
       "      <td>0</td>\n",
       "      <td>NaN</td>\n",
       "      <td>Wish is the mightiest spell a mortal creature ...</td>\n",
       "    </tr>\n",
       "  </tbody>\n",
       "</table>\n",
       "<p>554 rows × 12 columns</p>\n",
       "</div>"
      ],
      "text/plain": [
       "                  Nome                               Classes  Nível  \\\n",
       "0          Acid Splash           Artificer, Sorcerer, Wizard      0   \n",
       "1           Blade Ward       Bard, Sorcerer, Warlock, Wizard      0   \n",
       "2        Booming Blade  Artificer, Sorcerer, Warlock, Wizard      0   \n",
       "3          Chill Touch             Sorcerer, Warlock, Wizard      0   \n",
       "4       Control Flames               Druid, Sorcerer, Wizard      0   \n",
       "..                 ...                                   ...    ...   \n",
       "549          Time Stop                      Sorcerer, Wizard      9   \n",
       "550     True Polymorph                 Bard, Warlock, Wizard      9   \n",
       "551  True Resurrection                         Cleric, Druid      9   \n",
       "552              Weird                       Warlock, Wizard      9   \n",
       "553               Wish                      Sorcerer, Wizard      9   \n",
       "\n",
       "            Escola Tempo_para_preparar               Alcance  \\\n",
       "0      Conjuration            1 Action               60 Feet   \n",
       "1       Abjuration            1 Action                  Self   \n",
       "2        Evocation            1 Action  Self (5-foot radius)   \n",
       "3       Necromancy            1 Action              120 Feet   \n",
       "4    Transmutation            1 Action               60 Feet   \n",
       "..             ...                 ...                   ...   \n",
       "549  Transmutation            1 Action                  Self   \n",
       "550  Transmutation            1 Action               30 Feet   \n",
       "551     Necromancy              1 Hour                 Touch   \n",
       "552       Illusion            1 Action              120 Feet   \n",
       "553    Conjuration            1 Action                  Self   \n",
       "\n",
       "                           Duração  Verbal  Gestual  Material  \\\n",
       "0                    Instantaneous       1        1         0   \n",
       "1                          1 round       1        1         0   \n",
       "2                          1 round       0        1         1   \n",
       "3                          1 round       1        1         0   \n",
       "4          Instantaneous or 1 hour       0        1         0   \n",
       "..                             ...     ...      ...       ...   \n",
       "549                  Instantaneous       1        0         0   \n",
       "550    Concentration, up to 1 hour       1        1         1   \n",
       "551                  Instantaneous       1        1         1   \n",
       "552  Concentration, up to 1 minute       1        1         0   \n",
       "553                  Instantaneous       1        0         0   \n",
       "\n",
       "                                     Custo_de_material  \\\n",
       "0                                                  NaN   \n",
       "1                                                  NaN   \n",
       "2                   a melee weapon worth at least 1 sp   \n",
       "3                                                  NaN   \n",
       "4                                                  NaN   \n",
       "..                                                 ...   \n",
       "549                                                NaN   \n",
       "550  a drop of mercury, a dollop of gum arabic, and...   \n",
       "551  a sprinkle of holy water and diamonds worth at...   \n",
       "552                                                NaN   \n",
       "553                                                NaN   \n",
       "\n",
       "                                             Descrição  \n",
       "0    You hurl a bubble of acid. Choose one creature...  \n",
       "1    You extend your hand and trace a sigil of ward...  \n",
       "2    You brandish the weapon used in the spell’s ca...  \n",
       "3    You create a ghostly, skeletal hand in the spa...  \n",
       "4    You choose nonmagical flame that you can see w...  \n",
       "..                                                 ...  \n",
       "549  You briefly stop the flow of time for everyone...  \n",
       "550  Choose one creature or nonmagical object that ...  \n",
       "551  You touch a creature that has been dead for no...  \n",
       "552  Drawing on the deepest fears of a group of cre...  \n",
       "553  Wish is the mightiest spell a mortal creature ...  \n",
       "\n",
       "[554 rows x 12 columns]"
      ]
     },
     "execution_count": 5,
     "metadata": {},
     "output_type": "execute_result"
    }
   ],
   "source": [
    "df.columns = novas_colunas\n",
    "df"
   ]
  },
  {
   "cell_type": "code",
   "execution_count": 6,
   "metadata": {},
   "outputs": [
    {
     "name": "stdout",
     "output_type": "stream",
     "text": [
      "<class 'pandas.core.frame.DataFrame'>\n"
     ]
    }
   ],
   "source": [
    "print(type(df))"
   ]
  },
  {
   "cell_type": "code",
   "execution_count": 7,
   "metadata": {},
   "outputs": [
    {
     "name": "stdout",
     "output_type": "stream",
     "text": [
      "<class 'pandas.core.frame.DataFrame'>\n",
      "RangeIndex: 554 entries, 0 to 553\n",
      "Data columns (total 12 columns):\n",
      " #   Column               Non-Null Count  Dtype \n",
      "---  ------               --------------  ----- \n",
      " 0   Nome                 554 non-null    object\n",
      " 1   Classes              554 non-null    object\n",
      " 2   Nível                554 non-null    int64 \n",
      " 3   Escola               554 non-null    object\n",
      " 4   Tempo_para_preparar  554 non-null    object\n",
      " 5   Alcance              554 non-null    object\n",
      " 6   Duração              554 non-null    object\n",
      " 7   Verbal               554 non-null    int64 \n",
      " 8   Gestual              554 non-null    int64 \n",
      " 9   Material             554 non-null    int64 \n",
      " 10  Custo_de_material    290 non-null    object\n",
      " 11  Descrição            554 non-null    object\n",
      "dtypes: int64(4), object(8)\n",
      "memory usage: 52.1+ KB\n"
     ]
    }
   ],
   "source": [
    "df.info()"
   ]
  },
  {
   "cell_type": "code",
   "execution_count": 8,
   "metadata": {},
   "outputs": [
    {
     "data": {
      "text/plain": [
       "Nome                     0\n",
       "Classes                  0\n",
       "Nível                    0\n",
       "Escola                   0\n",
       "Tempo_para_preparar      0\n",
       "Alcance                  0\n",
       "Duração                  0\n",
       "Verbal                   0\n",
       "Gestual                  0\n",
       "Material                 0\n",
       "Custo_de_material      264\n",
       "Descrição                0\n",
       "dtype: int64"
      ]
     },
     "execution_count": 8,
     "metadata": {},
     "output_type": "execute_result"
    }
   ],
   "source": [
    "df.isnull().sum()"
   ]
  },
  {
   "cell_type": "markdown",
   "metadata": {},
   "source": [
    "### Divisão de feitiços por escola\n",
    "\n",
    "Mostra quantos feitiços há para cada escola dentro do jogo e com isso qual a melhor escola a se pegar quando montar um personagem"
   ]
  },
  {
   "cell_type": "code",
   "execution_count": 12,
   "metadata": {},
   "outputs": [
    {
     "data": {
      "text/plain": [
       "<Axes: xlabel='Escola', ylabel='count'>"
      ]
     },
     "execution_count": 12,
     "metadata": {},
     "output_type": "execute_result"
    },
    {
     "data": {
      "image/png": "[encoded data removed]",
      "text/plain": [
       "<Figure size 1500x800 with 1 Axes>"
      ]
     },
     "metadata": {},
     "output_type": "display_data"
    }
   ],
   "source": [
    "sns.set(rc = {'figure.figsize':(15,8)})\n",
    "sns.countplot(data=df, x=\"Escola\", orient=\"h\")"
   ]
  },
  {
   "cell_type": "markdown",
   "metadata": {},
   "source": [
    "### Feitiços por classe\n",
    "\n",
    "Aqui temos os feitiços divididos por classe. Isso é importante pois dependendo da classe que você escolha você tem uma maior variedade de feitiços."
   ]
  },
  {
   "cell_type": "code",
   "execution_count": 28,
   "metadata": {},
   "outputs": [
    {
     "data": {
      "text/plain": [
       "Classes\n",
       "Artificer                                                              1\n",
       "Artificer, Bard, Cleric, Druid, Paladin, Ranger                        2\n",
       "Artificer, Bard, Cleric, Druid, Paladin, Ranger, Sorcerer, Wizard      1\n",
       "Artificer, Bard, Cleric, Druid, Paladin, Sorcerer, Warlock, Wizard     1\n",
       "Artificer, Bard, Cleric, Druid, Ranger                                 2\n",
       "                                                                      ..\n",
       "Sorcerer, Warlock, Wizard                                             46\n",
       "Sorcerer, Wizard                                                      36\n",
       "Warlock                                                                7\n",
       "Warlock, Wizard                                                       19\n",
       "Wizard                                                                47\n",
       "Name: Classes, Length: 110, dtype: int64"
      ]
     },
     "execution_count": 28,
     "metadata": {},
     "output_type": "execute_result"
    }
   ],
   "source": [
    "feitico_classe = df.groupby(\"Classes\")[\"Classes\"].size()\n",
    "feitico_classe"
   ]
  },
  {
   "cell_type": "markdown",
   "metadata": {},
   "source": [
    "### Feitiços com maior duração\n",
    "\n",
    "Aqui vemos os feitiços com maior duração, assim podemos escolher qual será mais bem utilizado em uma batalha"
   ]
  },
  {
   "cell_type": "code",
   "execution_count": null,
   "metadata": {},
   "outputs": [
    {
     "data": {
      "image/png": "[encoded data removed]",
      "text/plain": [
       "<Figure size 1000x600 with 1 Axes>"
      ]
     },
     "metadata": {},
     "output_type": "display_data"
    }
   ],
   "source": [
    "duracao_feitico = df.sort_values(by='Duração', ascending=False).head(5)\n",
    "\n",
    "plt.figure(figsize=(10, 6))\n",
    "plt.bar(nome_feitico['Nome'], duracao_feitico['Duração'], color='purple')\n",
    "plt.xlabel('Nome')\n",
    "plt.ylabel('Duração')\n",
    "plt.xticks(rotation=45, ha='right')\n",
    "\n",
    "for i, duracao in enumerate(nome_feitico['Nome']):\n",
    "    escola = duracao_feitico.iloc[i]['Classes']\n",
    "    plt.annotate(escola, (duracao, duracao_feitico.iloc[i]['Duração']), ha='center', va='bottom')\n",
    "\n",
    "plt.show()"
   ]
  },
  {
   "cell_type": "code",
   "execution_count": 25,
   "metadata": {},
   "outputs": [
    {
     "data": {
      "image/png": "[encoded data removed]",
      "text/plain": [
       "<Figure size 1500x800 with 1 Axes>"
      ]
     },
     "metadata": {},
     "output_type": "display_data"
    }
   ],
   "source": [
    "custo_de_feitico = ['custo_de_material']\n",
    "duracao_de_feitico = ['duração']\n",
    "\n",
    "plt.xlabel('Duração do Feitiço')\n",
    "plt.ylabel('Custo do Feitiço')\n",
    "plt.title('Custo de Feitiço por Duração de Feitiço')\n",
    "\n",
    "plt.show()"
   ]
  }
 ],
 "metadata": {
  "kernelspec": {
   "display_name": "Python 3",
   "language": "python",
   "name": "python3"
  },
  "language_info": {
   "codemirror_mode": {
    "name": "ipython",
    "version": 3
   },
   "file_extension": ".py",
   "mimetype": "text/x-python",
   "name": "python",
   "nbconvert_exporter": "python",
   "pygments_lexer": "ipython3",
   "version": "3.11.4"
  }
 },
 "nbformat": 4,
 "nbformat_minor": 2
}
