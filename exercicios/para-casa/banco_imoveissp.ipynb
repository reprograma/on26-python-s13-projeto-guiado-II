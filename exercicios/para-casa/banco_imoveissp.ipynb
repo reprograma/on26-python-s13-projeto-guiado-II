{
 "cells": [
  {
   "cell_type": "code",
   "execution_count": 14,
   "metadata": {},
   "outputs": [],
   "source": [
    "import sqlite3\n",
    "import csv"
   ]
  },
  {
   "cell_type": "code",
   "execution_count": 15,
   "metadata": {},
   "outputs": [],
   "source": [
    "file = open('housing_sp_city.csv', encoding= 'ISO-8859-1') "
   ]
  },
  {
   "cell_type": "code",
   "execution_count": 16,
   "metadata": {},
   "outputs": [],
   "source": [
    "conteudo = csv.reader(file)\n",
    "\n",
    "connection = sqlite3.connect(\"housing_sp.db\")\n",
    "\n",
    "cursor = connection.cursor()"
   ]
  },
  {
   "cell_type": "code",
   "execution_count": 21,
   "metadata": {},
   "outputs": [
    {
     "data": {
      "text/plain": [
       "<sqlite3.Cursor at 0x1fa21f354c0>"
      ]
     },
     "execution_count": 21,
     "metadata": {},
     "output_type": "execute_result"
    }
   ],
   "source": [
    "cursor.execute('''CREATE TABLE IF NOT EXISTS preco_imoveis (\n",
    "    logradouro VARCHAR,\n",
    "    numero INT,\n",
    "    bairro VARCHAR, \n",
    "    cep VARCHAR(8),\n",
    "    cidade VARCHAR,\n",
    "    tipo_imovel VARCHAR,\n",
    "    area_util FLOAT,\n",
    "    banheiros INT,\n",
    "    suites INT,\n",
    "    quartos INT,\n",
    "    vagas_garagem INT,\n",
    "    anuncio_criado DATE,\n",
    "    tipo_anuncio VARCHAR,\n",
    "    preco_venda FLOAT,\n",
    "    taxa_condominio FLOAT,\n",
    "    peridiocidade INT,\n",
    "    preco_aluguel FLOAT,\n",
    "    iptu_ano FLOAT \n",
    ")''')\n",
    "\n",
    "#logradouro,numero,bairro,cep,cidade,tipo_imovel,area_util,banheiros,\n",
    "# suites,quartos,vagas_garagem,anuncio_criado,tipo_anuncio,preco_venda,\n",
    "# taxa_condominio,periodicidade,preco_aluguel,iptu_ano"
   ]
  },
  {
   "cell_type": "code",
   "execution_count": 23,
   "metadata": {},
   "outputs": [
    {
     "ename": "OperationalError",
     "evalue": "table preco_imoveis has no column named periodicidade",
     "output_type": "error",
     "traceback": [
      "\u001b[1;31m---------------------------------------------------------------------------\u001b[0m",
      "\u001b[1;31mOperationalError\u001b[0m                          Traceback (most recent call last)",
      "\u001b[1;32mc:\\Users\\nathi\\repo\\on26-python-s13-projeto-guiado-II\\exercicios\\para-casa\\banco_imoveissp.ipynb Cell 5\u001b[0m line \u001b[0;36m3\n\u001b[0;32m      <a href='vscode-notebook-cell:/c%3A/Users/nathi/repo/on26-python-s13-projeto-guiado-II/exercicios/para-casa/banco_imoveissp.ipynb#W5sZmlsZQ%3D%3D?line=0'>1</a>\u001b[0m inserir_conteudo \u001b[39m=\u001b[39m \u001b[39m\"\u001b[39m\u001b[39mINSERT INTO preco_imoveis (logradouro,numero,bairro,cep,cidade,tipo_imovel,area_util,banheiros,suites,quartos,vagas_garagem,anuncio_criado,tipo_anuncio,preco_venda,taxa_condominio,periodicidade,preco_aluguel,iptu_ano)VALUES(?, ?, ?, ?, ?, ?, ?, ?, ?, ?, ?, ?, ?, ?, ?, ?, ?, ?)\u001b[39m\u001b[39m\"\u001b[39m\n\u001b[1;32m----> <a href='vscode-notebook-cell:/c%3A/Users/nathi/repo/on26-python-s13-projeto-guiado-II/exercicios/para-casa/banco_imoveissp.ipynb#W5sZmlsZQ%3D%3D?line=2'>3</a>\u001b[0m cursor\u001b[39m.\u001b[39;49mexecutemany(inserir_conteudo, conteudo)\n",
      "\u001b[1;31mOperationalError\u001b[0m: table preco_imoveis has no column named periodicidade"
     ]
    }
   ],
   "source": [
    "inserir_conteudo = \"INSERT INTO preco_imoveis (logradouro,numero,bairro,cep,cidade,tipo_imovel,area_util,banheiros,suites,quartos,vagas_garagem,anuncio_criado,tipo_anuncio,preco_venda,taxa_condominio,periodicidade,preco_aluguel,iptu_ano)VALUES(?, ?, ?, ?, ?, ?, ?, ?, ?, ?, ?, ?, ?, ?, ?, ?, ?, ?)\"\n",
    "\n",
    "cursor.executemany(inserir_conteudo, conteudo)"
   ]
  },
  {
   "cell_type": "code",
   "execution_count": null,
   "metadata": {},
   "outputs": [],
   "source": [
    "selecionar_tudo = \"SELECT * FROM preco_imoveis\"\n",
    "entradas = cursor.execute(selecionar_tudo).fetchall()"
   ]
  },
  {
   "cell_type": "code",
   "execution_count": null,
   "metadata": {},
   "outputs": [],
   "source": [
    "for entrada in entradas:\n",
    "  print(entrada)"
   ]
  }
 ],
 "metadata": {
  "kernelspec": {
   "display_name": "Python 3",
   "language": "python",
   "name": "python3"
  },
  "language_info": {
   "codemirror_mode": {
    "name": "ipython",
    "version": 3
   },
   "file_extension": ".py",
   "mimetype": "text/x-python",
   "name": "python",
   "nbconvert_exporter": "python",
   "pygments_lexer": "ipython3",
   "version": "3.11.6"
  }
 },
 "nbformat": 4,
 "nbformat_minor": 2
}
