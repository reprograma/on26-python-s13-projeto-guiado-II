{
 "cells": [
  {
   "cell_type": "code",
   "execution_count": 1,
   "metadata": {},
   "outputs": [],
   "source": [
    "import csv\n",
    "import sqlite3"
   ]
  },
  {
   "cell_type": "code",
   "execution_count": 2,
   "metadata": {},
   "outputs": [],
   "source": [
    "file = open(\"Obesity_Classification.csv\")"
   ]
  },
  {
   "cell_type": "code",
   "execution_count": 3,
   "metadata": {},
   "outputs": [],
   "source": [
    "conteudo = csv.reader(file)\n",
    "\n",
    "connection = sqlite3.connect(\"banco_obesidade.db\")\n",
    "\n",
    "cursor = connection.cursor()"
   ]
  },
  {
   "cell_type": "code",
   "execution_count": 7,
   "metadata": {},
   "outputs": [
    {
     "data": {
      "text/plain": [
       "<sqlite3.Cursor at 0x1df249ebf40>"
      ]
     },
     "execution_count": 7,
     "metadata": {},
     "output_type": "execute_result"
    }
   ],
   "source": [
    "cursor.execute('''CREATE TABLE IF NOT EXISTS tabela_obesidade(\n",
    "    ID INT,\n",
    "    Age INT , \n",
    "    Gender VARCHAR,\n",
    "    Height INT,\n",
    "    Weight INT ,\n",
    "    BMI FLOAT,\n",
    "    Label VARCHAR\n",
    ")''')"
   ]
  },
  {
   "cell_type": "code",
   "execution_count": 8,
   "metadata": {},
   "outputs": [
    {
     "data": {
      "text/plain": [
       "<sqlite3.Cursor at 0x1df249ebf40>"
      ]
     },
     "execution_count": 8,
     "metadata": {},
     "output_type": "execute_result"
    }
   ],
   "source": [
    "\n",
    "inserir_conteudo = \"INSERT INTO tabela_obesidade(ID, Age, Gender, Height, Weight, BMI, Label)VALUES(?, ?, ?, ?, ?, ?, ?)\"\n",
    "\n",
    "cursor.executemany(inserir_conteudo, conteudo)"
   ]
  },
  {
   "cell_type": "code",
   "execution_count": 9,
   "metadata": {},
   "outputs": [],
   "source": [
    "selecionar_tudo = \"SELECT * FROM tabela_obesidade\"\n",
    "entradas = cursor.execute(selecionar_tudo).fetchall()"
   ]
  },
  {
   "cell_type": "code",
   "execution_count": 10,
   "metadata": {},
   "outputs": [
    {
     "name": "stdout",
     "output_type": "stream",
     "text": [
      "('ID', 'Age', 'Gender', 'Height', 'Weight', 'BMI', 'Label')\n",
      "(1, 25, 'Male', 175, 80, 25.3, 'Normal Weight')\n",
      "(2, 30, 'Female', 160, 60, 22.5, 'Normal Weight')\n",
      "(3, 35, 'Male', 180, 90, 27.3, 'Overweight')\n",
      "(4, 40, 'Female', 150, 50, 20.0, 'Underweight')\n",
      "(5, 45, 'Male', 190, 100, 31.2, 'Obese')\n",
      "(6, 50, 'Female', 140, 40, 16.7, 'Underweight')\n",
      "(7, 55, 'Male', 200, 110, 34.2, 'Obese')\n",
      "(8, 60, 'Female', 130, 30, 13.3, 'Underweight')\n",
      "(9, 65, 'Male', 210, 120, 37.2, 'Obese')\n",
      "(10, 70, 'Female', 120, 20, 10.0, 'Underweight')\n",
      "(11, 18, 'Male', 175, 70, 23.4, 'Normal Weight')\n",
      "(12, 23, 'Female', 160, 50, 20.0, 'Underweight')\n",
      "(13, 28, 'Male', 180, 80, 25.3, 'Normal Weight')\n",
      "(14, 33, 'Female', 150, 60, 22.5, 'Normal Weight')\n",
      "(15, 38, 'Male', 190, 90, 27.3, 'Overweight')\n",
      "(16, 43, 'Female', 140, 50, 20.0, 'Underweight')\n",
      "(17, 48, 'Male', 200, 100, 31.2, 'Obese')\n",
      "(19, 53, 'Female', 130, 40, 16.7, 'Underweight')\n",
      "(20, 58, 'Male', 210, 110, 34.2, 'Obese')\n",
      "(21, 63, 'Female', 120, 30, 13.3, 'Underweight')\n",
      "(22, 68, 'Male', 175, 80, 25.3, 'Normal Weight')\n",
      "(23, 73, 'Female', 160, 60, 22.5, 'Normal Weight')\n",
      "(24, 78, 'Male', 180, 90, 27.3, 'Overweight')\n",
      "(25, 83, 'Female', 150, 50, 20.0, 'Underweight')\n",
      "(26, 88, 'Male', 190, 100, 31.2, 'Obese')\n",
      "(27, 93, 'Female', 140, 40, 16.7, 'Underweight')\n",
      "(28, 98, 'Male', 200, 110, 34.2, 'Obese')\n",
      "(29, 103, 'Female', 130, 30, 13.3, 'Underweight')\n",
      "(30, 108, 'Male', 210, 120, 37.2, 'Obese')\n",
      "(31, 19, 'Male', 175, 75, 24.2, 'Normal Weight')\n",
      "(32, 24, 'Female', 160, 55, 21.2, 'Normal Weight')\n",
      "(33, 29, 'Male', 180, 85, 26.1, 'Overweight')\n",
      "(35, 39, 'Male', 190, 95, 27.0, 'Overweight')\n",
      "(36, 44, 'Female', 140, 75, 25.0, 'Overweight')\n",
      "(37, 49, 'Male', 200, 105, 28.9, 'Obese')\n",
      "(38, 54, 'Female', 130, 85, 27.5, 'Overweight')\n",
      "(39, 59, 'Male', 210, 115, 30.8, 'Obese')\n",
      "(40, 64, 'Female', 120, 95, 29.1, 'Overweight')\n",
      "(41, 17, 'Male', 175, 65, 22.7, 'Normal Weight')\n",
      "(42, 22, 'Female', 160, 45, 18.7, 'Underweight')\n",
      "(43, 27, 'Male', 180, 75, 24.2, 'Normal Weight')\n",
      "(44, 32, 'Female', 150, 55, 21.2, 'Normal Weight')\n",
      "(45, 37, 'Male', 190, 85, 26.1, 'Overweight')\n",
      "(46, 42, 'Female', 140, 65, 22.7, 'Normal Weight')\n",
      "(47, 47, 'Male', 200, 95, 27.0, 'Overweight')\n",
      "(48, 52, 'Female', 130, 75, 25.0, 'Overweight')\n",
      "(49, 57, 'Male', 210, 105, 28.9, 'Obese')\n",
      "(50, 62, 'Female', 120, 85, 27.5, 'Overweight')\n",
      "(51, 67, 'Male', 175, 65, 22.7, 'Normal Weight')\n",
      "(52, 72, 'Female', 160, 45, 18.7, 'Underweight')\n",
      "(53, 77, 'Male', 180, 75, 24.2, 'Normal Weight')\n",
      "(54, 82, 'Female', 150, 55, 21.2, 'Normal Weight')\n",
      "(55, 87, 'Male', 190, 85, 26.1, 'Overweight')\n",
      "(56, 92, 'Female', 140, 65, 22.7, 'Normal Weight')\n",
      "(57, 97, 'Male', 200, 95, 27.0, 'Overweight')\n",
      "(58, 102, 'Female', 130, 75, 25.0, 'Overweight')\n",
      "(59, 107, 'Male', 210, 105, 28.9, 'Obese')\n",
      "(60, 112, 'Female', 120, 85, 27.5, 'Overweight')\n",
      "(61, 16, 'Male', 175, 55, 21.2, 'Normal Weight')\n",
      "(62, 21, 'Female', 160, 35, 16.7, 'Underweight')\n",
      "(63, 26, 'Male', 180, 65, 22.7, 'Normal Weight')\n",
      "(64, 31, 'Female', 150, 45, 18.7, 'Underweight')\n",
      "(65, 36, 'Male', 190, 75, 24.2, 'Normal Weight')\n",
      "(66, 41, 'Female', 140, 55, 21.2, 'Normal Weight')\n",
      "(67, 46, 'Male', 200, 85, 26.1, 'Overweight')\n",
      "(68, 51, 'Female', 130, 65, 22.7, 'Normal Weight')\n",
      "(69, 56, 'Male', 210, 95, 27.0, 'Overweight')\n",
      "(70, 61, 'Female', 120, 75, 25.0, 'Overweight')\n",
      "(71, 15, 'Male', 175, 45, 18.7, 'Underweight')\n",
      "(72, 20, 'Female', 160, 30, 13.3, 'Underweight')\n",
      "(73, 25, 'Male', 180, 55, 21.2, 'Normal Weight')\n",
      "(74, 30, 'Female', 150, 40, 16.7, 'Underweight')\n",
      "(75, 35, 'Male', 190, 65, 22.7, 'Normal Weight')\n",
      "(76, 40, 'Female', 140, 50, 20.0, 'Underweight')\n",
      "(77, 45, 'Male', 200, 75, 24.2, 'Normal Weight')\n",
      "(78, 50, 'Female', 130, 60, 22.5, 'Normal Weight')\n",
      "(79, 55, 'Male', 210, 85, 26.1, 'Overweight')\n",
      "(80, 60, 'Female', 120, 70, 23.4, 'Normal Weight')\n",
      "(81, 14, 'Male', 175, 35, 16.7, 'Underweight')\n",
      "(82, 19, 'Female', 160, 25, 10.0, 'Underweight')\n",
      "(83, 24, 'Male', 180, 45, 18.7, 'Underweight')\n",
      "(84, 29, 'Female', 150, 30, 13.3, 'Underweight')\n",
      "(85, 34, 'Male', 190, 55, 21.2, 'Normal Weight')\n",
      "(86, 13, 'Male', 175, 25, 10.0, 'Underweight')\n",
      "(87, 18, 'Female', 160, 20, 8.3, 'Underweight')\n",
      "(88, 23, 'Male', 180, 30, 13.3, 'Underweight')\n",
      "(89, 28, 'Female', 150, 25, 10.0, 'Underweight')\n",
      "(90, 33, 'Male', 190, 40, 16.7, 'Underweight')\n",
      "(91, 38, 'Female', 140, 35, 16.7, 'Underweight')\n",
      "(92, 43, 'Male', 200, 50, 20.0, 'Underweight')\n",
      "(93, 48, 'Female', 130, 40, 16.7, 'Underweight')\n",
      "(94, 53, 'Male', 210, 55, 21.2, 'Normal Weight')\n",
      "(95, 58, 'Female', 120, 35, 16.7, 'Underweight')\n",
      "(96, 12, 'Male', 175, 15, 5.6, 'Underweight')\n",
      "(97, 17, 'Female', 160, 15, 5.6, 'Underweight')\n",
      "(98, 22, 'Male', 180, 20, 8.3, 'Underweight')\n",
      "(99, 27, 'Female', 150, 20, 8.3, 'Underweight')\n",
      "(100, 32, 'Male', 190, 25, 10.0, 'Underweight')\n",
      "(101, 37, 'Female', 140, 25, 10.0, 'Underweight')\n",
      "(102, 42, 'Male', 200, 30, 13.3, 'Underweight')\n",
      "(103, 47, 'Female', 130, 30, 13.3, 'Underweight')\n",
      "(104, 52, 'Male', 210, 35, 16.7, 'Underweight')\n",
      "(105, 57, 'Female', 120, 25, 10.0, 'Underweight')\n",
      "(106, 11, 'Male', 175, 10, 3.9, 'Underweight')\n",
      "(107, 16, 'Female', 160, 10, 3.9, 'Underweight')\n",
      "(108, 21, 'Male', 180, 15, 5.6, 'Underweight')\n",
      "(109, 26, 'Female', 150, 15, 5.6, 'Underweight')\n",
      "(110, 31, 'Male', 190, 20, 8.3, 'Underweight')\n"
     ]
    }
   ],
   "source": [
    "for entrada in entradas:\n",
    "  print(entrada)"
   ]
  },
  {
   "cell_type": "code",
   "execution_count": null,
   "metadata": {},
   "outputs": [],
   "source": [
    "connection.commit()\n",
    "connection.close()"
   ]
  }
 ],
 "metadata": {
  "kernelspec": {
   "display_name": "Python 3",
   "language": "python",
   "name": "python3"
  },
  "language_info": {
   "codemirror_mode": {
    "name": "ipython",
    "version": 3
   },
   "file_extension": ".py",
   "mimetype": "text/x-python",
   "name": "python",
   "nbconvert_exporter": "python",
   "pygments_lexer": "ipython3",
   "version": "3.11.6"
  }
 },
 "nbformat": 4,
 "nbformat_minor": 2
}
