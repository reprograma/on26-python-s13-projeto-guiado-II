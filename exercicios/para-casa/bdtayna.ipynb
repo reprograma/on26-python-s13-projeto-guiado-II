{
 "cells": [
  {
   "cell_type": "markdown",
   "metadata": {},
   "source": [
    "###Banco de dados"
   ]
  },
  {
   "cell_type": "code",
   "execution_count": 1,
   "metadata": {},
   "outputs": [],
   "source": [
    "import csv\n",
    "import sqlite3"
   ]
  },
  {
   "cell_type": "code",
   "execution_count": 2,
   "metadata": {},
   "outputs": [],
   "source": [
    "file = open(\"CoffeeAndCode.csv\", encoding= 'UTF-8') "
   ]
  },
  {
   "cell_type": "code",
   "execution_count": 3,
   "metadata": {},
   "outputs": [],
   "source": [
    "conteudo = csv.reader(file)\n",
    "\n",
    "connection = sqlite3.connect(\"CafeECodigo.db\")\n",
    "\n",
    "cursor = connection.cursor()"
   ]
  },
  {
   "cell_type": "code",
   "execution_count": 4,
   "metadata": {},
   "outputs": [
    {
     "data": {
      "text/plain": [
       "<sqlite3.Cursor at 0x24d095af8c0>"
      ]
     },
     "execution_count": 4,
     "metadata": {},
     "output_type": "execute_result"
    }
   ],
   "source": [
    "cursor.execute('''CREATE TABLE IF NOT EXISTS rank (\n",
    "    CodingHours INT,\n",
    "    CoffeeCupsPerDay INT,\n",
    "    CoffeeTime VARCHAR, \n",
    "    CodingWithoutCoffee VARCHAR,\n",
    "    CoffeeType VARCHAR,\n",
    "    CoffeeSolveBugs VARCHAR,\n",
    "    Gender VARCHAR,\n",
    "    Country VARCHAR,\n",
    "    AgeRange VARCHAR\n",
    "    \n",
    ")''')"
   ]
  },
  {
   "cell_type": "code",
   "execution_count": 5,
   "metadata": {},
   "outputs": [
    {
     "data": {
      "text/plain": [
       "<sqlite3.Cursor at 0x24d095af8c0>"
      ]
     },
     "execution_count": 5,
     "metadata": {},
     "output_type": "execute_result"
    }
   ],
   "source": [
    "inserir_conteudo = \"INSERT INTO rank (CodingHours, CoffeeCupsPerDay, CoffeeTime, CodingWithoutCoffee, CoffeeType, CoffeeSolveBugs, Gender, Country, AgeRange) VALUES (?, ?, ?, ?, ?, ?, ?, ?, ?)\"\n",
    "conteudo = (10, 3, 'morning', 'yes', 'espresso', 'yes', 'Male', 'USA', '25-34')\n",
    "cursor.execute(inserir_conteudo, conteudo)"
   ]
  },
  {
   "cell_type": "code",
   "execution_count": 6,
   "metadata": {},
   "outputs": [],
   "source": [
    "selecionar_tudo = \"SELECT * FROM rank\"\n",
    "entradas = cursor.execute(selecionar_tudo).fetchall()"
   ]
  },
  {
   "cell_type": "code",
   "execution_count": 7,
   "metadata": {},
   "outputs": [
    {
     "name": "stdout",
     "output_type": "stream",
     "text": [
      "(10, 3, 'morning', 'yes', 'espresso', 'yes', 'Male', 'USA', '25-34')\n",
      "(10, 3, 'morning', 'yes', 'espresso', 'yes', 'Male', 'USA', '25-34')\n"
     ]
    }
   ],
   "source": [
    "for entrada in entradas:\n",
    "  print(entrada)"
   ]
  },
  {
   "cell_type": "code",
   "execution_count": null,
   "metadata": {},
   "outputs": [],
   "source": [
    "connection.commit()\n",
    "connection.close()"
   ]
  }
 ],
 "metadata": {
  "kernelspec": {
   "display_name": "Python 3",
   "language": "python",
   "name": "python3"
  },
  "language_info": {
   "codemirror_mode": {
    "name": "ipython",
    "version": 3
   },
   "file_extension": ".py",
   "mimetype": "text/x-python",
   "name": "python",
   "nbconvert_exporter": "python",
   "pygments_lexer": "ipython3",
   "version": "3.11.5"
  }
 },
 "nbformat": 4,
 "nbformat_minor": 2
}
