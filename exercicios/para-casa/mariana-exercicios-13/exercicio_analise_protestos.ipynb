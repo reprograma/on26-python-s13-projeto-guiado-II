{
 "cells": [
  {
   "cell_type": "markdown",
   "metadata": {},
   "source": [
    "# Sobre a base de dados e a análise\n",
    "\n",
    "Esta base de dados pretende acompanhar e reunir informações sobre os principais protestos antigovernamentais ocorridos em todo o mundo. Compreende manifestações de países das Américas, da Europa, da Ásia, da África e da Oceania ocorridas (ou ainda em andamento) desde 2017, trazendo informações como a data de início do evento, as motivações, o país em que aconteceu (ou está acontecendo), principais lideranças, a duração, o tamanho e os resultados obtidos. \n",
    "A última atualização aconteceu em maio de 2022, por isso não há tantos registros relacionados a esse ano.\n",
    "\n",
    "Esta análise pretende explorar algumas informações da base de dados com a intenção de torná-las legíveis e facilmente assimiláveis para qualquer pessoa. O grupo de países analisado com mais ênfase é o dos países da América do Sul, dos quais foram explorados alguns dados como o número de protestos total iniciados entre 2017 e 2022, o percentual de manifestações iniciadas em cada país e o nível de liberdade. A partir da avaliação dos países da América do Sul compreendidos nesta base de dados (que não são todos), foram feitas comparações com outros grupos de países, para obtermos uma visão mais abrangente do posicionamento desta região em comparação com outras regiões do mundo.  \n",
    "\n",
    "\n",
    "\n"
   ]
  },
  {
   "cell_type": "markdown",
   "metadata": {},
   "source": [
    "## Importação das bibliotecas, leitura do csv e avaliação da base de dados"
   ]
  },
  {
   "cell_type": "code",
   "execution_count": null,
   "metadata": {},
   "outputs": [],
   "source": [
    "import pandas as pd\n",
    "import matplotlib.pyplot as plt\n",
    "import numpy as np"
   ]
  },
  {
   "cell_type": "code",
   "execution_count": null,
   "metadata": {},
   "outputs": [],
   "source": [
    "df = pd.read_csv(\"GlobalProtestTracker.csv\", encoding= 'UTF-8')\n",
    "df. head(3)"
   ]
  },
  {
   "cell_type": "code",
   "execution_count": null,
   "metadata": {},
   "outputs": [],
   "source": [
    "df.info()"
   ]
  },
  {
   "cell_type": "markdown",
   "metadata": {},
   "source": [
    "## Tratamento da base de dados a ser manipulada\n",
    "\n",
    "Foi feita uma cópia da base de dados original para ser tratada e analisada. O tratamento, basicamente, consistiu em identificar e excluir colunas com poucos campos preenchidos ou que continham dados irrelevantes para a análise pretendida."
   ]
  },
  {
   "cell_type": "code",
   "execution_count": null,
   "metadata": {},
   "outputs": [],
   "source": [
    "#Criando uma cópia da base de dados\n",
    "\n",
    "df_copia = df.copy()\n"
   ]
  },
  {
   "cell_type": "code",
   "execution_count": null,
   "metadata": {},
   "outputs": [],
   "source": [
    "df['Political motivation?'].isnull().sum()"
   ]
  },
  {
   "cell_type": "code",
   "execution_count": null,
   "metadata": {},
   "outputs": [],
   "source": [
    "#Excluindo colunas com muitos dados nulos e sem relevância para esta análise\n",
    "\n",
    "df_copia.drop(columns=[\"Active protests\", \"Corruption motivation?\", \"Political motivation?\",'Economic motivation?', \"Protests with a significant outcome\", \"Large protests (Over 100,000 protesting)\", \"Violent government response\", \"Long protests (more than 3 months)\", \"Coronavirus-related protests\", \"Capital city\"], inplace=True)\n",
    "df_copia.head(3)"
   ]
  },
  {
   "cell_type": "code",
   "execution_count": null,
   "metadata": {},
   "outputs": [],
   "source": [
    "not_free = df_copia['Freedom Rating (Status)'].str.contains('Not free')\n",
    "not_free.count()"
   ]
  },
  {
   "cell_type": "code",
   "execution_count": null,
   "metadata": {},
   "outputs": [],
   "source": [
    "#Correção da grafia\n",
    "df_copia.iloc[233].replace(['Partly freee'], ['Partly free'], inplace=True)"
   ]
  },
  {
   "cell_type": "markdown",
   "metadata": {},
   "source": [
    "### Algumas avaliações gerais"
   ]
  },
  {
   "cell_type": "code",
   "execution_count": null,
   "metadata": {},
   "outputs": [],
   "source": [
    "df_copia.shape"
   ]
  },
  {
   "cell_type": "code",
   "execution_count": null,
   "metadata": {},
   "outputs": [],
   "source": [
    "#O país que mais aparece é a França (com mais protestos registrados)\n",
    "valores = df[\"Country\"].value_counts()\n",
    "valores\n"
   ]
  },
  {
   "cell_type": "markdown",
   "metadata": {},
   "source": [
    "### Agrupando os países da América do Sul"
   ]
  },
  {
   "cell_type": "code",
   "execution_count": null,
   "metadata": {},
   "outputs": [],
   "source": [
    "#Fazendo uma df só com os países da América do Sul\n",
    "df_copia_brazil = df_copia[df_copia['Country'].str.contains('Brazil')]\n",
    "df_copia_argentina = df_copia[df_copia['Country'].str.contains('Argentina')]\n",
    "df_copia_uruguay = df_copia[df_copia['Country'].str.contains('Uruguay')]\n",
    "df_copia_paraguay = df_copia[df_copia['Country'].str.contains('Paraguay')]\n",
    "df_copia_chile = df_copia[df_copia['Country'].str.contains('Chile')]\n",
    "df_copia_colombia = df_copia[df_copia['Country'].str.contains('Colombia')]\n",
    "df_copia_bolivia = df_copia[df_copia['Country'].str.contains('Bolivia')]\n",
    "df_copia_venezuela = df_copia[df_copia['Country'].str.contains('Venezuela')]\n",
    "df_copia_guyana = df_copia[df_copia['Country'].str.contains('Guyana')]\n",
    "df_copia_peru = df_copia[df_copia['Country'].str.contains('Peru')]\n",
    "df_copia_ecuador = df_copia[df_copia['Country'].str.contains('Ecuador')]\n",
    "df_copia_suriname = df_copia[df_copia['Country'].str.contains('Suriname')] \n",
    "\n",
    "frames = [df_copia_brazil, df_copia_argentina, df_copia_peru, df_copia_bolivia, df_copia_chile, df_copia_guyana, df_copia_ecuador, df_copia_colombia, df_copia_uruguay, df_copia_paraguay, df_copia_venezuela, df_copia_suriname]\n",
    "\n",
    "df_america_sul = pd.concat(frames)\n",
    "df_america_sul.head(6)"
   ]
  },
  {
   "cell_type": "code",
   "execution_count": null,
   "metadata": {},
   "outputs": [],
   "source": [
    "df_america_sul.shape"
   ]
  },
  {
   "cell_type": "code",
   "execution_count": null,
   "metadata": {},
   "outputs": [],
   "source": [
    "df_copia['Start Date'].unique()"
   ]
  },
  {
   "cell_type": "code",
   "execution_count": null,
   "metadata": {},
   "outputs": [],
   "source": [
    "#Contagem do número de protestos que começaram em cada ano (no mundo)\n",
    "\n",
    "#mundo_2022 = df_copia[df_copia['Start Date'].str.contains('22')]\n",
    "#mundo_2022.count()\n",
    "#mundo_2021 = df_copia[df_copia['Start Date'].str.contains('21')]\n",
    "#mundo_2021.count()\n",
    "#mundo_2020 = df_copia[df_copia['Start Date'].str.contains('20')]\n",
    "#mundo_2020.count()\n",
    "#mundo_2019 = df_copia[df_copia['Start Date'].str.contains('19')]\n",
    "#mundo_2019.count()\n",
    "#mundo_2018 = df_copia[df_copia['Start Date'].str.contains('18')]\n",
    "#mundo_2018.count()\n",
    "#mundo_2017 = df_copia[df_copia['Start Date'].str.contains('17')]\n",
    "#mundo_2017.count()"
   ]
  },
  {
   "cell_type": "code",
   "execution_count": null,
   "metadata": {},
   "outputs": [],
   "source": [
    "#Contagem do número de protestos que começaram em cada ano (na América do Sul)\n",
    "\n",
    "#as_2022 = df_america_sul[df_america_sul['Start Date'].str.contains('22')]\n",
    "#as_2022.count()\n",
    "#as_2021 = df_america_sul[df_america_sul['Start Date'].str.contains('21')]\n",
    "#as_2021.count()\n",
    "#as_2020 = df_america_sul[df_america_sul['Start Date'].str.contains('20')]\n",
    "#as_2020.count()\n",
    "#as_2019 = df_america_sul[df_america_sul['Start Date'].str.contains('19')]\n",
    "#as_2019.count()\n",
    "#as_2018 = df_america_sul[df_america_sul['Start Date'].str.contains('18')]\n",
    "#as_2018.count()\n",
    "#as_2017 = df_america_sul[df_america_sul['Start Date'].str.contains('17')]\n",
    "#as_2017.count()"
   ]
  },
  {
   "cell_type": "markdown",
   "metadata": {},
   "source": [
    "### Agrupando países da Europa"
   ]
  },
  {
   "cell_type": "code",
   "execution_count": null,
   "metadata": {},
   "outputs": [],
   "source": [
    "df_copia['Country'].unique()"
   ]
  },
  {
   "cell_type": "code",
   "execution_count": null,
   "metadata": {},
   "outputs": [],
   "source": [
    "df_copia_austria = df_copia[df_copia['Country'].str.contains('Austria')]\n",
    "df_copia_belarus = df_copia[df_copia['Country'].str.contains('Belarus')]\n",
    "df_copia_belgium = df_copia[df_copia['Country'].str.contains('Belgium')]\n",
    "df_copia_bosnia = df_copia[df_copia['Country'].str.contains('Bosnia and Herzegovina')]\n",
    "df_copia_bulgaria = df_copia[df_copia['Country'].str.contains('Bulgaria')]\n",
    "df_copia_croatia = df_copia[df_copia['Country'].str.contains('Croatia')]\n",
    "df_copia_cyprus = df_copia[df_copia['Country'].str.contains('Cyprus')]\n",
    "df_copia_czech = df_copia[df_copia['Country'].str.contains('Czech Republic')]\n",
    "df_copia_france = df_copia[df_copia['Country'].str.contains('France')]\n",
    "df_copia_georgia = df_copia[df_copia['Country'].str.contains('Georgia')]\n",
    "df_copia_germany = df_copia[df_copia['Country'].str.contains('Germany')]\n",
    "df_copia_greece = df_copia[df_copia['Country'].str.contains('Greece')]\n",
    "df_copia_hungary = df_copia[df_copia['Country'].str.contains('Hungary')]\n",
    "df_copia_italy = df_copia[df_copia['Country'].str.contains('Italy')]\n",
    "df_copia_malta = df_copia[df_copia['Country'].str.contains('Malta')]\n",
    "df_copia_moldova = df_copia[df_copia['Country'].str.contains('Moldova')]  \n",
    "df_copia_montenegro = df_copia[df_copia['Country'].str.contains('Montenegro')]\n",
    "df_copia_netherlands = df_copia[df_copia['Country'].str.contains('Netherlands')]\n",
    "df_copia_macedonia = df_copia[df_copia['Country'].str.contains('North Macedonia')]\n",
    "df_copia_poland = df_copia[df_copia['Country'].str.contains('Poland')]\n",
    "df_copia_portugal = df_copia[df_copia['Country'].str.contains('Portugal')]\n",
    "df_copia_romania = df_copia[df_copia['Country'].str.contains('Romania')]\n",
    "df_copia_serbia = df_copia[df_copia['Country'].str.contains('Serbia')]\n",
    "df_copia_slovakia = df_copia[df_copia['Country'].str.contains('Slovakia')]\n",
    "df_copia_slovenia = df_copia[df_copia['Country'].str.contains('Slovenia')]\n",
    "df_copia_spain = df_copia[df_copia['Country'].str.contains('Spain')]  \n",
    "df_copia_switzerland = df_copia[df_copia['Country'].str.contains('Switzerland')]\n",
    "df_copia_turkey = df_copia[df_copia['Country'].str.contains('Turkey')]\n",
    "df_copia_ukraine = df_copia[df_copia['Country'].str.contains('Ukraine')]\n",
    "df_copia_uk = df_copia[df_copia['Country'].str.contains('United Kingdom')]\n",
    "frames = [df_copia_austria, df_copia_uk, df_copia_ukraine, df_copia_turkey, df_copia_switzerland, df_copia_spain, df_copia_slovenia, df_copia_slovakia, df_copia_serbia,\n",
    "          df_copia_romania, df_copia_portugal, df_copia_poland,df_copia_macedonia,df_copia_netherlands, df_copia_montenegro, df_copia_moldova, df_copia_malta,\n",
    "          df_copia_italy, df_copia_hungary, df_copia_greece, df_copia_germany, df_copia_georgia, df_copia_france, df_copia_czech, df_copia_cyprus, df_copia_croatia,\n",
    "           df_copia_bulgaria, df_copia_bosnia, df_copia_belgium, df_copia_belarus]\n",
    "\n",
    "df_europa = pd.concat(frames)\n",
    "df_europa.head(6)"
   ]
  },
  {
   "cell_type": "code",
   "execution_count": null,
   "metadata": {},
   "outputs": [],
   "source": [
    "#Contagem do número de protestos que começaram em cada ano (na Europa)\n",
    "\n",
    "#eu_2022 = df_europa[df_europa['Start Date'].str.contains('22')]\n",
    "#eu_2022.count()\n",
    "#eu_2021 = df_europa[df_europa['Start Date'].str.contains('21')]\n",
    "#eu_2021.count()\n",
    "#eu_2020 = df_europa[df_europa['Start Date'].str.contains('20')]\n",
    "#eu_2020.count()\n",
    "#eu_2019 = df_europa[df_europa['Start Date'].str.contains('19')]\n",
    "#eu_2019.count()\n",
    "#eu_2018 = df_europa[df_europa['Start Date'].str.contains('18')]\n",
    "#eu_2018.count()\n",
    "#eu_2017 = df_europa[df_europa['Start Date'].str.contains('17')]\n",
    "#eu_2017.count()"
   ]
  },
  {
   "cell_type": "code",
   "execution_count": null,
   "metadata": {},
   "outputs": [],
   "source": [
    "valores_mundo = [31, 51, 66, 87, 77, 17]\n",
    "valores_america_sul = [2, 2, 7, 11, 8, 3]\n",
    "valores_europa = [4, 11,14,25, 26, 5]\n",
    "\n",
    "barWidth = 0.20\n",
    "\n",
    "plt.figure(figsize=(12,6))\n",
    "\n",
    "b1 = np.arange(len(valores_mundo))\n",
    "b2 = [x + barWidth for x in b1] \n",
    "b3 = [x + barWidth for x in b2]\n",
    "\n",
    "plt.bar(b1, valores_mundo, color = 'blue', width=barWidth, label='Mundo')\n",
    "plt.bar(b2, valores_america_sul, color = 'green', width=barWidth, label='América do Sul')\n",
    "plt.bar(b3, valores_europa, color = 'red', width=barWidth, label='Europa')\n",
    "\n",
    "plt.xticks([r + barWidth for r in range(len(valores_mundo))], ['2017', '2018', '2019', '2020', '2021', '2022'])\n",
    "plt.ylabel('Quantidade de protestos')\n",
    "plt.title('Quantidade de protestos iniciados no mundo, na América do Sul e na Europa')\n",
    "\n",
    "plt.legend()\n",
    "plt.show()"
   ]
  },
  {
   "cell_type": "code",
   "execution_count": null,
   "metadata": {},
   "outputs": [],
   "source": [
    "#Contando a quantidade de vezes que cada país da América do Sul aparece na base de dados\n",
    "\n",
    "#df_copia_brazil.count()\n",
    "#df_copia_argentina.count()\n",
    "#df_copia_uruguay.count() \n",
    "#df_copia_paraguay.count() \n",
    "#df_copia_chile.count() \n",
    "#df_copia_colombia.count()  \n",
    "#df_copia_bolivia.count()  \n",
    "#df_copia_venezuela.count()  \n",
    "#df_copia_peru.count()  \n",
    "#df_copia_ecuador.count()  \n"
   ]
  },
  {
   "cell_type": "code",
   "execution_count": null,
   "metadata": {},
   "outputs": [],
   "source": [
    "\n",
    "#Brazil = 4\n",
    "#Argentina = 5\n",
    "#Peru = 5\n",
    "#Bolivia = 4\n",
    "#Chile = 2\n",
    "#Ecuador = 3\n",
    "#Colombia = 5\n",
    "#Uruguay = 1\n",
    "#Paraguay = 1\n",
    "#Venezuela = 3\n",
    "numero_de_linhas = df_america_sul.shape[0] #para encontrar o número total de protestos da América do Sul\n",
    "lista = [4, 5, 5, 4, 2, 3, 5, 1, 1, 3]\n",
    "sizes = []\n",
    "for n in lista:                        #calcular o percentual do número de protestos de cada país\n",
    "    valor = (n/numero_de_linhas)*100\n",
    "    sizes.append(valor)\n",
    "\n",
    "\n",
    "labels = ['Brazil', 'Argentina', 'Peru', 'Bolivia', 'Chile', 'Ecuador',\n",
    "       'Colombia', 'Uruguay', 'Paraguay', 'Venezuela']\n",
    "\n",
    "#Criando uma figura e um eixo\n",
    "fig1, ax1 = plt.subplots()\n",
    "plt.pie(sizes, labels=labels, autopct = '%0.1f%%') #é possível colocar o valor correspondente a fatia usando o parametro autopct (aqui está definido que o valor terá 1 casa decimal)\n",
    "\n",
    "\n",
    "ax1.axis('equal')\n",
    "plt.suptitle('Percentual de protestos na América do Sul (2017-2022)')\n",
    "plt.show()\n",
    "\n"
   ]
  },
  {
   "cell_type": "markdown",
   "metadata": {},
   "source": [
    "### Comparação do nível de liberdade de manifestação"
   ]
  },
  {
   "cell_type": "code",
   "execution_count": null,
   "metadata": {},
   "outputs": [],
   "source": [
    "df_america_sul['Freedom Rating (Status)'].value_counts()"
   ]
  },
  {
   "cell_type": "code",
   "execution_count": null,
   "metadata": {},
   "outputs": [],
   "source": [
    "#Freedom Rating na AS\n",
    "sizes = [17, 13, 3]\n",
    "labels = ['Partly free', 'Free', 'Not free']\n",
    "plt.figure(figsize=(15,5))\n",
    "\n",
    "plt.barh(labels, sizes, color='green')\n",
    "plt.title('Freedom Rating (South America)')\n",
    "plt.show()\n"
   ]
  },
  {
   "cell_type": "markdown",
   "metadata": {},
   "source": [
    "### Agrupando países do Oriente Médio"
   ]
  },
  {
   "cell_type": "code",
   "execution_count": null,
   "metadata": {},
   "outputs": [],
   "source": [
    "df_copia['Country'].unique()"
   ]
  },
  {
   "cell_type": "code",
   "execution_count": null,
   "metadata": {},
   "outputs": [],
   "source": [
    "df_copia_egypt = df_copia[df_copia['Country'].str.contains('Egypt')]\n",
    "df_copia_iraq = df_copia[df_copia['Country'].str.contains('Iraq')]\n",
    "df_copia_sudao = df_copia[df_copia['Country'].str.contains('Sudan')]\n",
    "df_copia_libano = df_copia[df_copia['Country'].str.contains('Lebanon')]\n",
    "df_copia_tunisia = df_copia[df_copia['Country'].str.contains('Tunisia')]\n",
    "df_copia_algeria = df_copia[df_copia['Country'].str.contains('Algeria')]\n",
    "df_copia_marocco = df_copia[df_copia['Country'].str.contains('Marocco')]\n",
    "df_copia_jordan = df_copia[df_copia['Country'].str.contains('Jordan')]\n",
    "df_copia_kwait = df_copia[df_copia['Country'].str.contains('Kuwait')]\n",
    "df_copia_oman = df_copia[df_copia['Country'].str.contains('Oman')]\n",
    "df_copia_mauritania = df_copia[df_copia['Country'].str.contains('Mauritania')]\n",
    "df_copia_somalia = df_copia[df_copia['Country'].str.contains('Somalia')]\n",
    "df_copia_syria = df_copia[df_copia['Country'].str.contains('Syria')]\n",
    "df_copia_yemen = df_copia[df_copia['Country'].str.contains('Yemen')]\n",
    "df_copia_libya = df_copia[df_copia['Country'].str.contains('Libya')]\n",
    "df_copia_cameroon = df_copia[df_copia['Country'].str.contains('Cameroon')]\n",
    "\n",
    "frames = [df_copia_egypt, df_copia_iraq, df_copia_sudao, df_copia_libano, df_copia_tunisia, df_copia_algeria, df_copia_marocco, df_copia_jordan, \n",
    "          df_copia_kwait, df_copia_oman, df_copia_mauritania, df_copia_somalia,df_copia_syria,df_copia_yemen, df_copia_libya, \n",
    "          df_copia_cameroon]\n",
    "\n",
    "df_arabes = pd.concat(frames)\n",
    "df_arabes.head(6)"
   ]
  },
  {
   "cell_type": "code",
   "execution_count": null,
   "metadata": {},
   "outputs": [],
   "source": [
    "df_arabes.shape"
   ]
  },
  {
   "cell_type": "markdown",
   "metadata": {},
   "source": [
    "A seguir, será identificado o número de ocorrências dos status de liberdade (parcialmente livre, livre e não livre) em cada grupo de países considerado nesta comparação: países da América do Sul, da Europa e países árabes (e também os dados mundiais). Então, esses dados serão apresentados em um gráfico em linhas para termos noção do nível de liberdade de manifestação em cada grupo."
   ]
  },
  {
   "cell_type": "code",
   "execution_count": null,
   "metadata": {},
   "outputs": [],
   "source": [
    "#not_free = df_america_sul[df_america_sul['Freedom Rating (Status)'].str.contains('Not free')]\n",
    "#not_free.count()\n",
    "partly_free = df_america_sul[df_america_sul['Freedom Rating (Status)'].str.contains('Partly free')]\n",
    "partly_free.count()\n",
    "#free = df_america_sul[df_america_sul['Freedom Rating (Status)'].str.match('Free')]\n",
    "#free.count()\n"
   ]
  },
  {
   "cell_type": "code",
   "execution_count": null,
   "metadata": {},
   "outputs": [],
   "source": [
    "#not_free = df_europa[df_europa['Freedom Rating (Status)'].str.contains('Not free')]\n",
    "#not_free.count()\n",
    "#partly_free = df_europa[df_europa['Freedom Rating (Status)'].str.contains('Partly free')]\n",
    "#partly_free.count()\n",
    "free = df_europa[df_europa['Freedom Rating (Status)'].str.match('Free')]\n",
    "free.count()"
   ]
  },
  {
   "cell_type": "code",
   "execution_count": null,
   "metadata": {},
   "outputs": [],
   "source": [
    "#not_free = df_copia[df_copia['Freedom Rating (Status)'].str.contains('Not free')]\n",
    "#not_free.count()\n",
    "partly_free = df_copia[df_copia['Freedom Rating (Status)'].str.contains('Partly free')]\n",
    "partly_free.count()\n",
    "#free = df_copia[df_copia['Freedom Rating (Status)'].str.match('Free')]\n",
    "#free.count()"
   ]
  },
  {
   "cell_type": "code",
   "execution_count": null,
   "metadata": {},
   "outputs": [],
   "source": [
    "#not_free = df_arabes[df_arabes['Freedom Rating (Status)'].str.contains('Not free')]\n",
    "#not_free.count()\n",
    "#partly_free = df_arabes[df_arabes['Freedom Rating (Status)'].str.contains('Partly free')]\n",
    "#partly_free.count()\n",
    "free = df_arabes[df_arabes['Freedom Rating (Status)'].str.match('Free')]\n",
    "free.count()"
   ]
  },
  {
   "cell_type": "code",
   "execution_count": null,
   "metadata": {},
   "outputs": [],
   "source": [
    "x = ['Free', 'Partly Free', 'Not free']\n",
    "y_as = [17, 13, 3]\n",
    "y_mundo = [109, 118,102]\n",
    "y_europa = [56, 18, 11]\n",
    "y_arabes = [5, 4, 24]\n",
    "plt.figure(figsize=(10,6))\n",
    "plt.plot(x, y_as, color='green', linestyle='--', marker='o', linewidth=2, label='South America')\n",
    "plt.plot(x, y_europa, color='red', linestyle='--', marker='o', linewidth=2, label='Europa')\n",
    "plt.plot(x, y_mundo, color='blue', linestyle='--', marker='o', linewidth=2, label='World')\n",
    "plt.plot(x, y_arabes, color='orange', linestyle='--', marker='o', linewidth=2, label='Arab Countries')\n",
    "#plt.plot(df_sete_menos['Country or region'], df_sete_menos['GDP per capita'], color=\"purple\",linestyle='--', marker='o', linewidth=2, label='GDP per capita')\n",
    "#plt.plot(df_sete_menos['Country or region'], df_sete_menos['Freedom to make life choices'], color=\"red\", linestyle='--', marker='o', linewidth=2, label='Freedom to make life choices')\n",
    "#plt.plot(df_sete_menos['Country or region'], df_sete_menos['Healthy life expectancy'], color=\"blue\", linestyle='--', marker='o', linewidth=2, label='Healthy life expectancy')\n",
    "\n",
    "plt.legend()\n",
    "plt.title('Freedom Rating (status) - South America, Europe and Arab Countries', color =\"purple\" )"
   ]
  },
  {
   "cell_type": "markdown",
   "metadata": {},
   "source": [
    "## Insights "
   ]
  },
  {
   "cell_type": "markdown",
   "metadata": {},
   "source": [
    "* 2020 foi o ano com o maior número de manifestações antigoverno na América Latina, acompanhando uma tendência mundial. Aliás, em 2018 e 2022, os grupos analisados (países da europa e os sul-americanos) acompanharam a tendência mundial, de aumento do número de protestos entre 2018 e 2020 e queda nos anos posteriores. (Será que em 2023 o número foi menor que em 2022, seguindo esta tendência? A conferir...)\n",
    "* Argentina, Peru e Colômbia estão empatados no topo do ranking dos países sul-americanos com maior quantidade de protestos iniciados na América do Sul entre 2017 e 2022, enquanto o Brasil ocupa a segunda posição. Uruguai e Paraguai representam 3% cada um do número total de protestos iniciados na região no mesmo período.\n",
    "* A maior parte dos protestos iniciados na América do Sul são parcialmente livres. Somente na Venezuela os protestos receberam o status de não livres.\n",
    "* Quando comparamos o nível de liberdade entre América do Sul, Europa, países árabes e todos os países relacionados na database, percebemos que: (1) a maior parte dos protestos na América do Sul e na Europa são totalmente livres (e a Europa desbanca a América do Sul neste quesito); (2) já nos países árabes, a situação é bem diferente, sendo a maioria esmagadora das manifestações não livres."
   ]
  },
  {
   "cell_type": "markdown",
   "metadata": {},
   "source": []
  }
 ],
 "metadata": {
  "kernelspec": {
   "display_name": "Python 3",
   "language": "python",
   "name": "python3"
  },
  "language_info": {
   "codemirror_mode": {
    "name": "ipython",
    "version": 3
   },
   "file_extension": ".py",
   "mimetype": "text/x-python",
   "name": "python",
   "nbconvert_exporter": "python",
   "pygments_lexer": "ipython3",
   "version": "3.11.1"
  }
 },
 "nbformat": 4,
 "nbformat_minor": 2
}
