{
 "cells": [
  {
   "cell_type": "code",
   "execution_count": 3,
   "metadata": {},
   "outputs": [],
   "source": [
    "import pandas as pd\n",
    "import matplotlib.pyplot as plt"
   ]
  },
  {
   "cell_type": "code",
   "execution_count": 48,
   "metadata": {},
   "outputs": [],
   "source": [
    "df = pd.read_csv(\"Obesity_Classification.csv\")"
   ]
  },
  {
   "cell_type": "code",
   "execution_count": 49,
   "metadata": {},
   "outputs": [
    {
     "name": "stdout",
     "output_type": "stream",
     "text": [
      "<class 'pandas.core.frame.DataFrame'>\n"
     ]
    }
   ],
   "source": [
    "print(type(df))"
   ]
  },
  {
   "cell_type": "code",
   "execution_count": 50,
   "metadata": {},
   "outputs": [
    {
     "data": {
      "text/plain": [
       "ID          int64\n",
       "Age         int64\n",
       "Gender     object\n",
       "Height      int64\n",
       "Weight      int64\n",
       "BMI       float64\n",
       "Label      object\n",
       "dtype: object"
      ]
     },
     "execution_count": 50,
     "metadata": {},
     "output_type": "execute_result"
    }
   ],
   "source": [
    "df.dtypes"
   ]
  },
  {
   "cell_type": "code",
   "execution_count": 51,
   "metadata": {},
   "outputs": [
    {
     "name": "stdout",
     "output_type": "stream",
     "text": [
      "<class 'pandas.core.frame.DataFrame'>\n",
      "RangeIndex: 108 entries, 0 to 107\n",
      "Data columns (total 7 columns):\n",
      " #   Column  Non-Null Count  Dtype  \n",
      "---  ------  --------------  -----  \n",
      " 0   ID      108 non-null    int64  \n",
      " 1   Age     108 non-null    int64  \n",
      " 2   Gender  108 non-null    object \n",
      " 3   Height  108 non-null    int64  \n",
      " 4   Weight  108 non-null    int64  \n",
      " 5   BMI     108 non-null    float64\n",
      " 6   Label   108 non-null    object \n",
      "dtypes: float64(1), int64(4), object(2)\n",
      "memory usage: 6.0+ KB\n"
     ]
    }
   ],
   "source": [
    "df.info()"
   ]
  },
  {
   "cell_type": "code",
   "execution_count": 53,
   "metadata": {},
   "outputs": [
    {
     "data": {
      "text/plain": [
       "(108, 7)"
      ]
     },
     "execution_count": 53,
     "metadata": {},
     "output_type": "execute_result"
    }
   ],
   "source": [
    "df[df['Weight'].notnull()].shape"
   ]
  },
  {
   "cell_type": "code",
   "execution_count": 54,
   "metadata": {},
   "outputs": [
    {
     "data": {
      "text/plain": [
       "(108, 7)"
      ]
     },
     "execution_count": 54,
     "metadata": {},
     "output_type": "execute_result"
    }
   ],
   "source": [
    "df.shape"
   ]
  },
  {
   "cell_type": "code",
   "execution_count": 55,
   "metadata": {},
   "outputs": [
    {
     "data": {
      "text/html": [
       "<div>\n",
       "<style scoped>\n",
       "    .dataframe tbody tr th:only-of-type {\n",
       "        vertical-align: middle;\n",
       "    }\n",
       "\n",
       "    .dataframe tbody tr th {\n",
       "        vertical-align: top;\n",
       "    }\n",
       "\n",
       "    .dataframe thead th {\n",
       "        text-align: right;\n",
       "    }\n",
       "</style>\n",
       "<table border=\"1\" class=\"dataframe\">\n",
       "  <thead>\n",
       "    <tr style=\"text-align: right;\">\n",
       "      <th></th>\n",
       "      <th>ID</th>\n",
       "      <th>Age</th>\n",
       "      <th>Gender</th>\n",
       "      <th>Height</th>\n",
       "      <th>Weight</th>\n",
       "      <th>BMI</th>\n",
       "      <th>Label</th>\n",
       "    </tr>\n",
       "  </thead>\n",
       "  <tbody>\n",
       "    <tr>\n",
       "      <th>0</th>\n",
       "      <td>1</td>\n",
       "      <td>25</td>\n",
       "      <td>Male</td>\n",
       "      <td>175</td>\n",
       "      <td>80</td>\n",
       "      <td>25.3</td>\n",
       "      <td>Normal Weight</td>\n",
       "    </tr>\n",
       "    <tr>\n",
       "      <th>1</th>\n",
       "      <td>2</td>\n",
       "      <td>30</td>\n",
       "      <td>Female</td>\n",
       "      <td>160</td>\n",
       "      <td>60</td>\n",
       "      <td>22.5</td>\n",
       "      <td>Normal Weight</td>\n",
       "    </tr>\n",
       "    <tr>\n",
       "      <th>2</th>\n",
       "      <td>3</td>\n",
       "      <td>35</td>\n",
       "      <td>Male</td>\n",
       "      <td>180</td>\n",
       "      <td>90</td>\n",
       "      <td>27.3</td>\n",
       "      <td>Overweight</td>\n",
       "    </tr>\n",
       "    <tr>\n",
       "      <th>3</th>\n",
       "      <td>4</td>\n",
       "      <td>40</td>\n",
       "      <td>Female</td>\n",
       "      <td>150</td>\n",
       "      <td>50</td>\n",
       "      <td>20.0</td>\n",
       "      <td>Underweight</td>\n",
       "    </tr>\n",
       "    <tr>\n",
       "      <th>4</th>\n",
       "      <td>5</td>\n",
       "      <td>45</td>\n",
       "      <td>Male</td>\n",
       "      <td>190</td>\n",
       "      <td>100</td>\n",
       "      <td>31.2</td>\n",
       "      <td>Obese</td>\n",
       "    </tr>\n",
       "    <tr>\n",
       "      <th>5</th>\n",
       "      <td>6</td>\n",
       "      <td>50</td>\n",
       "      <td>Female</td>\n",
       "      <td>140</td>\n",
       "      <td>40</td>\n",
       "      <td>16.7</td>\n",
       "      <td>Underweight</td>\n",
       "    </tr>\n",
       "    <tr>\n",
       "      <th>6</th>\n",
       "      <td>7</td>\n",
       "      <td>55</td>\n",
       "      <td>Male</td>\n",
       "      <td>200</td>\n",
       "      <td>110</td>\n",
       "      <td>34.2</td>\n",
       "      <td>Obese</td>\n",
       "    </tr>\n",
       "    <tr>\n",
       "      <th>7</th>\n",
       "      <td>8</td>\n",
       "      <td>60</td>\n",
       "      <td>Female</td>\n",
       "      <td>130</td>\n",
       "      <td>30</td>\n",
       "      <td>13.3</td>\n",
       "      <td>Underweight</td>\n",
       "    </tr>\n",
       "    <tr>\n",
       "      <th>8</th>\n",
       "      <td>9</td>\n",
       "      <td>65</td>\n",
       "      <td>Male</td>\n",
       "      <td>210</td>\n",
       "      <td>120</td>\n",
       "      <td>37.2</td>\n",
       "      <td>Obese</td>\n",
       "    </tr>\n",
       "    <tr>\n",
       "      <th>9</th>\n",
       "      <td>10</td>\n",
       "      <td>70</td>\n",
       "      <td>Female</td>\n",
       "      <td>120</td>\n",
       "      <td>20</td>\n",
       "      <td>10.0</td>\n",
       "      <td>Underweight</td>\n",
       "    </tr>\n",
       "  </tbody>\n",
       "</table>\n",
       "</div>"
      ],
      "text/plain": [
       "   ID  Age  Gender  Height  Weight   BMI          Label\n",
       "0   1   25    Male     175      80  25.3  Normal Weight\n",
       "1   2   30  Female     160      60  22.5  Normal Weight\n",
       "2   3   35    Male     180      90  27.3     Overweight\n",
       "3   4   40  Female     150      50  20.0    Underweight\n",
       "4   5   45    Male     190     100  31.2          Obese\n",
       "5   6   50  Female     140      40  16.7    Underweight\n",
       "6   7   55    Male     200     110  34.2          Obese\n",
       "7   8   60  Female     130      30  13.3    Underweight\n",
       "8   9   65    Male     210     120  37.2          Obese\n",
       "9  10   70  Female     120      20  10.0    Underweight"
      ]
     },
     "execution_count": 55,
     "metadata": {},
     "output_type": "execute_result"
    }
   ],
   "source": [
    "df.head(10)"
   ]
  },
  {
   "cell_type": "code",
   "execution_count": 56,
   "metadata": {},
   "outputs": [
    {
     "data": {
      "text/plain": [
       "['Id', 'Idade', 'Genero', 'Altura', 'Peso', 'IMC', 'Classificação']"
      ]
     },
     "execution_count": 56,
     "metadata": {},
     "output_type": "execute_result"
    }
   ],
   "source": [
    "traducoes = {\n",
    "    'ID': 'Id',\n",
    "    'Age': 'Idade',\n",
    "    'Gender': 'Genero',\n",
    "    'Height': 'Altura',\n",
    "    'Weight': 'Peso',\n",
    "    'BMI': 'IMC',\n",
    "    'Label': 'Classificação'\n",
    "}\n",
    "\n",
    "novas_colunas = []\n",
    "\n",
    "for chave, valor in traducoes.items():\n",
    "    novas_colunas.append(valor)\n",
    "\n",
    "novas_colunas"
   ]
  },
  {
   "cell_type": "code",
   "execution_count": 57,
   "metadata": {},
   "outputs": [
    {
     "data": {
      "text/html": [
       "<div>\n",
       "<style scoped>\n",
       "    .dataframe tbody tr th:only-of-type {\n",
       "        vertical-align: middle;\n",
       "    }\n",
       "\n",
       "    .dataframe tbody tr th {\n",
       "        vertical-align: top;\n",
       "    }\n",
       "\n",
       "    .dataframe thead th {\n",
       "        text-align: right;\n",
       "    }\n",
       "</style>\n",
       "<table border=\"1\" class=\"dataframe\">\n",
       "  <thead>\n",
       "    <tr style=\"text-align: right;\">\n",
       "      <th></th>\n",
       "      <th>Id</th>\n",
       "      <th>Idade</th>\n",
       "      <th>Genero</th>\n",
       "      <th>Altura</th>\n",
       "      <th>Peso</th>\n",
       "      <th>IMC</th>\n",
       "      <th>Classificação</th>\n",
       "    </tr>\n",
       "  </thead>\n",
       "  <tbody>\n",
       "    <tr>\n",
       "      <th>0</th>\n",
       "      <td>1</td>\n",
       "      <td>25</td>\n",
       "      <td>Male</td>\n",
       "      <td>175</td>\n",
       "      <td>80</td>\n",
       "      <td>25.3</td>\n",
       "      <td>Normal Weight</td>\n",
       "    </tr>\n",
       "    <tr>\n",
       "      <th>1</th>\n",
       "      <td>2</td>\n",
       "      <td>30</td>\n",
       "      <td>Female</td>\n",
       "      <td>160</td>\n",
       "      <td>60</td>\n",
       "      <td>22.5</td>\n",
       "      <td>Normal Weight</td>\n",
       "    </tr>\n",
       "    <tr>\n",
       "      <th>2</th>\n",
       "      <td>3</td>\n",
       "      <td>35</td>\n",
       "      <td>Male</td>\n",
       "      <td>180</td>\n",
       "      <td>90</td>\n",
       "      <td>27.3</td>\n",
       "      <td>Overweight</td>\n",
       "    </tr>\n",
       "    <tr>\n",
       "      <th>3</th>\n",
       "      <td>4</td>\n",
       "      <td>40</td>\n",
       "      <td>Female</td>\n",
       "      <td>150</td>\n",
       "      <td>50</td>\n",
       "      <td>20.0</td>\n",
       "      <td>Underweight</td>\n",
       "    </tr>\n",
       "    <tr>\n",
       "      <th>4</th>\n",
       "      <td>5</td>\n",
       "      <td>45</td>\n",
       "      <td>Male</td>\n",
       "      <td>190</td>\n",
       "      <td>100</td>\n",
       "      <td>31.2</td>\n",
       "      <td>Obese</td>\n",
       "    </tr>\n",
       "    <tr>\n",
       "      <th>...</th>\n",
       "      <td>...</td>\n",
       "      <td>...</td>\n",
       "      <td>...</td>\n",
       "      <td>...</td>\n",
       "      <td>...</td>\n",
       "      <td>...</td>\n",
       "      <td>...</td>\n",
       "    </tr>\n",
       "    <tr>\n",
       "      <th>103</th>\n",
       "      <td>106</td>\n",
       "      <td>11</td>\n",
       "      <td>Male</td>\n",
       "      <td>175</td>\n",
       "      <td>10</td>\n",
       "      <td>3.9</td>\n",
       "      <td>Underweight</td>\n",
       "    </tr>\n",
       "    <tr>\n",
       "      <th>104</th>\n",
       "      <td>107</td>\n",
       "      <td>16</td>\n",
       "      <td>Female</td>\n",
       "      <td>160</td>\n",
       "      <td>10</td>\n",
       "      <td>3.9</td>\n",
       "      <td>Underweight</td>\n",
       "    </tr>\n",
       "    <tr>\n",
       "      <th>105</th>\n",
       "      <td>108</td>\n",
       "      <td>21</td>\n",
       "      <td>Male</td>\n",
       "      <td>180</td>\n",
       "      <td>15</td>\n",
       "      <td>5.6</td>\n",
       "      <td>Underweight</td>\n",
       "    </tr>\n",
       "    <tr>\n",
       "      <th>106</th>\n",
       "      <td>109</td>\n",
       "      <td>26</td>\n",
       "      <td>Female</td>\n",
       "      <td>150</td>\n",
       "      <td>15</td>\n",
       "      <td>5.6</td>\n",
       "      <td>Underweight</td>\n",
       "    </tr>\n",
       "    <tr>\n",
       "      <th>107</th>\n",
       "      <td>110</td>\n",
       "      <td>31</td>\n",
       "      <td>Male</td>\n",
       "      <td>190</td>\n",
       "      <td>20</td>\n",
       "      <td>8.3</td>\n",
       "      <td>Underweight</td>\n",
       "    </tr>\n",
       "  </tbody>\n",
       "</table>\n",
       "<p>108 rows × 7 columns</p>\n",
       "</div>"
      ],
      "text/plain": [
       "      Id  Idade  Genero  Altura  Peso   IMC  Classificação\n",
       "0      1     25    Male     175    80  25.3  Normal Weight\n",
       "1      2     30  Female     160    60  22.5  Normal Weight\n",
       "2      3     35    Male     180    90  27.3     Overweight\n",
       "3      4     40  Female     150    50  20.0    Underweight\n",
       "4      5     45    Male     190   100  31.2          Obese\n",
       "..   ...    ...     ...     ...   ...   ...            ...\n",
       "103  106     11    Male     175    10   3.9    Underweight\n",
       "104  107     16  Female     160    10   3.9    Underweight\n",
       "105  108     21    Male     180    15   5.6    Underweight\n",
       "106  109     26  Female     150    15   5.6    Underweight\n",
       "107  110     31    Male     190    20   8.3    Underweight\n",
       "\n",
       "[108 rows x 7 columns]"
      ]
     },
     "execution_count": 57,
     "metadata": {},
     "output_type": "execute_result"
    }
   ],
   "source": [
    "df.columns = novas_colunas\n",
    "df"
   ]
  },
  {
   "cell_type": "code",
   "execution_count": 59,
   "metadata": {},
   "outputs": [
    {
     "data": {
      "text/plain": [
       "(108, 7)"
      ]
     },
     "execution_count": 59,
     "metadata": {},
     "output_type": "execute_result"
    }
   ],
   "source": [
    "df[df['Genero'] == 'Female']\n",
    "df.shape"
   ]
  },
  {
   "cell_type": "code",
   "execution_count": 63,
   "metadata": {},
   "outputs": [
    {
     "data": {
      "text/html": [
       "<div>\n",
       "<style scoped>\n",
       "    .dataframe tbody tr th:only-of-type {\n",
       "        vertical-align: middle;\n",
       "    }\n",
       "\n",
       "    .dataframe tbody tr th {\n",
       "        vertical-align: top;\n",
       "    }\n",
       "\n",
       "    .dataframe thead th {\n",
       "        text-align: right;\n",
       "    }\n",
       "</style>\n",
       "<table border=\"1\" class=\"dataframe\">\n",
       "  <thead>\n",
       "    <tr style=\"text-align: right;\">\n",
       "      <th></th>\n",
       "      <th>Id</th>\n",
       "      <th>Idade</th>\n",
       "      <th>Genero</th>\n",
       "      <th>Altura</th>\n",
       "      <th>Peso</th>\n",
       "      <th>IMC</th>\n",
       "      <th>Classificação</th>\n",
       "    </tr>\n",
       "  </thead>\n",
       "  <tbody>\n",
       "    <tr>\n",
       "      <th>2</th>\n",
       "      <td>3</td>\n",
       "      <td>35</td>\n",
       "      <td>Male</td>\n",
       "      <td>180</td>\n",
       "      <td>90</td>\n",
       "      <td>27.3</td>\n",
       "      <td>Overweight</td>\n",
       "    </tr>\n",
       "    <tr>\n",
       "      <th>3</th>\n",
       "      <td>4</td>\n",
       "      <td>40</td>\n",
       "      <td>Female</td>\n",
       "      <td>150</td>\n",
       "      <td>50</td>\n",
       "      <td>20.0</td>\n",
       "      <td>Underweight</td>\n",
       "    </tr>\n",
       "    <tr>\n",
       "      <th>4</th>\n",
       "      <td>5</td>\n",
       "      <td>45</td>\n",
       "      <td>Male</td>\n",
       "      <td>190</td>\n",
       "      <td>100</td>\n",
       "      <td>31.2</td>\n",
       "      <td>Obese</td>\n",
       "    </tr>\n",
       "    <tr>\n",
       "      <th>5</th>\n",
       "      <td>6</td>\n",
       "      <td>50</td>\n",
       "      <td>Female</td>\n",
       "      <td>140</td>\n",
       "      <td>40</td>\n",
       "      <td>16.7</td>\n",
       "      <td>Underweight</td>\n",
       "    </tr>\n",
       "    <tr>\n",
       "      <th>6</th>\n",
       "      <td>7</td>\n",
       "      <td>55</td>\n",
       "      <td>Male</td>\n",
       "      <td>200</td>\n",
       "      <td>110</td>\n",
       "      <td>34.2</td>\n",
       "      <td>Obese</td>\n",
       "    </tr>\n",
       "    <tr>\n",
       "      <th>...</th>\n",
       "      <td>...</td>\n",
       "      <td>...</td>\n",
       "      <td>...</td>\n",
       "      <td>...</td>\n",
       "      <td>...</td>\n",
       "      <td>...</td>\n",
       "      <td>...</td>\n",
       "    </tr>\n",
       "    <tr>\n",
       "      <th>99</th>\n",
       "      <td>102</td>\n",
       "      <td>42</td>\n",
       "      <td>Male</td>\n",
       "      <td>200</td>\n",
       "      <td>30</td>\n",
       "      <td>13.3</td>\n",
       "      <td>Underweight</td>\n",
       "    </tr>\n",
       "    <tr>\n",
       "      <th>100</th>\n",
       "      <td>103</td>\n",
       "      <td>47</td>\n",
       "      <td>Female</td>\n",
       "      <td>130</td>\n",
       "      <td>30</td>\n",
       "      <td>13.3</td>\n",
       "      <td>Underweight</td>\n",
       "    </tr>\n",
       "    <tr>\n",
       "      <th>101</th>\n",
       "      <td>104</td>\n",
       "      <td>52</td>\n",
       "      <td>Male</td>\n",
       "      <td>210</td>\n",
       "      <td>35</td>\n",
       "      <td>16.7</td>\n",
       "      <td>Underweight</td>\n",
       "    </tr>\n",
       "    <tr>\n",
       "      <th>102</th>\n",
       "      <td>105</td>\n",
       "      <td>57</td>\n",
       "      <td>Female</td>\n",
       "      <td>120</td>\n",
       "      <td>25</td>\n",
       "      <td>10.0</td>\n",
       "      <td>Underweight</td>\n",
       "    </tr>\n",
       "    <tr>\n",
       "      <th>107</th>\n",
       "      <td>110</td>\n",
       "      <td>31</td>\n",
       "      <td>Male</td>\n",
       "      <td>190</td>\n",
       "      <td>20</td>\n",
       "      <td>8.3</td>\n",
       "      <td>Underweight</td>\n",
       "    </tr>\n",
       "  </tbody>\n",
       "</table>\n",
       "<p>74 rows × 7 columns</p>\n",
       "</div>"
      ],
      "text/plain": [
       "      Id  Idade  Genero  Altura  Peso   IMC Classificação\n",
       "2      3     35    Male     180    90  27.3    Overweight\n",
       "3      4     40  Female     150    50  20.0   Underweight\n",
       "4      5     45    Male     190   100  31.2         Obese\n",
       "5      6     50  Female     140    40  16.7   Underweight\n",
       "6      7     55    Male     200   110  34.2         Obese\n",
       "..   ...    ...     ...     ...   ...   ...           ...\n",
       "99   102     42    Male     200    30  13.3   Underweight\n",
       "100  103     47  Female     130    30  13.3   Underweight\n",
       "101  104     52    Male     210    35  16.7   Underweight\n",
       "102  105     57  Female     120    25  10.0   Underweight\n",
       "107  110     31    Male     190    20   8.3   Underweight\n",
       "\n",
       "[74 rows x 7 columns]"
      ]
     },
     "execution_count": 63,
     "metadata": {},
     "output_type": "execute_result"
    }
   ],
   "source": [
    "df[df['Idade'] > 30]"
   ]
  },
  {
   "cell_type": "code",
   "execution_count": 66,
   "metadata": {},
   "outputs": [
    {
     "data": {
      "text/html": [
       "<div>\n",
       "<style scoped>\n",
       "    .dataframe tbody tr th:only-of-type {\n",
       "        vertical-align: middle;\n",
       "    }\n",
       "\n",
       "    .dataframe tbody tr th {\n",
       "        vertical-align: top;\n",
       "    }\n",
       "\n",
       "    .dataframe thead th {\n",
       "        text-align: right;\n",
       "    }\n",
       "</style>\n",
       "<table border=\"1\" class=\"dataframe\">\n",
       "  <thead>\n",
       "    <tr style=\"text-align: right;\">\n",
       "      <th></th>\n",
       "      <th>Id</th>\n",
       "      <th>Idade</th>\n",
       "      <th>Genero</th>\n",
       "      <th>Altura</th>\n",
       "      <th>Peso</th>\n",
       "      <th>IMC</th>\n",
       "      <th>Classificação</th>\n",
       "    </tr>\n",
       "  </thead>\n",
       "  <tbody>\n",
       "    <tr>\n",
       "      <th>4</th>\n",
       "      <td>5</td>\n",
       "      <td>45</td>\n",
       "      <td>Male</td>\n",
       "      <td>190</td>\n",
       "      <td>100</td>\n",
       "      <td>31.2</td>\n",
       "      <td>Obese</td>\n",
       "    </tr>\n",
       "    <tr>\n",
       "      <th>6</th>\n",
       "      <td>7</td>\n",
       "      <td>55</td>\n",
       "      <td>Male</td>\n",
       "      <td>200</td>\n",
       "      <td>110</td>\n",
       "      <td>34.2</td>\n",
       "      <td>Obese</td>\n",
       "    </tr>\n",
       "    <tr>\n",
       "      <th>8</th>\n",
       "      <td>9</td>\n",
       "      <td>65</td>\n",
       "      <td>Male</td>\n",
       "      <td>210</td>\n",
       "      <td>120</td>\n",
       "      <td>37.2</td>\n",
       "      <td>Obese</td>\n",
       "    </tr>\n",
       "    <tr>\n",
       "      <th>16</th>\n",
       "      <td>17</td>\n",
       "      <td>48</td>\n",
       "      <td>Male</td>\n",
       "      <td>200</td>\n",
       "      <td>100</td>\n",
       "      <td>31.2</td>\n",
       "      <td>Obese</td>\n",
       "    </tr>\n",
       "    <tr>\n",
       "      <th>18</th>\n",
       "      <td>20</td>\n",
       "      <td>58</td>\n",
       "      <td>Male</td>\n",
       "      <td>210</td>\n",
       "      <td>110</td>\n",
       "      <td>34.2</td>\n",
       "      <td>Obese</td>\n",
       "    </tr>\n",
       "    <tr>\n",
       "      <th>24</th>\n",
       "      <td>26</td>\n",
       "      <td>88</td>\n",
       "      <td>Male</td>\n",
       "      <td>190</td>\n",
       "      <td>100</td>\n",
       "      <td>31.2</td>\n",
       "      <td>Obese</td>\n",
       "    </tr>\n",
       "    <tr>\n",
       "      <th>26</th>\n",
       "      <td>28</td>\n",
       "      <td>98</td>\n",
       "      <td>Male</td>\n",
       "      <td>200</td>\n",
       "      <td>110</td>\n",
       "      <td>34.2</td>\n",
       "      <td>Obese</td>\n",
       "    </tr>\n",
       "    <tr>\n",
       "      <th>28</th>\n",
       "      <td>30</td>\n",
       "      <td>108</td>\n",
       "      <td>Male</td>\n",
       "      <td>210</td>\n",
       "      <td>120</td>\n",
       "      <td>37.2</td>\n",
       "      <td>Obese</td>\n",
       "    </tr>\n",
       "    <tr>\n",
       "      <th>34</th>\n",
       "      <td>37</td>\n",
       "      <td>49</td>\n",
       "      <td>Male</td>\n",
       "      <td>200</td>\n",
       "      <td>105</td>\n",
       "      <td>28.9</td>\n",
       "      <td>Obese</td>\n",
       "    </tr>\n",
       "    <tr>\n",
       "      <th>36</th>\n",
       "      <td>39</td>\n",
       "      <td>59</td>\n",
       "      <td>Male</td>\n",
       "      <td>210</td>\n",
       "      <td>115</td>\n",
       "      <td>30.8</td>\n",
       "      <td>Obese</td>\n",
       "    </tr>\n",
       "    <tr>\n",
       "      <th>46</th>\n",
       "      <td>49</td>\n",
       "      <td>57</td>\n",
       "      <td>Male</td>\n",
       "      <td>210</td>\n",
       "      <td>105</td>\n",
       "      <td>28.9</td>\n",
       "      <td>Obese</td>\n",
       "    </tr>\n",
       "    <tr>\n",
       "      <th>56</th>\n",
       "      <td>59</td>\n",
       "      <td>107</td>\n",
       "      <td>Male</td>\n",
       "      <td>210</td>\n",
       "      <td>105</td>\n",
       "      <td>28.9</td>\n",
       "      <td>Obese</td>\n",
       "    </tr>\n",
       "  </tbody>\n",
       "</table>\n",
       "</div>"
      ],
      "text/plain": [
       "    Id  Idade Genero  Altura  Peso   IMC Classificação\n",
       "4    5     45   Male     190   100  31.2         Obese\n",
       "6    7     55   Male     200   110  34.2         Obese\n",
       "8    9     65   Male     210   120  37.2         Obese\n",
       "16  17     48   Male     200   100  31.2         Obese\n",
       "18  20     58   Male     210   110  34.2         Obese\n",
       "24  26     88   Male     190   100  31.2         Obese\n",
       "26  28     98   Male     200   110  34.2         Obese\n",
       "28  30    108   Male     210   120  37.2         Obese\n",
       "34  37     49   Male     200   105  28.9         Obese\n",
       "36  39     59   Male     210   115  30.8         Obese\n",
       "46  49     57   Male     210   105  28.9         Obese\n",
       "56  59    107   Male     210   105  28.9         Obese"
      ]
     },
     "execution_count": 66,
     "metadata": {},
     "output_type": "execute_result"
    }
   ],
   "source": [
    "df[(df['Classificação'] == 'Obese') & (df['Idade'] >30)]"
   ]
  },
  {
   "cell_type": "code",
   "execution_count": 62,
   "metadata": {},
   "outputs": [
    {
     "data": {
      "text/plain": [
       "<Axes: ylabel='Frequency'>"
      ]
     },
     "execution_count": 62,
     "metadata": {},
     "output_type": "execute_result"
    },
    {
     "data": {
      "image/png": "[encoded data removed]",
      "text/plain": [
       "<Figure size 640x480 with 1 Axes>"
      ]
     },
     "metadata": {},
     "output_type": "display_data"
    }
   ],
   "source": [
    "df['IMC'].plot.hist(bins=20, edgecolor='red', color=\"pink\")"
   ]
  },
  {
   "cell_type": "code",
   "execution_count": 67,
   "metadata": {},
   "outputs": [
    {
     "data": {
      "text/plain": [
       "(108, 7)"
      ]
     },
     "execution_count": 67,
     "metadata": {},
     "output_type": "execute_result"
    },
    {
     "data": {
      "image/png": "[encoded data removed]",
      "text/plain": [
       "<Figure size 640x480 with 1 Axes>"
      ]
     },
     "metadata": {},
     "output_type": "display_data"
    }
   ],
   "source": [
    "df['Genero'].value_counts().plot(kind='bar', edgecolor='red', color=\"pink\");\n",
    "df.shape"
   ]
  },
  {
   "cell_type": "code",
   "execution_count": 68,
   "metadata": {},
   "outputs": [
    {
     "data": {
      "text/plain": [
       "<pandas.core.groupby.generic.DataFrameGroupBy object at 0x00000263DED11D50>"
      ]
     },
     "execution_count": 68,
     "metadata": {},
     "output_type": "execute_result"
    }
   ],
   "source": [
    "dado_agrupado = df.groupby('IMC')\n",
    "dado_agrupado"
   ]
  },
  {
   "cell_type": "code",
   "execution_count": 73,
   "metadata": {},
   "outputs": [
    {
     "data": {
      "text/plain": [
       "Classificação\n",
       "Underweight      47\n",
       "Normal Weight    29\n",
       "Overweight       20\n",
       "Obese            12\n",
       "Name: count, dtype: int64"
      ]
     },
     "execution_count": 73,
     "metadata": {},
     "output_type": "execute_result"
    }
   ],
   "source": [
    "contagem_classificacao = df['Classificação'].value_counts()\n",
    "contagem_classificacao"
   ]
  },
  {
   "cell_type": "code",
   "execution_count": 86,
   "metadata": {},
   "outputs": [
    {
     "data": {
      "text/plain": [
       "Text(0.5, 1.0, 'Visualização das classificações')"
      ]
     },
     "execution_count": 86,
     "metadata": {},
     "output_type": "execute_result"
    },
    {
     "data": {
      "image/png": "[encoded data removed]",
      "text/plain": [
       "<Figure size 640x480 with 1 Axes>"
      ]
     },
     "metadata": {},
     "output_type": "display_data"
    }
   ],
   "source": [
    "visu_classif= df['Classificação'].value_counts()\n",
    "visu_classif.plot(kind='bar', edgecolor='purple', color=\"pink\");\n",
    "\n",
    "plt.xlabel('')\n",
    "plt.ylabel('Quantidade')\n",
    "plt.title('Visualização das classificações')\n"
   ]
  },
  {
   "cell_type": "code",
   "execution_count": 92,
   "metadata": {},
   "outputs": [
    {
     "data": {
      "image/png": "[encoded data removed]",
      "text/plain": [
       "<Figure size 640x480 with 1 Axes>"
      ]
     },
     "metadata": {},
     "output_type": "display_data"
    }
   ],
   "source": [
    "class_mulheres = df[df['Genero'] == 'Female']['Classificação'].value_counts()\n",
    "class_mulheres.plot(kind='bar', edgecolor='purple', color=\"pink\");\n",
    "\n",
    "plt.xlabel('Mulheres')\n",
    "plt.ylabel('Classificação')\n",
    "plt.title('Classificação Feminina')\n",
    "plt.show()"
   ]
  },
  {
   "cell_type": "code",
   "execution_count": 105,
   "metadata": {},
   "outputs": [
    {
     "data": {
      "text/plain": [
       "Text(0.5, 1.0, 'Classificação das crianças')"
      ]
     },
     "execution_count": 105,
     "metadata": {},
     "output_type": "execute_result"
    },
    {
     "data": {
      "image/png": "[encoded data removed]",
      "text/plain": [
       "<Figure size 640x480 with 1 Axes>"
      ]
     },
     "metadata": {},
     "output_type": "display_data"
    }
   ],
   "source": [
    "class_criancas = df[df['Idade'] < 17]['Classificação'].value_counts()\n",
    "class_criancas.plot(kind='bar', edgecolor='green', color=\"pink\")\n",
    "\n",
    "plt.xlabel('Classificação')\n",
    "plt.ylabel('Idade')\n",
    "plt.title('Classificação das crianças')"
   ]
  },
  {
   "cell_type": "code",
   "execution_count": 110,
   "metadata": {},
   "outputs": [
    {
     "data": {
      "text/plain": [
       "Text(0.5, 1.0, 'Classificação dos idosos')"
      ]
     },
     "execution_count": 110,
     "metadata": {},
     "output_type": "execute_result"
    },
    {
     "data": {
      "image/png": "[encoded data removed]",
      "text/plain": [
       "<Figure size 640x480 with 1 Axes>"
      ]
     },
     "metadata": {},
     "output_type": "display_data"
    }
   ],
   "source": [
    "class_criancas = df[df['Idade'] >60]['Classificação'].value_counts()\n",
    "class_criancas.plot(kind='bar', edgecolor='green', color=\"pink\")\n",
    "\n",
    "plt.xlabel('Classificação')\n",
    "plt.ylabel('Idade')\n",
    "plt.title('Classificação dos idosos')\n"
   ]
  }
 ],
 "metadata": {
  "kernelspec": {
   "display_name": "Python 3",
   "language": "python",
   "name": "python3"
  },
  "language_info": {
   "codemirror_mode": {
    "name": "ipython",
    "version": 3
   },
   "file_extension": ".py",
   "mimetype": "text/x-python",
   "name": "python",
   "nbconvert_exporter": "python",
   "pygments_lexer": "ipython3",
   "version": "3.11.6"
  }
 },
 "nbformat": 4,
 "nbformat_minor": 2
}
