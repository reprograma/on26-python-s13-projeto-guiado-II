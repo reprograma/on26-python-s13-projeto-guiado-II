{
 "cells": [
  {
   "cell_type": "code",
   "execution_count": 90,
   "metadata": {},
   "outputs": [],
   "source": [
    "import pandas as pd\n",
    "import matplotlib.pyplot as plt\n",
    "import seaborn as sns"
   ]
  },
  {
   "cell_type": "markdown",
   "metadata": {},
   "source": [
    "\n",
    "***<div style=\"background-color:white; padding:10px;text-align:center\"><span style=\"color:purple; font-size:2em\">BANCO DE DADOS: RANK IDHM DO BRASIL***\n",
    "\n",
    "<div style=\"background-color:white; padding:10px;\">\n",
    "    <img src=\"reprograma-fundos-claros.png\" alt=\"Descrição da Imagem\" width=\"300\"/><span style=\"color:green; font-size:2em;\"><span style=\"color:purple; font-weight: bold; text-shadow: -1px -1px 0 black, 1px -1px 0 black, -1px 1px 0 black, 1px 1px 0 black;\">Dani Negrão</span><img src=\"https://pa1.aminoapps.com/7094/61a0f7dd0a3db2608cfdc46140deff3f544307f9r1-256-256_00.gif\" alt=\"Super Mario Bros\" width=\"80\"/></span></div>\n",
    "</div>\n",
    "\n",
    "\n"
   ]
  },
  {
   "cell_type": "markdown",
   "metadata": {},
   "source": [
    "***<div style=\"background-color:BEIGE; padding:10px\"><span style=\"color:black; font-size:1em;\">RESUMO:O conjunto de dados analisado consiste em um total de 5.559 municípios brasileiros, divididos nas 27 unidades federativas do país e agrupados em 5 regiões geográficas distintas. Este conjunto de dados é composto por 8 colunas e 5.560 linhas, representando algumas diversas informações sobre os municípios brasileiros, tornando-o uma fonte abrangente de dados para análises e estudos relacionados ao Brasil. Os municípios neste conjunto de dados estão organizados em ordem alfabética com base na ordem alfabética de seus estados correspondentes. Isso significa que os municípios são dispostos em ordem alfabética dentro de cada estado, facilitando a busca e a referência de informações específicas sobre cada município em relação ao seu estado de origem.<br> * Coluna 1: Números de Munícipios <br> * Coluna 2: Estado <br> * Coluna 3: Total da população Residente em cada munícipio <br> * Coluna 4: Rank de IDHM (Índice de Desenvolvimento Humano por Munícipio) <br> * Coluna 5: Índice de Renda <br> * Coluna 6: Índice de Educação <br> * Coluna 7: Quantidade de Carros <br> * Coluna 8: Região brasileira <br></span></div>***\n"
   ]
  },
  {
   "cell_type": "markdown",
   "metadata": {},
   "source": [
    "***<div style=\"background-color:beige; padding:10px;text-align:center\"><span style=\"color:blue; font-size:1em;\">ÍNDICE DE DESENVOLVIMENTO HUMANO<br></span></div>***\n",
    "***<div style=\"background-color:beige; padding:10px\"><span style=\"color:blue; font-size:1em;\">O Índice de Desenvolvimento Humano (IDH) compara indicadores de países nos itens riqueza, alfabetização, educação, esperança de vida, natalidade e outros, com o intuito de avaliar o bem-estar de uma população, especialmente das crianças.<br></span></div>***"
   ]
  },
  {
   "cell_type": "markdown",
   "metadata": {},
   "source": [
    "***<div style=\"background-color:white; padding:10px;text-align:center\"><span style=\"color:black; font-size:1em;\">REFERÊNCIAS</span></div>***\n",
    "***<div style=\"background-color:white; padding:10px;\"><span style=\"color:black; font-size:1em;\"> * Título do Datasets: Municípios Brasileiro Resumido<br> * Link do Datasets: https://www.kaggle.com/datasets/mattymirande/municpios-brasileiro-resumido/data?select=municipios_brasileiro_teste.csv <br>  * Colaboradora: MATTY MIRANDA</span></div>***\n",
    "\n",
    "\n",
    "\n",
    "\n",
    "\n"
   ]
  },
  {
   "cell_type": "code",
   "execution_count": 91,
   "metadata": {},
   "outputs": [
    {
     "data": {
      "text/html": [
       "<div>\n",
       "<style scoped>\n",
       "    .dataframe tbody tr th:only-of-type {\n",
       "        vertical-align: middle;\n",
       "    }\n",
       "\n",
       "    .dataframe tbody tr th {\n",
       "        vertical-align: top;\n",
       "    }\n",
       "\n",
       "    .dataframe thead th {\n",
       "        text-align: right;\n",
       "    }\n",
       "</style>\n",
       "<table border=\"1\" class=\"dataframe\">\n",
       "  <thead>\n",
       "    <tr style=\"text-align: right;\">\n",
       "      <th></th>\n",
       "      <th>CITY</th>\n",
       "      <th>STATE</th>\n",
       "      <th>Pop_residente</th>\n",
       "      <th>IDHM_Rank</th>\n",
       "      <th>Renda</th>\n",
       "      <th>Educacao</th>\n",
       "      <th>CARRO</th>\n",
       "      <th>Regiao</th>\n",
       "    </tr>\n",
       "  </thead>\n",
       "  <tbody>\n",
       "    <tr>\n",
       "      <th>0</th>\n",
       "      <td>Acrelândia</td>\n",
       "      <td>AC</td>\n",
       "      <td>12538</td>\n",
       "      <td>4079</td>\n",
       "      <td>0,584</td>\n",
       "      <td>0,466</td>\n",
       "      <td>1223</td>\n",
       "      <td>Norte</td>\n",
       "    </tr>\n",
       "    <tr>\n",
       "      <th>1</th>\n",
       "      <td>Assis Brasil</td>\n",
       "      <td>AC</td>\n",
       "      <td>6072</td>\n",
       "      <td>4448</td>\n",
       "      <td>0,578</td>\n",
       "      <td>0,456</td>\n",
       "      <td>290</td>\n",
       "      <td>Norte</td>\n",
       "    </tr>\n",
       "    <tr>\n",
       "      <th>2</th>\n",
       "      <td>Brasiléia</td>\n",
       "      <td>AC</td>\n",
       "      <td>21398</td>\n",
       "      <td>3832</td>\n",
       "      <td>0,619</td>\n",
       "      <td>0,485</td>\n",
       "      <td>2122</td>\n",
       "      <td>Norte</td>\n",
       "    </tr>\n",
       "    <tr>\n",
       "      <th>3</th>\n",
       "      <td>Bujari</td>\n",
       "      <td>AC</td>\n",
       "      <td>8471</td>\n",
       "      <td>4426</td>\n",
       "      <td>0,603</td>\n",
       "      <td>0,439</td>\n",
       "      <td>577</td>\n",
       "      <td>Norte</td>\n",
       "    </tr>\n",
       "    <tr>\n",
       "      <th>4</th>\n",
       "      <td>Capixaba</td>\n",
       "      <td>AC</td>\n",
       "      <td>8798</td>\n",
       "      <td>4755</td>\n",
       "      <td>0,601</td>\n",
       "      <td>0,398</td>\n",
       "      <td>561</td>\n",
       "      <td>Norte</td>\n",
       "    </tr>\n",
       "    <tr>\n",
       "      <th>...</th>\n",
       "      <td>...</td>\n",
       "      <td>...</td>\n",
       "      <td>...</td>\n",
       "      <td>...</td>\n",
       "      <td>...</td>\n",
       "      <td>...</td>\n",
       "      <td>...</td>\n",
       "      <td>...</td>\n",
       "    </tr>\n",
       "    <tr>\n",
       "      <th>5554</th>\n",
       "      <td>Tocantinópolis</td>\n",
       "      <td>TO</td>\n",
       "      <td>22619</td>\n",
       "      <td>2415</td>\n",
       "      <td>0,634</td>\n",
       "      <td>0,623</td>\n",
       "      <td>3500</td>\n",
       "      <td>Norte</td>\n",
       "    </tr>\n",
       "    <tr>\n",
       "      <th>5555</th>\n",
       "      <td>Tupirama</td>\n",
       "      <td>TO</td>\n",
       "      <td>1574</td>\n",
       "      <td>2690</td>\n",
       "      <td>0,629</td>\n",
       "      <td>0,593</td>\n",
       "      <td>145</td>\n",
       "      <td>Norte</td>\n",
       "    </tr>\n",
       "    <tr>\n",
       "      <th>5556</th>\n",
       "      <td>Tupiratins</td>\n",
       "      <td>TO</td>\n",
       "      <td>2097</td>\n",
       "      <td>4484</td>\n",
       "      <td>0,601</td>\n",
       "      <td>0,425</td>\n",
       "      <td>98</td>\n",
       "      <td>Norte</td>\n",
       "    </tr>\n",
       "    <tr>\n",
       "      <th>5557</th>\n",
       "      <td>Wanderlândia</td>\n",
       "      <td>TO</td>\n",
       "      <td>10981</td>\n",
       "      <td>3352</td>\n",
       "      <td>0,619</td>\n",
       "      <td>0,561</td>\n",
       "      <td>589</td>\n",
       "      <td>Norte</td>\n",
       "    </tr>\n",
       "    <tr>\n",
       "      <th>5558</th>\n",
       "      <td>Xambioá</td>\n",
       "      <td>TO</td>\n",
       "      <td>11484</td>\n",
       "      <td>2648</td>\n",
       "      <td>0,648</td>\n",
       "      <td>0,57</td>\n",
       "      <td>848</td>\n",
       "      <td>Norte</td>\n",
       "    </tr>\n",
       "  </tbody>\n",
       "</table>\n",
       "<p>5559 rows × 8 columns</p>\n",
       "</div>"
      ],
      "text/plain": [
       "                CITY STATE  Pop_residente  IDHM_Rank  Renda Educacao  CARRO  \\\n",
       "0         Acrelândia    AC          12538       4079  0,584    0,466   1223   \n",
       "1       Assis Brasil    AC           6072       4448  0,578    0,456    290   \n",
       "2          Brasiléia    AC          21398       3832  0,619    0,485   2122   \n",
       "3             Bujari    AC           8471       4426  0,603    0,439    577   \n",
       "4           Capixaba    AC           8798       4755  0,601    0,398    561   \n",
       "...              ...   ...            ...        ...    ...      ...    ...   \n",
       "5554  Tocantinópolis    TO          22619       2415  0,634    0,623   3500   \n",
       "5555        Tupirama    TO           1574       2690  0,629    0,593    145   \n",
       "5556      Tupiratins    TO           2097       4484  0,601    0,425     98   \n",
       "5557    Wanderlândia    TO          10981       3352  0,619    0,561    589   \n",
       "5558         Xambioá    TO          11484       2648  0,648     0,57    848   \n",
       "\n",
       "     Regiao  \n",
       "0     Norte  \n",
       "1     Norte  \n",
       "2     Norte  \n",
       "3     Norte  \n",
       "4     Norte  \n",
       "...     ...  \n",
       "5554  Norte  \n",
       "5555  Norte  \n",
       "5556  Norte  \n",
       "5557  Norte  \n",
       "5558  Norte  \n",
       "\n",
       "[5559 rows x 8 columns]"
      ]
     },
     "execution_count": 91,
     "metadata": {},
     "output_type": "execute_result"
    }
   ],
   "source": [
    "\n",
    "df_mb_dani = pd.read_csv('municipios_brasileiro.csv', delimiter=';')\n",
    "df_mb_dani"
   ]
  },
  {
   "cell_type": "markdown",
   "metadata": {},
   "source": [
    "<span style=\"color: red;\">Verificando as colunas existente no banco</span>"
   ]
  },
  {
   "cell_type": "code",
   "execution_count": 92,
   "metadata": {},
   "outputs": [
    {
     "data": {
      "text/plain": [
       "Index(['CITY', 'STATE', 'Pop_residente', 'IDHM_Rank', 'Renda', 'Educacao',\n",
       "       'CARRO', 'Regiao'],\n",
       "      dtype='object')"
      ]
     },
     "execution_count": 92,
     "metadata": {},
     "output_type": "execute_result"
    }
   ],
   "source": [
    "df_mb_dani.columns"
   ]
  },
  {
   "cell_type": "markdown",
   "metadata": {},
   "source": [
    "<span style=\"color: red;\">Traduzindo as Colunas</span>"
   ]
  },
  {
   "cell_type": "code",
   "execution_count": 93,
   "metadata": {},
   "outputs": [
    {
     "data": {
      "text/html": [
       "<div>\n",
       "<style scoped>\n",
       "    .dataframe tbody tr th:only-of-type {\n",
       "        vertical-align: middle;\n",
       "    }\n",
       "\n",
       "    .dataframe tbody tr th {\n",
       "        vertical-align: top;\n",
       "    }\n",
       "\n",
       "    .dataframe thead th {\n",
       "        text-align: right;\n",
       "    }\n",
       "</style>\n",
       "<table border=\"1\" class=\"dataframe\">\n",
       "  <thead>\n",
       "    <tr style=\"text-align: right;\">\n",
       "      <th></th>\n",
       "      <th>Cidade</th>\n",
       "      <th>Estado</th>\n",
       "      <th>População_Residente</th>\n",
       "      <th>Rank_do_IDHM</th>\n",
       "      <th>Renda</th>\n",
       "      <th>Educação</th>\n",
       "      <th>Carros</th>\n",
       "      <th>Região</th>\n",
       "    </tr>\n",
       "  </thead>\n",
       "  <tbody>\n",
       "    <tr>\n",
       "      <th>0</th>\n",
       "      <td>Acrelândia</td>\n",
       "      <td>AC</td>\n",
       "      <td>12538</td>\n",
       "      <td>4079</td>\n",
       "      <td>0,584</td>\n",
       "      <td>0,466</td>\n",
       "      <td>1223</td>\n",
       "      <td>Norte</td>\n",
       "    </tr>\n",
       "    <tr>\n",
       "      <th>1</th>\n",
       "      <td>Assis Brasil</td>\n",
       "      <td>AC</td>\n",
       "      <td>6072</td>\n",
       "      <td>4448</td>\n",
       "      <td>0,578</td>\n",
       "      <td>0,456</td>\n",
       "      <td>290</td>\n",
       "      <td>Norte</td>\n",
       "    </tr>\n",
       "    <tr>\n",
       "      <th>2</th>\n",
       "      <td>Brasiléia</td>\n",
       "      <td>AC</td>\n",
       "      <td>21398</td>\n",
       "      <td>3832</td>\n",
       "      <td>0,619</td>\n",
       "      <td>0,485</td>\n",
       "      <td>2122</td>\n",
       "      <td>Norte</td>\n",
       "    </tr>\n",
       "    <tr>\n",
       "      <th>3</th>\n",
       "      <td>Bujari</td>\n",
       "      <td>AC</td>\n",
       "      <td>8471</td>\n",
       "      <td>4426</td>\n",
       "      <td>0,603</td>\n",
       "      <td>0,439</td>\n",
       "      <td>577</td>\n",
       "      <td>Norte</td>\n",
       "    </tr>\n",
       "    <tr>\n",
       "      <th>4</th>\n",
       "      <td>Capixaba</td>\n",
       "      <td>AC</td>\n",
       "      <td>8798</td>\n",
       "      <td>4755</td>\n",
       "      <td>0,601</td>\n",
       "      <td>0,398</td>\n",
       "      <td>561</td>\n",
       "      <td>Norte</td>\n",
       "    </tr>\n",
       "    <tr>\n",
       "      <th>...</th>\n",
       "      <td>...</td>\n",
       "      <td>...</td>\n",
       "      <td>...</td>\n",
       "      <td>...</td>\n",
       "      <td>...</td>\n",
       "      <td>...</td>\n",
       "      <td>...</td>\n",
       "      <td>...</td>\n",
       "    </tr>\n",
       "    <tr>\n",
       "      <th>5554</th>\n",
       "      <td>Tocantinópolis</td>\n",
       "      <td>TO</td>\n",
       "      <td>22619</td>\n",
       "      <td>2415</td>\n",
       "      <td>0,634</td>\n",
       "      <td>0,623</td>\n",
       "      <td>3500</td>\n",
       "      <td>Norte</td>\n",
       "    </tr>\n",
       "    <tr>\n",
       "      <th>5555</th>\n",
       "      <td>Tupirama</td>\n",
       "      <td>TO</td>\n",
       "      <td>1574</td>\n",
       "      <td>2690</td>\n",
       "      <td>0,629</td>\n",
       "      <td>0,593</td>\n",
       "      <td>145</td>\n",
       "      <td>Norte</td>\n",
       "    </tr>\n",
       "    <tr>\n",
       "      <th>5556</th>\n",
       "      <td>Tupiratins</td>\n",
       "      <td>TO</td>\n",
       "      <td>2097</td>\n",
       "      <td>4484</td>\n",
       "      <td>0,601</td>\n",
       "      <td>0,425</td>\n",
       "      <td>98</td>\n",
       "      <td>Norte</td>\n",
       "    </tr>\n",
       "    <tr>\n",
       "      <th>5557</th>\n",
       "      <td>Wanderlândia</td>\n",
       "      <td>TO</td>\n",
       "      <td>10981</td>\n",
       "      <td>3352</td>\n",
       "      <td>0,619</td>\n",
       "      <td>0,561</td>\n",
       "      <td>589</td>\n",
       "      <td>Norte</td>\n",
       "    </tr>\n",
       "    <tr>\n",
       "      <th>5558</th>\n",
       "      <td>Xambioá</td>\n",
       "      <td>TO</td>\n",
       "      <td>11484</td>\n",
       "      <td>2648</td>\n",
       "      <td>0,648</td>\n",
       "      <td>0,57</td>\n",
       "      <td>848</td>\n",
       "      <td>Norte</td>\n",
       "    </tr>\n",
       "  </tbody>\n",
       "</table>\n",
       "<p>5559 rows × 8 columns</p>\n",
       "</div>"
      ],
      "text/plain": [
       "              Cidade Estado  População_Residente  Rank_do_IDHM  Renda  \\\n",
       "0         Acrelândia     AC                12538          4079  0,584   \n",
       "1       Assis Brasil     AC                 6072          4448  0,578   \n",
       "2          Brasiléia     AC                21398          3832  0,619   \n",
       "3             Bujari     AC                 8471          4426  0,603   \n",
       "4           Capixaba     AC                 8798          4755  0,601   \n",
       "...              ...    ...                  ...           ...    ...   \n",
       "5554  Tocantinópolis     TO                22619          2415  0,634   \n",
       "5555        Tupirama     TO                 1574          2690  0,629   \n",
       "5556      Tupiratins     TO                 2097          4484  0,601   \n",
       "5557    Wanderlândia     TO                10981          3352  0,619   \n",
       "5558         Xambioá     TO                11484          2648  0,648   \n",
       "\n",
       "     Educação  Carros Região  \n",
       "0       0,466    1223  Norte  \n",
       "1       0,456     290  Norte  \n",
       "2       0,485    2122  Norte  \n",
       "3       0,439     577  Norte  \n",
       "4       0,398     561  Norte  \n",
       "...       ...     ...    ...  \n",
       "5554    0,623    3500  Norte  \n",
       "5555    0,593     145  Norte  \n",
       "5556    0,425      98  Norte  \n",
       "5557    0,561     589  Norte  \n",
       "5558     0,57     848  Norte  \n",
       "\n",
       "[5559 rows x 8 columns]"
      ]
     },
     "execution_count": 93,
     "metadata": {},
     "output_type": "execute_result"
    }
   ],
   "source": [
    "traducao_colunas = {\n",
    "    'CITY': 'Cidade',\n",
    "    'STATE': 'Estado',\n",
    "    'Pop_residente': 'População_Residente',\n",
    "    'IDHM_Rank': 'Rank_do_IDHM',\n",
    "    'Renda': 'Renda',\n",
    "    'Educacao': 'Educação',\n",
    "    'CARRO': 'Carros',\n",
    "    'Regiao': 'Região'\n",
    "}\n",
    "\n",
    "\n",
    "df_mb_dani.rename(columns=traducao_colunas, inplace=True)\n",
    "df_mb_dani\n"
   ]
  },
  {
   "cell_type": "markdown",
   "metadata": {},
   "source": [
    "<span style=\"color: red;\">ANALISANDO O BANCO DE DADOS</span>"
   ]
  },
  {
   "cell_type": "code",
   "execution_count": 94,
   "metadata": {},
   "outputs": [
    {
     "name": "stdout",
     "output_type": "stream",
     "text": [
      "<class 'pandas.core.frame.DataFrame'>\n",
      "RangeIndex: 5559 entries, 0 to 5558\n",
      "Data columns (total 8 columns):\n",
      " #   Column               Non-Null Count  Dtype \n",
      "---  ------               --------------  ----- \n",
      " 0   Cidade               5559 non-null   object\n",
      " 1   Estado               5559 non-null   object\n",
      " 2   População_Residente  5559 non-null   int64 \n",
      " 3   Rank_do_IDHM         5559 non-null   int64 \n",
      " 4   Renda                5559 non-null   object\n",
      " 5   Educação             5559 non-null   object\n",
      " 6   Carros               5559 non-null   int64 \n",
      " 7   Região               5559 non-null   object\n",
      "dtypes: int64(3), object(5)\n",
      "memory usage: 347.6+ KB\n"
     ]
    }
   ],
   "source": [
    "df_mb_dani.info()"
   ]
  },
  {
   "cell_type": "markdown",
   "metadata": {},
   "source": [
    "<span style=\"color: red;\">Removendo espaços e transformando object em dado NUMÉRICO (INT)</span>"
   ]
  },
  {
   "cell_type": "code",
   "execution_count": 95,
   "metadata": {},
   "outputs": [],
   "source": [
    "# Remoção de caracteres não númericos da coluna Educação e Renda\n",
    "df_mb_dani['Educação'] = df_mb_dani['Educação'].str.replace(r'[^\\d.]+', '', regex=True)\n",
    "df_mb_dani['Renda'] = df_mb_dani['Renda'].str.replace(r'[^\\d.]+', '', regex=True)\n",
    "\n",
    "\n",
    "# Converte a coluna Educação e Renda para tipo float\n",
    "df_mb_dani['Educação'] = pd.to_numeric(df_mb_dani['Educação'], errors='coerce')\n",
    "df_mb_dani['Renda'] = pd.to_numeric(df_mb_dani['Renda'], errors='coerce')"
   ]
  },
  {
   "cell_type": "markdown",
   "metadata": {},
   "source": [
    "<span style=\"color: red;\">NOVA VERIFICAÇÃO DE DADOS</span>\n"
   ]
  },
  {
   "cell_type": "code",
   "execution_count": 96,
   "metadata": {},
   "outputs": [
    {
     "name": "stdout",
     "output_type": "stream",
     "text": [
      "<class 'pandas.core.frame.DataFrame'>\n",
      "RangeIndex: 5559 entries, 0 to 5558\n",
      "Data columns (total 8 columns):\n",
      " #   Column               Non-Null Count  Dtype \n",
      "---  ------               --------------  ----- \n",
      " 0   Cidade               5559 non-null   object\n",
      " 1   Estado               5559 non-null   object\n",
      " 2   População_Residente  5559 non-null   int64 \n",
      " 3   Rank_do_IDHM         5559 non-null   int64 \n",
      " 4   Renda                5559 non-null   int64 \n",
      " 5   Educação             5559 non-null   int64 \n",
      " 6   Carros               5559 non-null   int64 \n",
      " 7   Região               5559 non-null   object\n",
      "dtypes: int64(5), object(3)\n",
      "memory usage: 347.6+ KB\n"
     ]
    }
   ],
   "source": [
    "df_mb_dani.info()"
   ]
  },
  {
   "cell_type": "markdown",
   "metadata": {},
   "source": [
    "<span style=\"color: yellow;\">Total de Habitantes</span>"
   ]
  },
  {
   "cell_type": "code",
   "execution_count": 97,
   "metadata": {},
   "outputs": [
    {
     "name": "stdout",
     "output_type": "stream",
     "text": [
      "Temos o total de 190777646 habitantes\n"
     ]
    }
   ],
   "source": [
    "total_de_habitantes = 'População_Residente'\n",
    "soma_totalhb = df_mb_dani[total_de_habitantes].sum()\n",
    "print(f'Temos o total de {soma_totalhb} habitantes')\n",
    "\n"
   ]
  },
  {
   "cell_type": "markdown",
   "metadata": {},
   "source": [
    "<span style=\"color: red;\">Total de Estados</span>\n"
   ]
  },
  {
   "cell_type": "code",
   "execution_count": 98,
   "metadata": {},
   "outputs": [
    {
     "name": "stdout",
     "output_type": "stream",
     "text": [
      "Temos o total de 27 estados\n"
     ]
    }
   ],
   "source": [
    "#contagem de estados\n",
    "quantidade_siglas_unicas = df_mb_dani['Estado'].nunique()\n",
    "print(f'Temos o total de {quantidade_siglas_unicas} estados')\n",
    "\n"
   ]
  },
  {
   "cell_type": "markdown",
   "metadata": {},
   "source": [
    "\n",
    "<span style=\"color: red;\">Total de Municípios por Estado</span>\n"
   ]
  },
  {
   "cell_type": "code",
   "execution_count": 99,
   "metadata": {},
   "outputs": [
    {
     "data": {
      "text/plain": [
       "Estado\n",
       "MG    852\n",
       "SP    646\n",
       "RS    496\n",
       "BA    416\n",
       "PR    399\n",
       "SC    293\n",
       "GO    245\n",
       "PI    224\n",
       "PB    222\n",
       "MA    217\n",
       "PE    185\n",
       "CE    184\n",
       "RN    164\n",
       "PA    143\n",
       "MT    141\n",
       "TO    138\n",
       "AL    102\n",
       "RJ     93\n",
       "MS     78\n",
       "ES     78\n",
       "SE     75\n",
       "AM     62\n",
       "RO     52\n",
       "AC     22\n",
       "AP     16\n",
       "RR     15\n",
       "DF      1\n",
       "Name: count, dtype: int64"
      ]
     },
     "execution_count": 99,
     "metadata": {},
     "output_type": "execute_result"
    }
   ],
   "source": [
    "#Contagem de municipios por estados\n",
    "contagem_de_municipios = df_mb_dani['Estado'].value_counts()\n",
    "contagem_de_municipios\n"
   ]
  },
  {
   "cell_type": "markdown",
   "metadata": {},
   "source": [
    "<span style=\"color: red;\">Gráfico do Número de Municípios por Estado</span>"
   ]
  },
  {
   "cell_type": "code",
   "execution_count": 100,
   "metadata": {},
   "outputs": [
    {
     "data": {
      "image/png": "[encoded data removed]",
      "text/plain": [
       "<Figure size 1000x700 with 1 Axes>"
      ]
     },
     "metadata": {},
     "output_type": "display_data"
    }
   ],
   "source": [
    "#Gráfico da distribuição de municípios por estado\n",
    "plt.figure(figsize=(10, 7)) \n",
    "contagem_de_municipios.plot(kind='bar',color= 'blue',edgecolor='black');\n",
    "for index, value in enumerate(contagem_de_municipios):\n",
    "    plt.annotate(str(value), xy=(index, value), ha='center', va='bottom')\n",
    "\n",
    "plt.title('Contagem de Municípios por Estado'); \n",
    "plt.xlabel('Estados');  \n",
    "plt.ylabel('Números de Munícipios');"
   ]
  },
  {
   "cell_type": "markdown",
   "metadata": {},
   "source": [
    "<span style=\"color: skyblue;\">Quantidade de Estados por região e gráfico desta distribuição</span>"
   ]
  },
  {
   "cell_type": "code",
   "execution_count": 101,
   "metadata": {},
   "outputs": [
    {
     "data": {
      "text/plain": [
       "Região\n",
       "Centro-Oeste    4\n",
       "Nordeste        9\n",
       "Norte           7\n",
       "Sudeste         4\n",
       "Sul             3\n",
       "Name: Estado, dtype: int64"
      ]
     },
     "execution_count": 101,
     "metadata": {},
     "output_type": "execute_result"
    }
   ],
   "source": [
    "# Quantidade de Estados por Região\n",
    "contagem_estados_por_regiao = df_mb_dani.groupby('Região')['Estado'].nunique()\n",
    "contagem_estados_por_regiao"
   ]
  },
  {
   "cell_type": "code",
   "execution_count": 102,
   "metadata": {},
   "outputs": [
    {
     "data": {
      "image/png": "[encoded data removed]",
      "text/plain": [
       "<Figure size 600x400 with 1 Axes>"
      ]
     },
     "metadata": {},
     "output_type": "display_data"
    }
   ],
   "source": [
    "plt.figure(figsize=(6, 4))\n",
    "contagem_estados_por_regiao = contagem_estados_por_regiao.sort_values(ascending=False)\n",
    "contagem_estados_por_regiao.plot(kind='bar',color= 'blue',edgecolor='black');\n",
    "for index, value in enumerate(contagem_estados_por_regiao):\n",
    "    plt.annotate(str(value), xy=(index, value), ha='center', va='bottom')\n",
    "\n",
    "plt.title('Contagem de Estados por Região'); \n",
    "plt.xlabel('Regiões');  \n",
    "plt.ylabel('Números de Estados');"
   ]
  },
  {
   "cell_type": "markdown",
   "metadata": {},
   "source": [
    "<span style=\"color:yellow;\">SEÇÃO EDUCAÇÃO</span>\\\n",
    "<span style=\"color:white;\">Maior e menor índice educacional</span>\n"
   ]
  },
  {
   "cell_type": "code",
   "execution_count": 103,
   "metadata": {},
   "outputs": [
    {
     "name": "stdout",
     "output_type": "stream",
     "text": [
      "Maior ìndice de educação é 825\n",
      "Menor ìndice de educação é 4\n",
      "ID do maior ìndice de educação é 4781\n",
      "ID do menor ìndice de educação é 52\n"
     ]
    }
   ],
   "source": [
    "#Maior e Menor índice de Educação\n",
    "\n",
    "maior_educacao = df_mb_dani['Educação'].max()\n",
    "menor_educacao = df_mb_dani['Educação'].min()\n",
    "id_maior_educacao = df_mb_dani['Educação'].idxmax()\n",
    "id_menor_educacao = df_mb_dani['Educação'].idxmin()\n",
    "\n",
    "print(f'Maior ìndice de educação é {maior_educacao}')\n",
    "print(f'Menor ìndice de educação é {menor_educacao}')\n",
    "print(f'ID do maior ìndice de educação é {id_maior_educacao}')\n",
    "print(f'ID do menor ìndice de educação é {id_menor_educacao}')"
   ]
  },
  {
   "cell_type": "markdown",
   "metadata": {},
   "source": [
    "<span style=\"color:pink;\">Cidade com maior e menor Índice Educaional</span>"
   ]
  },
  {
   "cell_type": "code",
   "execution_count": 104,
   "metadata": {},
   "outputs": [
    {
     "name": "stdout",
     "output_type": "stream",
     "text": [
      "O estado com maior índice de Educação é o estado de SP e a Cidade é a Águas De São Pedro, com a nota 825\n",
      "O estado com menor índice de Educação é o estado do AL e a Cidade é a Flexeiras, com a nota 4\n"
     ]
    }
   ],
   "source": [
    "#Estado e cidade do maior e menor índice:\n",
    "\n",
    "cidade_maior_educacao = df_mb_dani.loc[id_maior_educacao, 'Cidade']\n",
    "cidade_menor_educacao = df_mb_dani.loc[id_menor_educacao, 'Cidade']\n",
    "estado_maior_educacao = df_mb_dani.loc[id_maior_educacao, 'Estado']\n",
    "estado_menor_educacao = df_mb_dani.loc[id_menor_educacao, 'Estado']\n",
    "\n",
    "\n",
    "print(f'O estado com maior índice de Educação é o estado de {estado_maior_educacao} e a Cidade é a {cidade_maior_educacao}, com a nota {maior_educacao}')\n",
    "print(f'O estado com menor índice de Educação é o estado do {estado_menor_educacao} e a Cidade é a {cidade_menor_educacao}, com a nota {menor_educacao}')"
   ]
  },
  {
   "cell_type": "markdown",
   "metadata": {},
   "source": [
    "<span style=\"color:pink;\">Medianas de notas entre os Estados </span>"
   ]
  },
  {
   "cell_type": "code",
   "execution_count": 105,
   "metadata": {},
   "outputs": [
    {
     "name": "stdout",
     "output_type": "stream",
     "text": [
      "Estado\n",
      "AC    452.0\n",
      "AL    431.5\n",
      "AM    428.0\n",
      "AP    537.0\n",
      "BA    469.0\n",
      "CE    544.5\n",
      "DF    742.0\n",
      "ES    578.5\n",
      "GO    588.0\n",
      "MA    479.0\n",
      "MG    551.5\n",
      "MS    558.0\n",
      "MT    571.0\n",
      "PA    437.0\n",
      "PB    462.0\n",
      "PE    479.0\n",
      "PI    442.0\n",
      "PR    611.0\n",
      "RJ    619.0\n",
      "RN    507.5\n",
      "RO    509.0\n",
      "RR    518.0\n",
      "RS    593.0\n",
      "SC    626.0\n",
      "SE    474.0\n",
      "SP    672.5\n",
      "TO    530.0\n",
      "Name: Educação, dtype: float64\n"
     ]
    }
   ],
   "source": [
    "mediana_notas_por_estado = df_mb_dani.groupby('Estado')['Educação'].median()\n",
    "print(mediana_notas_por_estado)"
   ]
  },
  {
   "cell_type": "markdown",
   "metadata": {},
   "source": [
    "<span style=\"color:pink;\">Gráfico do Índice de Educação Por Estado</span>"
   ]
  },
  {
   "cell_type": "code",
   "execution_count": 106,
   "metadata": {},
   "outputs": [
    {
     "data": {
      "image/png": "[encoded data removed]",
      "text/plain": [
       "<Figure size 1000x700 with 1 Axes>"
      ]
     },
     "metadata": {},
     "output_type": "display_data"
    }
   ],
   "source": [
    "plt.figure(figsize=(10, 7))\n",
    "mediana_notas_por_estado = mediana_notas_por_estado.sort_values(ascending=False)\n",
    "mediana_notas_por_estado.plot(kind='bar',color= 'skyblue',edgecolor='black');\n",
    "plt.title('Índice Educacional por Estado'); \n",
    "plt.xlabel('Estados');  \n",
    "plt.ylabel('Índice Educacional (Notas)');"
   ]
  },
  {
   "cell_type": "markdown",
   "metadata": {},
   "source": [
    "***<span style=\"color:yellow;\">SEÇÃO IDMH (Índice de Desenvolvimento Humano Municipal)</span>***"
   ]
  },
  {
   "cell_type": "markdown",
   "metadata": {},
   "source": [
    "<span style=\"color:yellow;\">Rank de Cidades com Melhor IDHM</span>"
   ]
  },
  {
   "cell_type": "code",
   "execution_count": 107,
   "metadata": {},
   "outputs": [
    {
     "data": {
      "text/html": [
       "<div>\n",
       "<style scoped>\n",
       "    .dataframe tbody tr th:only-of-type {\n",
       "        vertical-align: middle;\n",
       "    }\n",
       "\n",
       "    .dataframe tbody tr th {\n",
       "        vertical-align: top;\n",
       "    }\n",
       "\n",
       "    .dataframe thead th {\n",
       "        text-align: right;\n",
       "    }\n",
       "</style>\n",
       "<table border=\"1\" class=\"dataframe\">\n",
       "  <thead>\n",
       "    <tr style=\"text-align: right;\">\n",
       "      <th></th>\n",
       "      <th>Cidade</th>\n",
       "      <th>Estado</th>\n",
       "      <th>População_Residente</th>\n",
       "      <th>Rank_do_IDHM</th>\n",
       "      <th>Renda</th>\n",
       "      <th>Educação</th>\n",
       "      <th>Carros</th>\n",
       "      <th>Região</th>\n",
       "    </tr>\n",
       "  </thead>\n",
       "  <tbody>\n",
       "    <tr>\n",
       "      <th>5323</th>\n",
       "      <td>São Caetano Do Sul</td>\n",
       "      <td>SP</td>\n",
       "      <td>149263</td>\n",
       "      <td>1</td>\n",
       "      <td>891</td>\n",
       "      <td>811</td>\n",
       "      <td>101804</td>\n",
       "      <td>Sudeste</td>\n",
       "    </tr>\n",
       "    <tr>\n",
       "      <th>4781</th>\n",
       "      <td>Águas De São Pedro</td>\n",
       "      <td>SP</td>\n",
       "      <td>2707</td>\n",
       "      <td>2</td>\n",
       "      <td>849</td>\n",
       "      <td>825</td>\n",
       "      <td>1721</td>\n",
       "      <td>Sudeste</td>\n",
       "    </tr>\n",
       "    <tr>\n",
       "      <th>4495</th>\n",
       "      <td>Florianópolis</td>\n",
       "      <td>SC</td>\n",
       "      <td>421240</td>\n",
       "      <td>3</td>\n",
       "      <td>87</td>\n",
       "      <td>8</td>\n",
       "      <td>226898</td>\n",
       "      <td>Sul</td>\n",
       "    </tr>\n",
       "    <tr>\n",
       "      <th>4434</th>\n",
       "      <td>Balneário Camboriú</td>\n",
       "      <td>SC</td>\n",
       "      <td>108089</td>\n",
       "      <td>4</td>\n",
       "      <td>854</td>\n",
       "      <td>789</td>\n",
       "      <td>50789</td>\n",
       "      <td>Sul</td>\n",
       "    </tr>\n",
       "    <tr>\n",
       "      <th>880</th>\n",
       "      <td>Vitória</td>\n",
       "      <td>ES</td>\n",
       "      <td>327801</td>\n",
       "      <td>5</td>\n",
       "      <td>876</td>\n",
       "      <td>805</td>\n",
       "      <td>125335</td>\n",
       "      <td>Sudeste</td>\n",
       "    </tr>\n",
       "    <tr>\n",
       "      <th>...</th>\n",
       "      <td>...</td>\n",
       "      <td>...</td>\n",
       "      <td>...</td>\n",
       "      <td>...</td>\n",
       "      <td>...</td>\n",
       "      <td>...</td>\n",
       "      <td>...</td>\n",
       "      <td>...</td>\n",
       "    </tr>\n",
       "    <tr>\n",
       "      <th>3910</th>\n",
       "      <td>Uiramutã</td>\n",
       "      <td>RR</td>\n",
       "      <td>8375</td>\n",
       "      <td>5561</td>\n",
       "      <td>439</td>\n",
       "      <td>276</td>\n",
       "      <td>7</td>\n",
       "      <td>Norte</td>\n",
       "    </tr>\n",
       "    <tr>\n",
       "      <th>1236</th>\n",
       "      <td>Marajá Do Sena</td>\n",
       "      <td>MA</td>\n",
       "      <td>8051</td>\n",
       "      <td>5562</td>\n",
       "      <td>4</td>\n",
       "      <td>299</td>\n",
       "      <td>11</td>\n",
       "      <td>Nordeste</td>\n",
       "    </tr>\n",
       "    <tr>\n",
       "      <th>129</th>\n",
       "      <td>Atalaia Do Norte</td>\n",
       "      <td>AM</td>\n",
       "      <td>15153</td>\n",
       "      <td>5563</td>\n",
       "      <td>481</td>\n",
       "      <td>259</td>\n",
       "      <td>18</td>\n",
       "      <td>Norte</td>\n",
       "    </tr>\n",
       "    <tr>\n",
       "      <th>1196</th>\n",
       "      <td>Fernando Falcão</td>\n",
       "      <td>MA</td>\n",
       "      <td>9241</td>\n",
       "      <td>5564</td>\n",
       "      <td>417</td>\n",
       "      <td>286</td>\n",
       "      <td>53</td>\n",
       "      <td>Nordeste</td>\n",
       "    </tr>\n",
       "    <tr>\n",
       "      <th>2484</th>\n",
       "      <td>Melgaço</td>\n",
       "      <td>PA</td>\n",
       "      <td>24808</td>\n",
       "      <td>5565</td>\n",
       "      <td>454</td>\n",
       "      <td>207</td>\n",
       "      <td>13</td>\n",
       "      <td>Norte</td>\n",
       "    </tr>\n",
       "  </tbody>\n",
       "</table>\n",
       "<p>5559 rows × 8 columns</p>\n",
       "</div>"
      ],
      "text/plain": [
       "                  Cidade Estado  População_Residente  Rank_do_IDHM  Renda  \\\n",
       "5323  São Caetano Do Sul     SP               149263             1    891   \n",
       "4781  Águas De São Pedro     SP                 2707             2    849   \n",
       "4495       Florianópolis     SC               421240             3     87   \n",
       "4434  Balneário Camboriú     SC               108089             4    854   \n",
       "880              Vitória     ES               327801             5    876   \n",
       "...                  ...    ...                  ...           ...    ...   \n",
       "3910            Uiramutã     RR                 8375          5561    439   \n",
       "1236      Marajá Do Sena     MA                 8051          5562      4   \n",
       "129     Atalaia Do Norte     AM                15153          5563    481   \n",
       "1196     Fernando Falcão     MA                 9241          5564    417   \n",
       "2484             Melgaço     PA                24808          5565    454   \n",
       "\n",
       "      Educação  Carros    Região  \n",
       "5323       811  101804   Sudeste  \n",
       "4781       825    1721   Sudeste  \n",
       "4495         8  226898       Sul  \n",
       "4434       789   50789       Sul  \n",
       "880        805  125335   Sudeste  \n",
       "...        ...     ...       ...  \n",
       "3910       276       7     Norte  \n",
       "1236       299      11  Nordeste  \n",
       "129        259      18     Norte  \n",
       "1196       286      53  Nordeste  \n",
       "2484       207      13     Norte  \n",
       "\n",
       "[5559 rows x 8 columns]"
      ]
     },
     "execution_count": 107,
     "metadata": {},
     "output_type": "execute_result"
    }
   ],
   "source": [
    "df_mb_dani_RankIDHM = df_mb_dani.sort_values(by='Rank_do_IDHM', ascending=True)\n",
    "\n",
    "df_mb_dani_RankIDHM"
   ]
  },
  {
   "cell_type": "code",
   "execution_count": 108,
   "metadata": {},
   "outputs": [],
   "source": [
    "\n",
    "Florianópolis = 870  \n",
    "Marajá_do_Sena = 400  \n",
    "\n",
    "df_mb_dani.loc[df_mb_dani['Cidade'] == 'Florianópolis', 'Renda'] = Florianópolis\n",
    "df_mb_dani.loc[df_mb_dani['Cidade'] == 'Marajá Do Sena', 'Renda'] = Marajá_do_Sena\n",
    "\n"
   ]
  },
  {
   "cell_type": "markdown",
   "metadata": {},
   "source": [
    "<span style=\"color:yellow;\">Top 5 IDHM : 5 Melhores Cidades; 5 Cidades na intermediárias; 5 Cidades com menores índices </span>"
   ]
  },
  {
   "cell_type": "code",
   "execution_count": 109,
   "metadata": {},
   "outputs": [
    {
     "name": "stdout",
     "output_type": "stream",
     "text": [
      "                      Cidade Estado  População_Residente  Rank_do_IDHM  Renda  \\\n",
      "5323      São Caetano Do Sul     SP               149263             1    891   \n",
      "4781      Águas De São Pedro     SP                 2707             2    849   \n",
      "4495           Florianópolis     SC               421240             3    870   \n",
      "4434      Balneário Camboriú     SC               108089             4    854   \n",
      "880                  Vitória     ES               327801             5    876   \n",
      "466                   Mucuri     BA                36026          2777    679   \n",
      "2299                Carlinda     MT                10990          2778    656   \n",
      "2300             Castanheira     MT                 8231          2779    671   \n",
      "1514        Central De Minas     MG                 6772          2780    663   \n",
      "1536  Conceição Do Rio Verde     MG                12949          2781    675   \n",
      "3910                Uiramutã     RR                 8375          5561    439   \n",
      "1236          Marajá Do Sena     MA                 8051          5562    400   \n",
      "129         Atalaia Do Norte     AM                15153          5563    481   \n",
      "1196         Fernando Falcão     MA                 9241          5564    417   \n",
      "2484                 Melgaço     PA                24808          5565    454   \n",
      "\n",
      "      Educação  Carros        Região  \n",
      "5323       811  101804       Sudeste  \n",
      "4781       825    1721       Sudeste  \n",
      "4495         8  226898           Sul  \n",
      "4434       789   50789           Sul  \n",
      "880        805  125335       Sudeste  \n",
      "466        541    3162      Nordeste  \n",
      "2299       553    1418  Centro-Oeste  \n",
      "2300       547     829  Centro-Oeste  \n",
      "1514        54    1120       Sudeste  \n",
      "1536       522    2906       Sudeste  \n",
      "3910       276       7         Norte  \n",
      "1236       299      11      Nordeste  \n",
      "129        259      18         Norte  \n",
      "1196       286      53      Nordeste  \n",
      "2484       207      13         Norte  \n"
     ]
    }
   ],
   "source": [
    "\n",
    "\n",
    "\n",
    "df_mb_dani = df_mb_dani.sort_values(by='Rank_do_IDHM')\n",
    "\n",
    "primeiras_cidades = df_mb_dani.head(5)\n",
    "\n",
    "indice_meio = len(df_mb_dani) // 2\n",
    "\n",
    "cidades_do_meio = df_mb_dani.iloc[indice_meio - 2:indice_meio + 3]\n",
    "\n",
    "ultimas_cidades = df_mb_dani.tail(5)\n",
    "\n",
    "resultado_final = pd.concat([primeiras_cidades, cidades_do_meio, ultimas_cidades])\n",
    "\n",
    "print(resultado_final)\n",
    "\n",
    "\n"
   ]
  },
  {
   "cell_type": "code",
   "execution_count": 110,
   "metadata": {},
   "outputs": [
    {
     "data": {
      "text/html": [
       "<div>\n",
       "<style scoped>\n",
       "    .dataframe tbody tr th:only-of-type {\n",
       "        vertical-align: middle;\n",
       "    }\n",
       "\n",
       "    .dataframe tbody tr th {\n",
       "        vertical-align: top;\n",
       "    }\n",
       "\n",
       "    .dataframe thead th {\n",
       "        text-align: right;\n",
       "    }\n",
       "</style>\n",
       "<table border=\"1\" class=\"dataframe\">\n",
       "  <thead>\n",
       "    <tr style=\"text-align: right;\">\n",
       "      <th></th>\n",
       "      <th>Cidade</th>\n",
       "      <th>Estado</th>\n",
       "      <th>População_Residente</th>\n",
       "      <th>Rank_do_IDHM</th>\n",
       "      <th>Renda</th>\n",
       "      <th>Educação</th>\n",
       "      <th>Carros</th>\n",
       "      <th>Região</th>\n",
       "    </tr>\n",
       "  </thead>\n",
       "  <tbody>\n",
       "    <tr>\n",
       "      <th>5323</th>\n",
       "      <td>São Caetano Do Sul</td>\n",
       "      <td>SP</td>\n",
       "      <td>149263</td>\n",
       "      <td>1</td>\n",
       "      <td>891</td>\n",
       "      <td>811</td>\n",
       "      <td>101804</td>\n",
       "      <td>Sudeste</td>\n",
       "    </tr>\n",
       "    <tr>\n",
       "      <th>4781</th>\n",
       "      <td>Águas De São Pedro</td>\n",
       "      <td>SP</td>\n",
       "      <td>2707</td>\n",
       "      <td>2</td>\n",
       "      <td>849</td>\n",
       "      <td>825</td>\n",
       "      <td>1721</td>\n",
       "      <td>Sudeste</td>\n",
       "    </tr>\n",
       "    <tr>\n",
       "      <th>4495</th>\n",
       "      <td>Florianópolis</td>\n",
       "      <td>SC</td>\n",
       "      <td>421240</td>\n",
       "      <td>3</td>\n",
       "      <td>870</td>\n",
       "      <td>8</td>\n",
       "      <td>226898</td>\n",
       "      <td>Sul</td>\n",
       "    </tr>\n",
       "    <tr>\n",
       "      <th>4434</th>\n",
       "      <td>Balneário Camboriú</td>\n",
       "      <td>SC</td>\n",
       "      <td>108089</td>\n",
       "      <td>4</td>\n",
       "      <td>854</td>\n",
       "      <td>789</td>\n",
       "      <td>50789</td>\n",
       "      <td>Sul</td>\n",
       "    </tr>\n",
       "    <tr>\n",
       "      <th>880</th>\n",
       "      <td>Vitória</td>\n",
       "      <td>ES</td>\n",
       "      <td>327801</td>\n",
       "      <td>5</td>\n",
       "      <td>876</td>\n",
       "      <td>805</td>\n",
       "      <td>125335</td>\n",
       "      <td>Sudeste</td>\n",
       "    </tr>\n",
       "    <tr>\n",
       "      <th>466</th>\n",
       "      <td>Mucuri</td>\n",
       "      <td>BA</td>\n",
       "      <td>36026</td>\n",
       "      <td>6</td>\n",
       "      <td>679</td>\n",
       "      <td>541</td>\n",
       "      <td>3162</td>\n",
       "      <td>Nordeste</td>\n",
       "    </tr>\n",
       "    <tr>\n",
       "      <th>2299</th>\n",
       "      <td>Carlinda</td>\n",
       "      <td>MT</td>\n",
       "      <td>10990</td>\n",
       "      <td>7</td>\n",
       "      <td>656</td>\n",
       "      <td>553</td>\n",
       "      <td>1418</td>\n",
       "      <td>Centro-Oeste</td>\n",
       "    </tr>\n",
       "    <tr>\n",
       "      <th>2300</th>\n",
       "      <td>Castanheira</td>\n",
       "      <td>MT</td>\n",
       "      <td>8231</td>\n",
       "      <td>8</td>\n",
       "      <td>671</td>\n",
       "      <td>547</td>\n",
       "      <td>829</td>\n",
       "      <td>Centro-Oeste</td>\n",
       "    </tr>\n",
       "    <tr>\n",
       "      <th>1514</th>\n",
       "      <td>Central De Minas</td>\n",
       "      <td>MG</td>\n",
       "      <td>6772</td>\n",
       "      <td>9</td>\n",
       "      <td>663</td>\n",
       "      <td>54</td>\n",
       "      <td>1120</td>\n",
       "      <td>Sudeste</td>\n",
       "    </tr>\n",
       "    <tr>\n",
       "      <th>1536</th>\n",
       "      <td>Conceição Do Rio Verde</td>\n",
       "      <td>MG</td>\n",
       "      <td>12949</td>\n",
       "      <td>10</td>\n",
       "      <td>675</td>\n",
       "      <td>522</td>\n",
       "      <td>2906</td>\n",
       "      <td>Sudeste</td>\n",
       "    </tr>\n",
       "    <tr>\n",
       "      <th>3910</th>\n",
       "      <td>Uiramutã</td>\n",
       "      <td>RR</td>\n",
       "      <td>8375</td>\n",
       "      <td>11</td>\n",
       "      <td>439</td>\n",
       "      <td>276</td>\n",
       "      <td>7</td>\n",
       "      <td>Norte</td>\n",
       "    </tr>\n",
       "    <tr>\n",
       "      <th>1236</th>\n",
       "      <td>Marajá Do Sena</td>\n",
       "      <td>MA</td>\n",
       "      <td>8051</td>\n",
       "      <td>12</td>\n",
       "      <td>400</td>\n",
       "      <td>299</td>\n",
       "      <td>11</td>\n",
       "      <td>Nordeste</td>\n",
       "    </tr>\n",
       "    <tr>\n",
       "      <th>129</th>\n",
       "      <td>Atalaia Do Norte</td>\n",
       "      <td>AM</td>\n",
       "      <td>15153</td>\n",
       "      <td>13</td>\n",
       "      <td>481</td>\n",
       "      <td>259</td>\n",
       "      <td>18</td>\n",
       "      <td>Norte</td>\n",
       "    </tr>\n",
       "    <tr>\n",
       "      <th>1196</th>\n",
       "      <td>Fernando Falcão</td>\n",
       "      <td>MA</td>\n",
       "      <td>9241</td>\n",
       "      <td>14</td>\n",
       "      <td>417</td>\n",
       "      <td>286</td>\n",
       "      <td>53</td>\n",
       "      <td>Nordeste</td>\n",
       "    </tr>\n",
       "    <tr>\n",
       "      <th>2484</th>\n",
       "      <td>Melgaço</td>\n",
       "      <td>PA</td>\n",
       "      <td>24808</td>\n",
       "      <td>15</td>\n",
       "      <td>454</td>\n",
       "      <td>207</td>\n",
       "      <td>13</td>\n",
       "      <td>Norte</td>\n",
       "    </tr>\n",
       "  </tbody>\n",
       "</table>\n",
       "</div>"
      ],
      "text/plain": [
       "                      Cidade Estado  População_Residente  Rank_do_IDHM  Renda  \\\n",
       "5323      São Caetano Do Sul     SP               149263             1    891   \n",
       "4781      Águas De São Pedro     SP                 2707             2    849   \n",
       "4495           Florianópolis     SC               421240             3    870   \n",
       "4434      Balneário Camboriú     SC               108089             4    854   \n",
       "880                  Vitória     ES               327801             5    876   \n",
       "466                   Mucuri     BA                36026             6    679   \n",
       "2299                Carlinda     MT                10990             7    656   \n",
       "2300             Castanheira     MT                 8231             8    671   \n",
       "1514        Central De Minas     MG                 6772             9    663   \n",
       "1536  Conceição Do Rio Verde     MG                12949            10    675   \n",
       "3910                Uiramutã     RR                 8375            11    439   \n",
       "1236          Marajá Do Sena     MA                 8051            12    400   \n",
       "129         Atalaia Do Norte     AM                15153            13    481   \n",
       "1196         Fernando Falcão     MA                 9241            14    417   \n",
       "2484                 Melgaço     PA                24808            15    454   \n",
       "\n",
       "      Educação  Carros        Região  \n",
       "5323       811  101804       Sudeste  \n",
       "4781       825    1721       Sudeste  \n",
       "4495         8  226898           Sul  \n",
       "4434       789   50789           Sul  \n",
       "880        805  125335       Sudeste  \n",
       "466        541    3162      Nordeste  \n",
       "2299       553    1418  Centro-Oeste  \n",
       "2300       547     829  Centro-Oeste  \n",
       "1514        54    1120       Sudeste  \n",
       "1536       522    2906       Sudeste  \n",
       "3910       276       7         Norte  \n",
       "1236       299      11      Nordeste  \n",
       "129        259      18         Norte  \n",
       "1196       286      53      Nordeste  \n",
       "2484       207      13         Norte  "
      ]
     },
     "execution_count": 110,
     "metadata": {},
     "output_type": "execute_result"
    }
   ],
   "source": [
    " \n",
    "\n",
    "resultado_final.loc[resultado_final['Cidade'] == 'Mucuri', 'Rank_do_IDHM'] = 6\n",
    "resultado_final.loc[resultado_final['Cidade'] == 'Carlinda', 'Rank_do_IDHM'] = 7\n",
    "resultado_final.loc[resultado_final['Cidade'] == 'Castanheira', 'Rank_do_IDHM'] = 8\n",
    "resultado_final.loc[resultado_final['Cidade'] == 'Central De Minas', 'Rank_do_IDHM'] = 9\n",
    "resultado_final.loc[resultado_final['Cidade'] == 'Conceição Do Rio Verde', 'Rank_do_IDHM'] = 10\n",
    "resultado_final.loc[resultado_final['Cidade'] == 'Uiramutã', 'Rank_do_IDHM'] = 11\n",
    "resultado_final.loc[resultado_final['Cidade'] == 'Marajá Do Sena', 'Rank_do_IDHM'] = 12\n",
    "resultado_final.loc[resultado_final['Cidade'] == 'Atalaia Do Norte', 'Rank_do_IDHM'] = 13\n",
    "resultado_final.loc[resultado_final['Cidade'] == 'Fernando Falcão', 'Rank_do_IDHM'] = 14\n",
    "resultado_final.loc[resultado_final['Cidade'] == 'Melgaço', 'Rank_do_IDHM'] = 15\n",
    "resultado_final"
   ]
  },
  {
   "cell_type": "code",
   "execution_count": 111,
   "metadata": {},
   "outputs": [
    {
     "data": {
      "image/png": "[encoded data removed]",
      "text/plain": [
       "<Figure size 1000x600 with 1 Axes>"
      ]
     },
     "metadata": {},
     "output_type": "display_data"
    }
   ],
   "source": [
    "\n",
    "plt.figure(figsize=(10, 6)) \n",
    "ax = sns.barplot(x='Rank_do_IDHM', y='Cidade', hue='Estado', data=resultado_final, orient='h')\n",
    "\n",
    "\n",
    "plt.xlabel('Menor Qualidade de Vida ')\n",
    "plt.ylabel('Munícipios')\n",
    "plt.title('Rank dos 15 Múnicipios com melhor, médio e menor ìndice do IDHM')\n",
    "plt.xticks([])\n",
    "\n",
    "plt.legend(title='Estado', bbox_to_anchor=(1.05, 1), loc='best')\n",
    "\n",
    "plt.tight_layout()\n",
    "\n",
    "plt.show()\n"
   ]
  }
 ],
 "metadata": {
  "kernelspec": {
   "display_name": "Python 3",
   "language": "python",
   "name": "python3"
  },
  "language_info": {
   "codemirror_mode": {
    "name": "ipython",
    "version": 3
   },
   "file_extension": ".py",
   "mimetype": "text/x-python",
   "name": "python",
   "nbconvert_exporter": "python",
   "pygments_lexer": "ipython3",
   "version": "3.11.4"
  }
 },
 "nbformat": 4,
 "nbformat_minor": 2
}
