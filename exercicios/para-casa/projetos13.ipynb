{
 "cells": [
  {
   "cell_type": "markdown",
   "metadata": {},
   "source": [
    "CRIMES CIBERNÉTICOS - Foi feita uma analise, com a base de dados dos tipos de crimes mais comuns em todo o mundo. Com informaçoes que incluem dados como: continente, país,mês,ano,tipo de ameaça e categoria.\n",
    "\n",
    "Intuito da analise - ATENÇÃO E PREOCUPAÇÃO - Sobre *Phishing e Engenharia Social ou Engenhosidade social*\n",
    "\n"
   ]
  },
  {
   "cell_type": "code",
   "execution_count": 1,
   "metadata": {},
   "outputs": [],
   "source": [
    "import pandas as pd\n",
    "import matplotlib.pyplot as plt"
   ]
  },
  {
   "cell_type": "code",
   "execution_count": 2,
   "metadata": {},
   "outputs": [
    {
     "data": {
      "text/html": [
       "<div>\n",
       "<style scoped>\n",
       "    .dataframe tbody tr th:only-of-type {\n",
       "        vertical-align: middle;\n",
       "    }\n",
       "\n",
       "    .dataframe tbody tr th {\n",
       "        vertical-align: top;\n",
       "    }\n",
       "\n",
       "    .dataframe thead th {\n",
       "        text-align: right;\n",
       "    }\n",
       "</style>\n",
       "<table border=\"1\" class=\"dataframe\">\n",
       "  <thead>\n",
       "    <tr style=\"text-align: right;\">\n",
       "      <th></th>\n",
       "      <th>continent</th>\n",
       "      <th>country</th>\n",
       "      <th>month</th>\n",
       "      <th>year</th>\n",
       "      <th>type</th>\n",
       "      <th>category_id</th>\n",
       "    </tr>\n",
       "  </thead>\n",
       "  <tbody>\n",
       "    <tr>\n",
       "      <th>0</th>\n",
       "      <td>Asia</td>\n",
       "      <td>China</td>\n",
       "      <td>September</td>\n",
       "      <td>2003.0</td>\n",
       "      <td>Malware</td>\n",
       "      <td>5.0</td>\n",
       "    </tr>\n",
       "    <tr>\n",
       "      <th>1</th>\n",
       "      <td>North America</td>\n",
       "      <td>US</td>\n",
       "      <td>March</td>\n",
       "      <td>2005.0</td>\n",
       "      <td>DDoS</td>\n",
       "      <td>2.0</td>\n",
       "    </tr>\n",
       "    <tr>\n",
       "      <th>2</th>\n",
       "      <td>North America</td>\n",
       "      <td>US</td>\n",
       "      <td>April</td>\n",
       "      <td>2005.0</td>\n",
       "      <td>APT</td>\n",
       "      <td>0.0</td>\n",
       "    </tr>\n",
       "    <tr>\n",
       "      <th>3</th>\n",
       "      <td>North America</td>\n",
       "      <td>US</td>\n",
       "      <td>May</td>\n",
       "      <td>2006.0</td>\n",
       "      <td>Phishing</td>\n",
       "      <td>7.0</td>\n",
       "    </tr>\n",
       "    <tr>\n",
       "      <th>4</th>\n",
       "      <td>North America</td>\n",
       "      <td>US</td>\n",
       "      <td>August</td>\n",
       "      <td>2006.0</td>\n",
       "      <td>Malware</td>\n",
       "      <td>5.0</td>\n",
       "    </tr>\n",
       "    <tr>\n",
       "      <th>...</th>\n",
       "      <td>...</td>\n",
       "      <td>...</td>\n",
       "      <td>...</td>\n",
       "      <td>...</td>\n",
       "      <td>...</td>\n",
       "      <td>...</td>\n",
       "    </tr>\n",
       "    <tr>\n",
       "      <th>942</th>\n",
       "      <td>Oceania</td>\n",
       "      <td>Australia</td>\n",
       "      <td>June</td>\n",
       "      <td>2022.0</td>\n",
       "      <td>Espionage</td>\n",
       "      <td>4.0</td>\n",
       "    </tr>\n",
       "    <tr>\n",
       "      <th>943</th>\n",
       "      <td>Asia</td>\n",
       "      <td>North Korea</td>\n",
       "      <td>June</td>\n",
       "      <td>2022.0</td>\n",
       "      <td>Phishing</td>\n",
       "      <td>7.0</td>\n",
       "    </tr>\n",
       "    <tr>\n",
       "      <th>944</th>\n",
       "      <td>United States</td>\n",
       "      <td>US</td>\n",
       "      <td>June</td>\n",
       "      <td>2022.0</td>\n",
       "      <td>Phishing</td>\n",
       "      <td>7.0</td>\n",
       "    </tr>\n",
       "    <tr>\n",
       "      <th>945</th>\n",
       "      <td>Europe</td>\n",
       "      <td>Germany</td>\n",
       "      <td>June</td>\n",
       "      <td>2022.0</td>\n",
       "      <td>SQL Injection</td>\n",
       "      <td>8.0</td>\n",
       "    </tr>\n",
       "    <tr>\n",
       "      <th>946</th>\n",
       "      <td>Europe</td>\n",
       "      <td>Norway</td>\n",
       "      <td>June</td>\n",
       "      <td>2022.0</td>\n",
       "      <td>APT</td>\n",
       "      <td>0.0</td>\n",
       "    </tr>\n",
       "  </tbody>\n",
       "</table>\n",
       "<p>947 rows × 6 columns</p>\n",
       "</div>"
      ],
      "text/plain": [
       "         continent      country      month    year           type  category_id\n",
       "0             Asia        China  September  2003.0        Malware          5.0\n",
       "1    North America           US      March  2005.0           DDoS          2.0\n",
       "2    North America           US      April  2005.0            APT          0.0\n",
       "3    North America           US        May  2006.0       Phishing          7.0\n",
       "4    North America           US     August  2006.0        Malware          5.0\n",
       "..             ...          ...        ...     ...            ...          ...\n",
       "942        Oceania    Australia       June  2022.0      Espionage          4.0\n",
       "943           Asia  North Korea       June  2022.0       Phishing          7.0\n",
       "944  United States           US       June  2022.0       Phishing          7.0\n",
       "945         Europe      Germany       June  2022.0  SQL Injection          8.0\n",
       "946         Europe       Norway       June  2022.0            APT          0.0\n",
       "\n",
       "[947 rows x 6 columns]"
      ]
     },
     "execution_count": 2,
     "metadata": {},
     "output_type": "execute_result"
    }
   ],
   "source": [
    "df = pd.read_csv('dados.csv', encoding='ISO-8859-1')\n",
    "df\n"
   ]
  },
  {
   "cell_type": "code",
   "execution_count": 3,
   "metadata": {},
   "outputs": [
    {
     "name": "stdout",
     "output_type": "stream",
     "text": [
      "<class 'pandas.core.frame.DataFrame'>\n"
     ]
    }
   ],
   "source": [
    "print(type(df))"
   ]
  },
  {
   "cell_type": "code",
   "execution_count": 4,
   "metadata": {},
   "outputs": [
    {
     "data": {
      "text/plain": [
       "continent       object\n",
       "country         object\n",
       "month           object\n",
       "year           float64\n",
       "type            object\n",
       "category_id    float64\n",
       "dtype: object"
      ]
     },
     "execution_count": 4,
     "metadata": {},
     "output_type": "execute_result"
    }
   ],
   "source": [
    "df.dtypes"
   ]
  },
  {
   "cell_type": "code",
   "execution_count": 5,
   "metadata": {},
   "outputs": [
    {
     "name": "stdout",
     "output_type": "stream",
     "text": [
      "<class 'pandas.core.frame.DataFrame'>\n",
      "RangeIndex: 947 entries, 0 to 946\n",
      "Data columns (total 6 columns):\n",
      " #   Column       Non-Null Count  Dtype  \n",
      "---  ------       --------------  -----  \n",
      " 0   continent    947 non-null    object \n",
      " 1   country      945 non-null    object \n",
      " 2   month        945 non-null    object \n",
      " 3   year         945 non-null    float64\n",
      " 4   type         945 non-null    object \n",
      " 5   category_id  945 non-null    float64\n",
      "dtypes: float64(2), object(4)\n",
      "memory usage: 250.1 KB\n"
     ]
    }
   ],
   "source": [
    "df.info(memory_usage=\"deep\")"
   ]
  },
  {
   "cell_type": "code",
   "execution_count": 6,
   "metadata": {},
   "outputs": [
    {
     "name": "stdout",
     "output_type": "stream",
     "text": [
      "<class 'pandas.core.frame.DataFrame'>\n",
      "RangeIndex: 947 entries, 0 to 946\n",
      "Data columns (total 6 columns):\n",
      " #   Column       Non-Null Count  Dtype  \n",
      "---  ------       --------------  -----  \n",
      " 0   continent    947 non-null    object \n",
      " 1   country      945 non-null    object \n",
      " 2   month        945 non-null    object \n",
      " 3   year         945 non-null    float64\n",
      " 4   type         945 non-null    object \n",
      " 5   category_id  945 non-null    float64\n",
      "dtypes: float64(2), object(4)\n",
      "memory usage: 44.5+ KB\n"
     ]
    }
   ],
   "source": [
    "df.info()\n"
   ]
  },
  {
   "cell_type": "code",
   "execution_count": 7,
   "metadata": {},
   "outputs": [
    {
     "data": {
      "text/html": [
       "<div>\n",
       "<style scoped>\n",
       "    .dataframe tbody tr th:only-of-type {\n",
       "        vertical-align: middle;\n",
       "    }\n",
       "\n",
       "    .dataframe tbody tr th {\n",
       "        vertical-align: top;\n",
       "    }\n",
       "\n",
       "    .dataframe thead th {\n",
       "        text-align: right;\n",
       "    }\n",
       "</style>\n",
       "<table border=\"1\" class=\"dataframe\">\n",
       "  <thead>\n",
       "    <tr style=\"text-align: right;\">\n",
       "      <th></th>\n",
       "      <th>continent</th>\n",
       "      <th>country</th>\n",
       "      <th>month</th>\n",
       "      <th>year</th>\n",
       "      <th>type</th>\n",
       "      <th>category_id</th>\n",
       "    </tr>\n",
       "  </thead>\n",
       "  <tbody>\n",
       "    <tr>\n",
       "      <th>0</th>\n",
       "      <td>Asia</td>\n",
       "      <td>China</td>\n",
       "      <td>September</td>\n",
       "      <td>2003.0</td>\n",
       "      <td>Malware</td>\n",
       "      <td>5.0</td>\n",
       "    </tr>\n",
       "    <tr>\n",
       "      <th>1</th>\n",
       "      <td>North America</td>\n",
       "      <td>US</td>\n",
       "      <td>March</td>\n",
       "      <td>2005.0</td>\n",
       "      <td>DDoS</td>\n",
       "      <td>2.0</td>\n",
       "    </tr>\n",
       "    <tr>\n",
       "      <th>2</th>\n",
       "      <td>North America</td>\n",
       "      <td>US</td>\n",
       "      <td>April</td>\n",
       "      <td>2005.0</td>\n",
       "      <td>APT</td>\n",
       "      <td>0.0</td>\n",
       "    </tr>\n",
       "    <tr>\n",
       "      <th>3</th>\n",
       "      <td>North America</td>\n",
       "      <td>US</td>\n",
       "      <td>May</td>\n",
       "      <td>2006.0</td>\n",
       "      <td>Phishing</td>\n",
       "      <td>7.0</td>\n",
       "    </tr>\n",
       "    <tr>\n",
       "      <th>4</th>\n",
       "      <td>North America</td>\n",
       "      <td>US</td>\n",
       "      <td>August</td>\n",
       "      <td>2006.0</td>\n",
       "      <td>Malware</td>\n",
       "      <td>5.0</td>\n",
       "    </tr>\n",
       "    <tr>\n",
       "      <th>5</th>\n",
       "      <td>North America</td>\n",
       "      <td>US</td>\n",
       "      <td>November</td>\n",
       "      <td>2006.0</td>\n",
       "      <td>DDoS</td>\n",
       "      <td>2.0</td>\n",
       "    </tr>\n",
       "    <tr>\n",
       "      <th>6</th>\n",
       "      <td>North America</td>\n",
       "      <td>US</td>\n",
       "      <td>December</td>\n",
       "      <td>2006.0</td>\n",
       "      <td>SQL Injection</td>\n",
       "      <td>8.0</td>\n",
       "    </tr>\n",
       "    <tr>\n",
       "      <th>7</th>\n",
       "      <td>North America</td>\n",
       "      <td>US</td>\n",
       "      <td>March</td>\n",
       "      <td>2007.0</td>\n",
       "      <td>Malware</td>\n",
       "      <td>5.0</td>\n",
       "    </tr>\n",
       "    <tr>\n",
       "      <th>8</th>\n",
       "      <td>North America</td>\n",
       "      <td>US</td>\n",
       "      <td>April</td>\n",
       "      <td>2007.0</td>\n",
       "      <td>DDoS</td>\n",
       "      <td>2.0</td>\n",
       "    </tr>\n",
       "    <tr>\n",
       "      <th>9</th>\n",
       "      <td>North America</td>\n",
       "      <td>US</td>\n",
       "      <td>May</td>\n",
       "      <td>2007.0</td>\n",
       "      <td>Malware</td>\n",
       "      <td>5.0</td>\n",
       "    </tr>\n",
       "  </tbody>\n",
       "</table>\n",
       "</div>"
      ],
      "text/plain": [
       "       continent country      month    year           type  category_id\n",
       "0           Asia   China  September  2003.0        Malware          5.0\n",
       "1  North America      US      March  2005.0           DDoS          2.0\n",
       "2  North America      US      April  2005.0            APT          0.0\n",
       "3  North America      US        May  2006.0       Phishing          7.0\n",
       "4  North America      US     August  2006.0        Malware          5.0\n",
       "5  North America      US   November  2006.0           DDoS          2.0\n",
       "6  North America      US   December  2006.0  SQL Injection          8.0\n",
       "7  North America      US      March  2007.0        Malware          5.0\n",
       "8  North America      US      April  2007.0           DDoS          2.0\n",
       "9  North America      US        May  2007.0        Malware          5.0"
      ]
     },
     "execution_count": 7,
     "metadata": {},
     "output_type": "execute_result"
    }
   ],
   "source": [
    "df.head(10)"
   ]
  },
  {
   "cell_type": "code",
   "execution_count": 8,
   "metadata": {},
   "outputs": [
    {
     "name": "stdout",
     "output_type": "stream",
     "text": [
      "              year  category_id\n",
      "count   945.000000   945.000000\n",
      "mean   2017.569312     4.678307\n",
      "std       3.992009     2.657378\n",
      "min    2003.000000     0.000000\n",
      "25%    2016.000000     3.000000\n",
      "50%    2019.000000     5.000000\n",
      "75%    2020.000000     7.000000\n",
      "max    2022.000000     9.000000\n"
     ]
    }
   ],
   "source": [
    "print(df.describe())\n"
   ]
  },
  {
   "cell_type": "code",
   "execution_count": 9,
   "metadata": {},
   "outputs": [],
   "source": [
    "contagem = df['month'].value_counts().head(5)"
   ]
  },
  {
   "cell_type": "code",
   "execution_count": 16,
   "metadata": {},
   "outputs": [
    {
     "name": "stdout",
     "output_type": "stream",
     "text": [
      "\n",
      "Contagem de ocorrências por tipo de crime:\n",
      "type\n",
      "Phishing             284\n",
      "Malware              210\n",
      "APT                  154\n",
      "DDoS                  61\n",
      "espionage             49\n",
      "DoS                   46\n",
      "Espionage             43\n",
      "Zero-Day Exploit      39\n",
      "Man-in-the-Middle     27\n",
      "SQL Injection         17\n",
      "SQL injection         13\n",
      "Brute Force            2\n",
      "Name: count, dtype: int64\n"
     ]
    }
   ],
   "source": [
    "tipos_crimes = df['type'].value_counts()\n",
    "print(\"\\nContagem de ocorrências por tipo de crime:\")\n",
    "print(tipos_crimes)"
   ]
  },
  {
   "cell_type": "markdown",
   "metadata": {},
   "source": [
    "TIPOS DE CRIME : PHISHING, MALWARE, APT, DDoS, Espião,Vulnerabilidade de dia zero (Zero-day), Man-in-the-Middle, SQL Injection , Força Bruta.\n",
    "Nessa analise, listei os TIPOS de crime e o numero de ocorrência por tipo crime.\n",
    "CONCLUSÃO - QUE O TIPO DE ATAQUE COM MAIS OCORRÊNCIA FOI O PHISHING"
   ]
  },
  {
   "cell_type": "code",
   "execution_count": 30,
   "metadata": {},
   "outputs": [
    {
     "data": {
      "image/png": "[encoded data removed]",
      "text/plain": [
       "<Figure size 1000x600 with 1 Axes>"
      ]
     },
     "metadata": {},
     "output_type": "display_data"
    }
   ],
   "source": [
    "crime_por_pais = df['country'].value_counts().head(5)\n",
    "\n",
    "plt.figure(figsize=(10, 6))\n",
    "crime_por_pais.plot(kind='bar', title='Top 5 - Países com  MAIS Crimes Cibernéticos', color='BLACK')\n",
    "plt.xlabel('PAÍS', color='red')\n",
    "plt.ylabel('NÚMERO DE CRIME', color='red')\n",
    "plt.xticks(rotation=56)\n",
    "\n",
    "# Mostrar o gráfico no notebook\n",
    "plt.show()"
   ]
  },
  {
   "cell_type": "markdown",
   "metadata": {},
   "source": [
    "ANALISE DOS 5 PAISES COM MAIS CRIMES CIBERNETICOS - De acordo com a analise os Estados Unidos é o país com mais crimes ciberneticos e a india o país com menos crimes ciberneticos. \n",
    "Uma analise critica para obeservarmos se é por desenvolvimento da tecnologia no país ou por falta de meios de Segurança Digital?"
   ]
  },
  {
   "cell_type": "code",
   "execution_count": 33,
   "metadata": {},
   "outputs": [
    {
     "name": "stdout",
     "output_type": "stream",
     "text": [
      "O tipo de crime mais comum em 2020 foi: Phishing\n"
     ]
    }
   ],
   "source": [
    "\n",
    "\n",
    "crimes_2020 = df[df['year'] == 2020]\n",
    "\n",
    "crime_2020_pandemia = crimes_2020['type'].value_counts()\n",
    "\n",
    "# Encontre o tipo de crime mais comum em 2020\n",
    "crime_mais_comum_2020 = crime_2020_pandemia.idxmax()\n",
    "\n",
    "print(f\"O tipo de crime mais comum em 2020 foi: {crime_mais_comum_2020}\")\n"
   ]
  },
  {
   "cell_type": "markdown",
   "metadata": {},
   "source": [
    "ANALISE: O crime mais comum no ano de 2020 foi o Phishing - O ano que iniciou a pandemia mundial\n",
    "O phishing é conhecido, porque sua tecnica de ataque é enganar as vitimias. Com o crescimento da tecnologia durante o ao pandêmico, foi um prato cheio para que os criminosos se aproveitassem desse avanaço. Com o crescimento de trabalho remoto e educação online, uso de aplicativos, telemedicina e o aumento de compras online. \n",
    "A população ficou vulneravel a grande massa de informações dando margem a mensagens falsas e sites duvidosos. A desinformação e o aumento de fakenews, facilitaram a disseminação do ataque em forma de phishing."
   ]
  },
  {
   "cell_type": "code",
   "execution_count": 39,
   "metadata": {},
   "outputs": [
    {
     "name": "stdout",
     "output_type": "stream",
     "text": [
      "O tipo de crime mais comum no Brasil foi: Phishing\n"
     ]
    },
    {
     "data": {
      "image/png": "[encoded data removed]",
      "text/plain": [
       "<Figure size 800x600 with 1 Axes>"
      ]
     },
     "metadata": {},
     "output_type": "display_data"
    }
   ],
   "source": [
    "crimes_brasil = df[df['country'] == 'Brazil']\n",
    "contagem_brasil = crimes_brasil['type'].value_counts()\n",
    "crime_mais_comum_brasil = contagem_brasil.idxmax()\n",
    "#idxmax - foi ultilizadp é para encontrar o índice (rótulo) do valor máximo na Série, ou seja, o tipo de crime mais comum no Brasil.\n",
    "\n",
    "print(f\"O tipo de crime mais comum no Brasil foi: {crime_mais_comum_brasil}\")\n",
    "\n",
    "plt.figure(figsize=(8, 6))\n",
    "contagem_brasil.plot(kind='bar', title='Crime mais comum no Brasil', color='yellow')\n",
    "plt.xlabel('Tipo de Crime', color='green')\n",
    "plt.ylabel('Número de Ocorrências', color='green')\n",
    "plt.xticks(rotation=36)\n",
    "plt.show()"
   ]
  },
  {
   "cell_type": "markdown",
   "metadata": {},
   "source": [
    "Analise: Os crimes mais comuns no Brasil. Foram: Phishing e Malware. \n",
    "A partir dessa analise, onde se inicia o intuito do projeto. Onde deve ser discutido medidas de segurança e meios de informações para evitar esse tipo de ataque. A partir de prevenção e comunicação com protocolos de segurança."
   ]
  },
  {
   "cell_type": "code",
   "execution_count": 35,
   "metadata": {},
   "outputs": [
    {
     "name": "stdout",
     "output_type": "stream",
     "text": [
      "O tipo de crime menos comum foi: Brute Force\n"
     ]
    }
   ],
   "source": [
    "crime_counts = df['type'].value_counts()\n",
    "\n",
    "crime_menos_comum = crime_counts.idxmin()\n",
    "\n",
    "print(f\"O tipo de crime menos comum foi: {crime_menos_comum}\")\n"
   ]
  },
  {
   "cell_type": "code",
   "execution_count": 31,
   "metadata": {},
   "outputs": [
    {
     "data": {
      "image/png": "[encoded data removed]",
      "text/plain": [
       "<Figure size 1000x600 with 1 Axes>"
      ]
     },
     "metadata": {},
     "output_type": "display_data"
    }
   ],
   "source": [
    "\n",
    "\n",
    "\n",
    "data = df.groupby('year')['category_id'].count()\n",
    "\n",
    "# Cgráfico de linha\n",
    "plt.figure(figsize=(10, 6))\n",
    "plt.plot(data.index, data.values, marker='o', linestyle='-')\n",
    "plt.title('Evolução dos Crimes Cibernéticos ao Longo dos Anos')\n",
    "plt.xlabel('Ano')\n",
    "plt.ylabel('Número de Crimes')\n",
    "plt.grid(True)\n",
    "\n",
    "\n",
    "plt.xticks(rotation=45)\n",
    "\n",
    "plt.show()\n"
   ]
  },
  {
   "cell_type": "code",
   "execution_count": 41,
   "metadata": {},
   "outputs": [
    {
     "name": "stdout",
     "output_type": "stream",
     "text": [
      "O crime mais comum em todo o mundo é Phishing com um total de 284 ocorrências.\n"
     ]
    }
   ],
   "source": [
    "\n",
    "contagem_crime_mundo = df['type'].value_counts()\n",
    "crime_mais_comum = crime_counts.index[0]\n",
    "contagem_mais_comum = crime_counts.iloc[0]\n",
    "\n",
    "print(f\"O crime mais comum em todo o mundo é {crime_mais_comum} com um total de {contagem_mais_comum} ocorrências.\")\n"
   ]
  },
  {
   "cell_type": "code",
   "execution_count": 40,
   "metadata": {},
   "outputs": [
    {
     "name": "stdout",
     "output_type": "stream",
     "text": [
      "O continente mais afetado pelos crimes é Asia com um total de 349 crimes.\n"
     ]
    }
   ],
   "source": [
    "crime_por_continente = df['continent'].value_counts()\n",
    "\n",
    "# Encontre o continente com a maior contagem de crimes\n",
    "continente_mais_afetado = crime_por_continente.idxmax()\n",
    "contagem_mais_afetado = crime_por_continente.max()\n",
    "\n",
    "print(f\"O continente mais afetado pelos crimes é {continente_mais_afetado} com um total de {contagem_mais_afetado} crimes.\")"
   ]
  }
 ],
 "metadata": {
  "kernelspec": {
   "display_name": "Python 3",
   "language": "python",
   "name": "python3"
  },
  "language_info": {
   "codemirror_mode": {
    "name": "ipython",
    "version": 3
   },
   "file_extension": ".py",
   "mimetype": "text/x-python",
   "name": "python",
   "nbconvert_exporter": "python",
   "pygments_lexer": "ipython3",
   "version": "3.11.4"
  }
 },
 "nbformat": 4,
 "nbformat_minor": 2
}
