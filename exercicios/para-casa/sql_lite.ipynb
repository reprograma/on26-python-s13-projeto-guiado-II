{
 "cells": [
  {
   "cell_type": "code",
   "execution_count": 2,
   "metadata": {},
   "outputs": [],
   "source": [
    "import csv\n",
    "import sqlite3\n",
    "\n",
    "file = open(\"desmatamento_acre.csv\", encoding='UTF-8')\n",
    "conteudo = csv.reader(file)\n",
    "connection = sqlite3.connect(\"desmatamento_acre.db\")\n",
    "cursor = connection.cursor()\n",
    "\n",
    "criar_tabela = \"\"\"\n",
    "CREATE TABLE IF NOT EXISTS DadosDesmatamento (\n",
    "    Ano INTEGER PRIMARY KEY,\n",
    "    Acre FLOAT\n",
    ")\n",
    "\"\"\"\n",
    "cursor.execute(criar_tabela)\n",
    "\n",
    "\n",
    "with open('desmatamento_acre.csv', 'r', encoding='UTF-8') as arquivo_csv:\n",
    "    leitor_csv = csv.reader(arquivo_csv)\n",
    "    next(leitor_csv)  \n",
    "    inserir_conteudo = \"INSERT INTO DadosDesmatamento (Ano, Acre) VALUES (?, ?)\"\n",
    "    cursor.executemany(inserir_conteudo, leitor_csv)\n",
    "\n",
    "\n",
    "connection.commit()\n",
    "connection.close()\n",
    "\n",
    "\n"
   ]
  }
 ],
 "metadata": {
  "kernelspec": {
   "display_name": "Python 3",
   "language": "python",
   "name": "python3"
  },
  "language_info": {
   "codemirror_mode": {
    "name": "ipython",
    "version": 3
   },
   "file_extension": ".py",
   "mimetype": "text/x-python",
   "name": "python",
   "nbconvert_exporter": "python",
   "pygments_lexer": "ipython3",
   "version": "3.11.4"
  }
 },
 "nbformat": 4,
 "nbformat_minor": 2
}
