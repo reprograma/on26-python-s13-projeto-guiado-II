{
 "cells": [
  {
   "cell_type": "markdown",
   "id": "3fb51551",
   "metadata": {},
   "source": [
    "## Banco de dados"
   ]
  },
  {
   "cell_type": "code",
   "execution_count": 1,
   "id": "6f065d6e",
   "metadata": {},
   "outputs": [],
   "source": [
    "import csv\n",
    "import sqlite3"
   ]
  },
  {
   "cell_type": "code",
   "execution_count": null,
   "id": "a7aa9973",
   "metadata": {},
   "outputs": [],
   "source": [
    "file = open(\"youtubers_df.csv\", encoding= 'UTF-8') "
   ]
  },
  {
   "cell_type": "code",
   "execution_count": null,
   "id": "eaaee9c6",
   "metadata": {},
   "outputs": [],
   "source": [
    "conteudo = csv.reader(file)\n",
    "\n",
    "connection = sqlite3.connect(\"banco_influencers.db\")\n",
    "\n",
    "cursor = connection.cursor()"
   ]
  },
  {
   "cell_type": "code",
   "execution_count": null,
   "id": "25d07ce5",
   "metadata": {},
   "outputs": [],
   "source": [
    "\n",
    "cursor.execute('''CREATE TABLE IF NOT EXISTS rank (\n",
    "    Rank INT,\n",
    "    vacina VARCHAR,\n",
    "    Categories VARCHAR, \n",
    "    Suscribers FLOAT,\n",
    "    Country VARCHAR,\n",
    "    Visits FLOAR,\n",
    "    Likes FLOAT,\n",
    "    Comments FLOAT,\n",
    "    Links VARCHAR\n",
    "    \n",
    ")''')"
   ]
  },
  {
   "cell_type": "code",
   "execution_count": null,
   "id": "8a047292",
   "metadata": {},
   "outputs": [],
   "source": [
    "\n",
    "inserir_conteudo = \"INSERT INTO rank (Rank,Username,Categories,Suscribers,Country,Visits,Likes,Comments,Links)VALUES(?, ?, ?, ?, ?, ?, ?, ?, ?)\"\n",
    "\n",
    "cursor.executemany(inserir_conteudo, conteudo)\n",
    "\n"
   ]
  },
  {
   "cell_type": "code",
   "execution_count": null,
   "id": "51ed46b3",
   "metadata": {},
   "outputs": [],
   "source": [
    "selecionar_tudo = \"SELECT * FROM rank\"\n",
    "entradas = cursor.execute(selecionar_tudo).fetchall()"
   ]
  },
  {
   "cell_type": "code",
   "execution_count": null,
   "id": "f30ba732",
   "metadata": {},
   "outputs": [],
   "source": [
    "for entrada in entradas:\n",
    "  print(entrada)"
   ]
  },
  {
   "cell_type": "code",
   "execution_count": null,
   "id": "a7dcca72",
   "metadata": {},
   "outputs": [],
   "source": [
    "connection.commit()\n",
    "connection.close()"
   ]
  },
  {
   "cell_type": "code",
   "execution_count": null,
   "id": "676a9111",
   "metadata": {},
   "outputs": [],
   "source": []
  }
 ],
 "metadata": {
  "kernelspec": {
   "display_name": "Python 3 (ipykernel)",
   "language": "python",
   "name": "python3"
  },
  "language_info": {
   "codemirror_mode": {
    "name": "ipython",
    "version": 3
   },
   "file_extension": ".py",
   "mimetype": "text/x-python",
   "name": "python",
   "nbconvert_exporter": "python",
   "pygments_lexer": "ipython3",
   "version": "3.12.0"
  }
 },
 "nbformat": 4,
 "nbformat_minor": 5
}
