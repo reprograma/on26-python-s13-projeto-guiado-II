{
 "cells": [
  {
   "cell_type": "markdown",
   "id": "3fb51551",
   "metadata": {},
   "source": [
    "## Banco de dados"
   ]
  },
  {
   "cell_type": "code",
   "execution_count": 1,
   "id": "6f065d6e",
   "metadata": {},
   "outputs": [],
   "source": [
    "import csv\n",
    "import sqlite3"
   ]
  },
  {
   "cell_type": "code",
   "execution_count": null,
   "id": "a7aa9973",
   "metadata": {},
   "outputs": [],
   "source": [
    "file = open(\"youtubers_df.csv\", encoding= 'UTF-8') "
   ]
  },
  {
   "cell_type": "code",
   "execution_count": null,
   "id": "eaaee9c6",
   "metadata": {},
   "outputs": [],
   "source": [
    "conteudo = csv.reader(file)\n",
    "\n",
    "connection = sqlite3.connect(\"banco_influencers.db\")\n",
    "\n",
    "cursor = connection.cursor()"
   ]
  },
  {
   "cell_type": "code",
   "execution_count": 1,
   "id": "25d07ce5",
   "metadata": {},
   "outputs": [
    {
     "ename": "NameError",
     "evalue": "name 'cursor' is not defined",
     "output_type": "error",
     "traceback": [
      "\u001b[1;31m---------------------------------------------------------------------------\u001b[0m",
      "\u001b[1;31mNameError\u001b[0m                                 Traceback (most recent call last)",
      "\u001b[1;32mc:\\Users\\taian\\estudos\\semana13\\on26-python-s13-projeto-guiado-II\\exercicios\\para-sala\\Banco de dados.ipynb Cell 5\u001b[0m line \u001b[0;36m1\n\u001b[1;32m----> <a href='vscode-notebook-cell:/c%3A/Users/taian/estudos/semana13/on26-python-s13-projeto-guiado-II/exercicios/para-sala/Banco%20de%20dados.ipynb#W4sZmlsZQ%3D%3D?line=0'>1</a>\u001b[0m cursor\u001b[39m.\u001b[39mexecute(\u001b[39m'''\u001b[39m\u001b[39mCREATE TABLE IF NOT EXISTS rank (\u001b[39m\n\u001b[0;32m      <a href='vscode-notebook-cell:/c%3A/Users/taian/estudos/semana13/on26-python-s13-projeto-guiado-II/exercicios/para-sala/Banco%20de%20dados.ipynb#W4sZmlsZQ%3D%3D?line=1'>2</a>\u001b[0m \u001b[39m    Rank INT,\u001b[39m\n\u001b[0;32m      <a href='vscode-notebook-cell:/c%3A/Users/taian/estudos/semana13/on26-python-s13-projeto-guiado-II/exercicios/para-sala/Banco%20de%20dados.ipynb#W4sZmlsZQ%3D%3D?line=2'>3</a>\u001b[0m \u001b[39m    Username VARCHAR,\u001b[39m\n\u001b[0;32m      <a href='vscode-notebook-cell:/c%3A/Users/taian/estudos/semana13/on26-python-s13-projeto-guiado-II/exercicios/para-sala/Banco%20de%20dados.ipynb#W4sZmlsZQ%3D%3D?line=3'>4</a>\u001b[0m \u001b[39m    Categories VARCHAR, \u001b[39m\n\u001b[0;32m      <a href='vscode-notebook-cell:/c%3A/Users/taian/estudos/semana13/on26-python-s13-projeto-guiado-II/exercicios/para-sala/Banco%20de%20dados.ipynb#W4sZmlsZQ%3D%3D?line=4'>5</a>\u001b[0m \u001b[39m    Suscribers FLOAT,\u001b[39m\n\u001b[0;32m      <a href='vscode-notebook-cell:/c%3A/Users/taian/estudos/semana13/on26-python-s13-projeto-guiado-II/exercicios/para-sala/Banco%20de%20dados.ipynb#W4sZmlsZQ%3D%3D?line=5'>6</a>\u001b[0m \u001b[39m    Country VARCHAR,\u001b[39m\n\u001b[0;32m      <a href='vscode-notebook-cell:/c%3A/Users/taian/estudos/semana13/on26-python-s13-projeto-guiado-II/exercicios/para-sala/Banco%20de%20dados.ipynb#W4sZmlsZQ%3D%3D?line=6'>7</a>\u001b[0m \u001b[39m    Visits FLOAR,\u001b[39m\n\u001b[0;32m      <a href='vscode-notebook-cell:/c%3A/Users/taian/estudos/semana13/on26-python-s13-projeto-guiado-II/exercicios/para-sala/Banco%20de%20dados.ipynb#W4sZmlsZQ%3D%3D?line=7'>8</a>\u001b[0m \u001b[39m    Likes FLOAT,\u001b[39m\n\u001b[0;32m      <a href='vscode-notebook-cell:/c%3A/Users/taian/estudos/semana13/on26-python-s13-projeto-guiado-II/exercicios/para-sala/Banco%20de%20dados.ipynb#W4sZmlsZQ%3D%3D?line=8'>9</a>\u001b[0m \u001b[39m    Comments FLOAT,\u001b[39m\n\u001b[0;32m     <a href='vscode-notebook-cell:/c%3A/Users/taian/estudos/semana13/on26-python-s13-projeto-guiado-II/exercicios/para-sala/Banco%20de%20dados.ipynb#W4sZmlsZQ%3D%3D?line=9'>10</a>\u001b[0m \u001b[39m    Links VARCHAR\u001b[39m\n\u001b[0;32m     <a href='vscode-notebook-cell:/c%3A/Users/taian/estudos/semana13/on26-python-s13-projeto-guiado-II/exercicios/para-sala/Banco%20de%20dados.ipynb#W4sZmlsZQ%3D%3D?line=10'>11</a>\u001b[0m \u001b[39m    \u001b[39m\n\u001b[0;32m     <a href='vscode-notebook-cell:/c%3A/Users/taian/estudos/semana13/on26-python-s13-projeto-guiado-II/exercicios/para-sala/Banco%20de%20dados.ipynb#W4sZmlsZQ%3D%3D?line=11'>12</a>\u001b[0m \u001b[39m)\u001b[39m\u001b[39m'''\u001b[39m)\n",
      "\u001b[1;31mNameError\u001b[0m: name 'cursor' is not defined"
     ]
    }
   ],
   "source": [
    "\n",
    "cursor.execute('''CREATE TABLE IF NOT EXISTS rank (\n",
    "    Rank INT,\n",
    "    Username VARCHAR,\n",
    "    Categories VARCHAR, \n",
    "    Suscribers FLOAT,\n",
    "    Country VARCHAR,\n",
    "    Visits FLOAR,\n",
    "    Likes FLOAT,\n",
    "    Comments FLOAT,\n",
    "    Links VARCHAR\n",
    "    \n",
    ")''')"
   ]
  },
  {
   "cell_type": "code",
   "execution_count": 1,
   "id": "8a047292",
   "metadata": {},
   "outputs": [
    {
     "ename": "NameError",
     "evalue": "name 'cursor' is not defined",
     "output_type": "error",
     "traceback": [
      "\u001b[1;31m---------------------------------------------------------------------------\u001b[0m",
      "\u001b[1;31mNameError\u001b[0m                                 Traceback (most recent call last)",
      "\u001b[1;32mc:\\Users\\taian\\estudos\\semana13\\on26-python-s13-projeto-guiado-II\\exercicios\\para-sala\\Banco de dados.ipynb Cell 6\u001b[0m line \u001b[0;36m3\n\u001b[0;32m      <a href='vscode-notebook-cell:/c%3A/Users/taian/estudos/semana13/on26-python-s13-projeto-guiado-II/exercicios/para-sala/Banco%20de%20dados.ipynb#W5sZmlsZQ%3D%3D?line=0'>1</a>\u001b[0m inserir_conteudo \u001b[39m=\u001b[39m \u001b[39m\"\u001b[39m\u001b[39mINSERT INTO rank (Rank,Username,Categories,Suscribers,Country,Visits,Likes,Comments,Links)VALUES(?, ?, ?, ?, ?, ?, ?, ?, ?,?)\u001b[39m\u001b[39m\"\u001b[39m\n\u001b[1;32m----> <a href='vscode-notebook-cell:/c%3A/Users/taian/estudos/semana13/on26-python-s13-projeto-guiado-II/exercicios/para-sala/Banco%20de%20dados.ipynb#W5sZmlsZQ%3D%3D?line=2'>3</a>\u001b[0m cursor\u001b[39m.\u001b[39mexecutemany(inserir_conteudo, conteudo)\n",
      "\u001b[1;31mNameError\u001b[0m: name 'cursor' is not defined"
     ]
    }
   ],
   "source": [
    "\n",
    "inserir_conteudo = \"INSERT INTO rank (Rank,Username,Categories,Suscribers,Country,Visits,Likes,Comments,Links)VALUES(?, ?, ?, ?, ?, ?, ?, ?, ?,?)\"\n",
    "\n",
    "cursor.executemany(inserir_conteudo, conteudo)\n",
    "\n"
   ]
  },
  {
   "cell_type": "code",
   "execution_count": null,
   "id": "51ed46b3",
   "metadata": {},
   "outputs": [],
   "source": [
    "selecionar_tudo = \"SELECT * FROM rank\"\n",
    "entradas = cursor.execute(selecionar_tudo).fetchall()"
   ]
  },
  {
   "cell_type": "code",
   "execution_count": null,
   "id": "f30ba732",
   "metadata": {},
   "outputs": [],
   "source": [
    "for entrada in entradas:\n",
    "  print(entrada)"
   ]
  },
  {
   "cell_type": "code",
   "execution_count": null,
   "id": "a7dcca72",
   "metadata": {},
   "outputs": [],
   "source": [
    "connection.commit()\n",
    "connection.close()"
   ]
  },
  {
   "cell_type": "code",
   "execution_count": null,
   "id": "676a9111",
   "metadata": {},
   "outputs": [],
   "source": []
  }
 ],
 "metadata": {
  "kernelspec": {
   "display_name": "Python 3 (ipykernel)",
   "language": "python",
   "name": "python3"
  },
  "language_info": {
   "codemirror_mode": {
    "name": "ipython",
    "version": 3
   },
   "file_extension": ".py",
   "mimetype": "text/x-python",
   "name": "python",
   "nbconvert_exporter": "python",
   "pygments_lexer": "ipython3",
   "version": "3.11.4"
  }
 },
 "nbformat": 4,
 "nbformat_minor": 5
}
