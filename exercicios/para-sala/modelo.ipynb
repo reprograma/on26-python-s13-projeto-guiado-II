{
 "cells": [
  {
   "cell_type": "markdown",
   "id": "fa1a6456",
   "metadata": {
    "slideshow": {
     "slide_type": "slide"
    }
   },
   "source": [
    "# Apenas um modelo, para faciliar os códigos - não precisa usar\n"
   ]
  },
  {
   "cell_type": "markdown",
   "id": "49f4d666",
   "metadata": {
    "slideshow": {
     "slide_type": "subslide"
    }
   },
   "source": [
    "Baixando as bibliotecas"
   ]
  },
  {
   "cell_type": "code",
   "execution_count": null,
   "id": "1df9d7f5",
   "metadata": {
    "slideshow": {
     "slide_type": "subslide"
    }
   },
   "outputs": [],
   "source": [
    "import pandas as pd\n",
    "import matplotlib.pyplot as plt"
   ]
  },
  {
   "cell_type": "markdown",
   "id": "b585b66b",
   "metadata": {
    "slideshow": {
     "slide_type": "subslide"
    }
   },
   "source": [
    "lendo o arquivo csv com seu separador e encoding"
   ]
  },
  {
   "cell_type": "code",
   "execution_count": 1,
   "id": "600ff70e",
   "metadata": {
    "slideshow": {
     "slide_type": "subslide"
    }
   },
   "outputs": [
    {
     "ename": "NameError",
     "evalue": "name 'pd' is not defined",
     "output_type": "error",
     "traceback": [
      "\u001b[1;31m---------------------------------------------------------------------------\u001b[0m",
      "\u001b[1;31mNameError\u001b[0m                                 Traceback (most recent call last)",
      "\u001b[1;32mc:\\Users\\PROFESSOR\\estudos-reprograma\\semana13\\on26-python-s13-projeto-guiado-II\\exercicios\\para-sala\\modelo.ipynb Cell 5\u001b[0m line \u001b[0;36m1\n\u001b[1;32m----> <a href='vscode-notebook-cell:/c%3A/Users/PROFESSOR/estudos-reprograma/semana13/on26-python-s13-projeto-guiado-II/exercicios/para-sala/modelo.ipynb#W4sZmlsZQ%3D%3D?line=0'>1</a>\u001b[0m df \u001b[39m=\u001b[39m pd\u001b[39m.\u001b[39mread_csv(\u001b[39m\"\u001b[39m\u001b[39m \u001b[39m\u001b[39m\"\u001b[39m, sep\u001b[39m=\u001b[39m\u001b[39m\"\u001b[39m\u001b[39m,\u001b[39m\u001b[39m\"\u001b[39m , encoding\u001b[39m=\u001b[39m \u001b[39m'\u001b[39m\u001b[39mUTF-8\u001b[39m\u001b[39m'\u001b[39m) \n",
      "\u001b[1;31mNameError\u001b[0m: name 'pd' is not defined"
     ]
    }
   ],
   "source": [
    "df = pd.read_csv(\" \", sep=\",\" , encoding= 'UTF-8') "
   ]
  },
  {
   "cell_type": "markdown",
   "id": "47cf3339",
   "metadata": {
    "slideshow": {
     "slide_type": "subslide"
    }
   },
   "source": [
    "Mostrando que tipo é o df"
   ]
  },
  {
   "cell_type": "code",
   "execution_count": null,
   "id": "b0542515",
   "metadata": {
    "slideshow": {
     "slide_type": "subslide"
    }
   },
   "outputs": [],
   "source": [
    "print(type(df))"
   ]
  },
  {
   "cell_type": "markdown",
   "id": "1e94af81",
   "metadata": {},
   "source": [
    "para ver memória utilizada no df"
   ]
  },
  {
   "cell_type": "code",
   "execution_count": null,
   "id": "36ba974e",
   "metadata": {
    "slideshow": {
     "slide_type": "subslide"
    }
   },
   "outputs": [],
   "source": [
    "df.dtypes"
   ]
  },
  {
   "cell_type": "markdown",
   "id": "b658b9b9",
   "metadata": {},
   "source": [
    "para ver memória utilizada no df"
   ]
  },
  {
   "cell_type": "code",
   "execution_count": null,
   "id": "527de632",
   "metadata": {},
   "outputs": [],
   "source": [
    "df.info(memory_usage=\"deep\")"
   ]
  },
  {
   "cell_type": "markdown",
   "id": "41097c79",
   "metadata": {},
   "source": [
    "para ver se tem nulos, por exemplo"
   ]
  },
  {
   "cell_type": "code",
   "execution_count": null,
   "id": "f0980c49",
   "metadata": {},
   "outputs": [],
   "source": [
    "df.info()"
   ]
  },
  {
   "cell_type": "markdown",
   "id": "3e7f2547",
   "metadata": {},
   "source": [
    "Imprime as 10 primeiras"
   ]
  },
  {
   "cell_type": "code",
   "execution_count": null,
   "id": "2dc626b0",
   "metadata": {},
   "outputs": [],
   "source": [
    "df.head(10)"
   ]
  },
  {
   "cell_type": "markdown",
   "id": "bd719783",
   "metadata": {},
   "source": [
    "para ver as informações do data frame linhas e colunas"
   ]
  },
  {
   "cell_type": "code",
   "execution_count": null,
   "id": "59a424ed",
   "metadata": {},
   "outputs": [],
   "source": [
    "df.shape"
   ]
  },
  {
   "cell_type": "code",
   "execution_count": null,
   "id": "2f478d7b",
   "metadata": {},
   "outputs": [],
   "source": [
    "# Conte os valores na coluna 'XXXXXXXX' e pegue os top 5\n",
    "contagem = df['XXXXX'].value_counts().head(5)\n",
    "\n",
    "# Crie um histograma personalizado para os top 5 países\n",
    "plt.bar(contagem.index, contagem.values)\n",
    "\n",
    "# Adicione rótulos e um título ao gráfico\n",
    "plt.xlabel('País')\n",
    "plt.ylabel('Quantidade')\n",
    "plt.title('Distribuição dos 5 Países com canais mais Visitados')\n",
    "\n",
    "# Exiba o gráfico\n",
    "plt.show()"
   ]
  },
  {
   "cell_type": "markdown",
   "id": "4e69ac4d",
   "metadata": {},
   "source": [
    "classificando o DataFrame df com base na coluna 'Suscribers' do maior para o menor usando sort_values().\n",
    "Em seguida, estamos pegando os 5 primeiros canais com mais inscritos usando head(5) e armazenando-os na variável top5_canais.\n",
    "criamos um gráfico de barras usando Matplotlib. \n",
    "Primeiro, definimos o tamanho da figura com plt.figure(figsize=(10, 6)).\n",
    "Em seguida, usamos plt.bar() para criar o gráfico de barras, onde top3_canais['Username'] é usado no eixo x \n",
    "e top5_canais['Suscribers'] no eixo y  \n",
    "A cor das barras é definida como 'skyblue', e adicionamos rótulos e um título ao gráfico.\n",
    "Nesta parte, estamos adicionando anotações ao gráfico para indicar o país de cada canal.\n",
    "\n",
    "Usamos um loop for para percorrer os canais no DataFrame top5_canais. \n",
    "Para cada canal, pegamos o país correspondente usando top5_canais.iloc[i]['Country'] e usamos plt.annotate() para adicionar essa informação ao gráfico. \n",
    "As coordenadas (channel, top5_canais.iloc[i]['Suscribers'])\n",
    "indicam onde a anotação será colocada, e ha='center' e va='bottom'\n",
    "controlam a posição do texto em relação ao ponto de anotação."
   ]
  },
  {
   "cell_type": "code",
   "execution_count": 1,
   "id": "37aa075a",
   "metadata": {},
   "outputs": [
    {
     "ename": "NameError",
     "evalue": "name 'df' is not defined",
     "output_type": "error",
     "traceback": [
      "\u001b[1;31m---------------------------------------------------------------------------\u001b[0m",
      "\u001b[1;31mNameError\u001b[0m                                 Traceback (most recent call last)",
      "\u001b[1;32mc:\\Users\\PROFESSOR\\estudos-reprograma\\semana13\\on26-python-s13-projeto-guiado-II\\exercicios\\para-sala\\modelo.ipynb Cell 20\u001b[0m line \u001b[0;36m2\n\u001b[0;32m      <a href='vscode-notebook-cell:/c%3A/Users/PROFESSOR/estudos-reprograma/semana13/on26-python-s13-projeto-guiado-II/exercicios/para-sala/modelo.ipynb#X25sZmlsZQ%3D%3D?line=0'>1</a>\u001b[0m \u001b[39m# Classifique o DataFrame pela coluna 'Suscribers' em ordem decrescente e pegue os 5 maiores\u001b[39;00m\n\u001b[1;32m----> <a href='vscode-notebook-cell:/c%3A/Users/PROFESSOR/estudos-reprograma/semana13/on26-python-s13-projeto-guiado-II/exercicios/para-sala/modelo.ipynb#X25sZmlsZQ%3D%3D?line=1'>2</a>\u001b[0m top5_canais \u001b[39m=\u001b[39m df\u001b[39m.\u001b[39msort_values(by\u001b[39m=\u001b[39m\u001b[39m'\u001b[39m\u001b[39mSuscribers\u001b[39m\u001b[39m'\u001b[39m, ascending\u001b[39m=\u001b[39m\u001b[39mFalse\u001b[39;00m)\u001b[39m.\u001b[39mhead(\u001b[39m5\u001b[39m)\n\u001b[0;32m      <a href='vscode-notebook-cell:/c%3A/Users/PROFESSOR/estudos-reprograma/semana13/on26-python-s13-projeto-guiado-II/exercicios/para-sala/modelo.ipynb#X25sZmlsZQ%3D%3D?line=3'>4</a>\u001b[0m \u001b[39m# Crie um gráfico de barras para os 3 canais com mais inscritos e seus países\u001b[39;00m\n\u001b[0;32m      <a href='vscode-notebook-cell:/c%3A/Users/PROFESSOR/estudos-reprograma/semana13/on26-python-s13-projeto-guiado-II/exercicios/para-sala/modelo.ipynb#X25sZmlsZQ%3D%3D?line=4'>5</a>\u001b[0m plt\u001b[39m.\u001b[39mfigure(figsize\u001b[39m=\u001b[39m(\u001b[39m10\u001b[39m, \u001b[39m6\u001b[39m))\n",
      "\u001b[1;31mNameError\u001b[0m: name 'df' is not defined"
     ]
    }
   ],
   "source": [
    "# Classifique o DataFrame pela coluna 'Suscribers' em ordem decrescente e pegue os 5 maiores\n",
    "top5_canais = df.sort_values(by='Suscribers', ascending=False).head(5)\n",
    "\n",
    "# Crie um gráfico de barras para os 3 canais com mais inscritos e seus países\n",
    "plt.figure(figsize=(10, 6))\n",
    "plt.bar(top5_canais['Username'], top5_canais['Suscribers'], color='skyblue')\n",
    "plt.xlabel('Canal')\n",
    "plt.ylabel('Inscritos')\n",
    "plt.title('Top 5 Canais com Mais Inscritos e seus Países')\n",
    "plt.xticks(rotation=45, ha='right')\n",
    "\n",
    "# Anote o país de cada canal no gráfico\n",
    "for i, channel in enumerate(top5_canais['Username']):\n",
    "    country = top5_canais.iloc[i]['Country']\n",
    "    plt.annotate(country, (channel, top5_canais.iloc[i]['Suscribers']), ha='center', va='bottom')\n",
    "\n",
    "plt.show()"
   ]
  },
  {
   "cell_type": "code",
   "execution_count": null,
   "id": "c8e0ffef",
   "metadata": {},
   "outputs": [],
   "source": []
  }
 ],
 "metadata": {
  "kernelspec": {
   "display_name": "Python 3 (ipykernel)",
   "language": "python",
   "name": "python3"
  },
  "language_info": {
   "codemirror_mode": {
    "name": "ipython",
    "version": 3
   },
   "file_extension": ".py",
   "mimetype": "text/x-python",
   "name": "python",
   "nbconvert_exporter": "python",
   "pygments_lexer": "ipython3",
   "version": "3.12.0"
  }
 },
 "nbformat": 4,
 "nbformat_minor": 5
}
